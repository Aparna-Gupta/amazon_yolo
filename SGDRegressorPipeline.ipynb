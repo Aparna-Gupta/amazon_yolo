{
 "cells": [
  {
   "cell_type": "code",
   "execution_count": 2,
   "metadata": {
    "collapsed": true
   },
   "outputs": [],
   "source": [
    "%matplotlib inline\n",
    "\n",
    "import numpy as np\n",
    "import statsmodels.api as sm\n",
    "from scipy import stats\n",
    "import pandas as pd\n",
    "import matplotlib.pyplot as plt\n",
    "from matplotlib.pylab import rcParams\n",
    "\n",
    "from sklearn.linear_model import SGDRegressor\n",
    "from sklearn.preprocessing import StandardScaler\n",
    "from sklearn import metrics\n",
    "\n",
    "from collections import OrderedDict\n",
    "import seaborn as sns\n",
    "import matplotlib.pyplot as plt\n",
    "\n",
    "from IPython.display import display, HTML"
   ]
  },
  {
   "cell_type": "code",
   "execution_count": 14,
   "metadata": {},
   "outputs": [
    {
     "name": "stderr",
     "output_type": "stream",
     "text": [
      "/Users/megh/anaconda/lib/python3.6/site-packages/sklearn/linear_model/stochastic_gradient.py:84: FutureWarning: max_iter and tol parameters have been added in <class 'sklearn.linear_model.stochastic_gradient.SGDRegressor'> in 0.19. If both are left unset, they default to max_iter=5 and tol=None. If tol is not None, max_iter defaults to max_iter=1000. From 0.21, default max_iter will be 1000, and default tol will be 1e-3.\n",
      "  \"and default tol will be 1e-3.\" % type(self), FutureWarning)\n"
     ]
    },
    {
     "name": "stdout",
     "output_type": "stream",
     "text": [
      "RMSE in terms of log(sales rank) =  1.54257687123\n",
      "in terms of normal sales rank this is =  4.67662581984\n"
     ]
    }
   ],
   "source": [
    "data = pd.read_csv('./data/final_regression_dataset.csv')\n",
    "# remove asins\n",
    "data = data.drop('ASIN',axis=1)\n",
    "# one hot encoding for any categorical vars\n",
    "data = pd.get_dummies(data)\n",
    "\n",
    "x = data.loc[:, data.columns != 'salesRank']\n",
    "y = data.loc[:, data.columns == 'salesRank']\n",
    "# apply log to the sales rank column\n",
    "y = y.apply(np.log)\n",
    "\n",
    "# Prepare varaibles for SGDRegressor\n",
    "X = x.as_matrix(columns=x.columns.tolist())  \n",
    "Y = y[\"salesRank\"].tolist() \n",
    "\n",
    "# Scale X\n",
    "scaler = StandardScaler()\n",
    "scaler.fit(X)\n",
    "X = scaler.transform(X)\n",
    "\n",
    "# Create an SGDClassifier instance for linear regression by SGD\n",
    "model = SGDRegressor(loss=\"squared_loss\", penalty=None)\n",
    "model.n_iter = np.ceil(10**6 / len(Y))\n",
    "model.fit(X,Y)\n",
    "\n",
    "# make predictions\n",
    "y_pred = model.predict(X)\n",
    "rmse = np.sqrt(metrics.mean_squared_error(Y, y_pred))\n",
    "print(\"RMSE in terms of log(sales rank) = \",rmse)\n",
    "print(\"in terms of normal sales rank this is = \", np.e**(rmse))"
   ]
  }
 ],
 "metadata": {
  "kernelspec": {
   "display_name": "Python [default]",
   "language": "python",
   "name": "python3"
  },
  "language_info": {
   "codemirror_mode": {
    "name": "ipython",
    "version": 3
   },
   "file_extension": ".py",
   "mimetype": "text/x-python",
   "name": "python",
   "nbconvert_exporter": "python",
   "pygments_lexer": "ipython3",
   "version": "3.6.2"
  }
 },
 "nbformat": 4,
 "nbformat_minor": 2
}
