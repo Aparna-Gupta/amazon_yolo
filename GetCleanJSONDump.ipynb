{
 "cells": [
  {
   "cell_type": "code",
   "execution_count": 23,
   "metadata": {
    "collapsed": true
   },
   "outputs": [],
   "source": [
    "import json\n",
    "\n",
    "f = open('../amazon_yolo_data/reviews_Home_and_Kitchen_5.json', 'r')\n",
    "l = f.readlines()\n",
    "megaAsinDict = {}\n",
    "for line in l:\n",
    "    asinDict = json.loads(line)\n",
    "    if asinDict[\"asin\"] in megaAsinDict:\n",
    "        megaAsinDict[asinDict[\"asin\"]][\"review_list\"].append([asinDict[\"helpful\"][1], asinDict[\"helpful\"][0], asinDict[\"reviewText\"]])\n",
    "    else:\n",
    "        megaAsinDict[asinDict[\"asin\"]] = {\"review_list\" : [[asinDict[\"helpful\"][1], asinDict[\"helpful\"][0], \n",
    "                                                           asinDict[\"reviewText\"]]]}"
   ]
  },
  {
   "cell_type": "code",
   "execution_count": 28,
   "metadata": {
    "collapsed": false
   },
   "outputs": [
    {
     "data": {
      "text/plain": [
       "28237"
      ]
     },
     "execution_count": 28,
     "metadata": {},
     "output_type": "execute_result"
    }
   ],
   "source": [
    "len(megaAsinDict.keys())"
   ]
  },
  {
   "cell_type": "code",
   "execution_count": 26,
   "metadata": {
    "collapsed": true
   },
   "outputs": [],
   "source": [
    "def getMostHelpfulReview(listOfReviews):\n",
    "    allReviewsDict = {}\n",
    "    for review in listOfReviews:\n",
    "        if float(review[0]) > 0.0:\n",
    "            allReviewsDict[float(review[1])/float(review[0])] = review[2]\n",
    "    if len(allReviewsDict.keys()) > 0:\n",
    "        return allReviewsDict[max(allReviewsDict.keys())]\n",
    "    else:\n",
    "        return \"NA\"\n",
    "\n",
    "asinReviewDict = {}\n",
    "for asin in megaAsinDict:\n",
    "    bestReview = getMostHelpfulReview(megaAsinDict[asin][\"review_list\"])\n",
    "    if not bestReview == \"NA\":\n",
    "        asinReviewDict[asin] = {\"Best review\" : bestReview}"
   ]
  },
  {
   "cell_type": "code",
   "execution_count": 31,
   "metadata": {
    "collapsed": true
   },
   "outputs": [],
   "source": [
    "with open('./out/asinReviewDict.json', 'w') as outfile:\n",
    "    json.dump(asinReviewDict, outfile)"
   ]
  }
 ],
 "metadata": {
  "kernelspec": {
   "display_name": "Python 3",
   "language": "python",
   "name": "python3"
  },
  "language_info": {
   "codemirror_mode": {
    "name": "ipython",
    "version": 3
   },
   "file_extension": ".py",
   "mimetype": "text/x-python",
   "name": "python",
   "nbconvert_exporter": "python",
   "pygments_lexer": "ipython3",
   "version": "3.5.3"
  }
 },
 "nbformat": 4,
 "nbformat_minor": 2
}
