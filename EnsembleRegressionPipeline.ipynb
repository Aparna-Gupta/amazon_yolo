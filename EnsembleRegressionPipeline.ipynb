{
 "cells": [
  {
   "cell_type": "code",
   "execution_count": 19,
   "metadata": {},
   "outputs": [
    {
     "name": "stderr",
     "output_type": "stream",
     "text": [
      "/Users/megh/anaconda/lib/python3.6/site-packages/sklearn/cross_validation.py:41: DeprecationWarning: This module was deprecated in version 0.18 in favor of the model_selection module into which all the refactored classes and functions are moved. Also note that the interface of the new CV iterators are different from that of this module. This module will be removed in 0.20.\n",
      "  \"This module will be removed in 0.20.\", DeprecationWarning)\n"
     ]
    }
   ],
   "source": [
    "from sklearn.tree import DecisionTreeRegressor\n",
    "from sklearn.ensemble import BaggingRegressor\n",
    "from sklearn.utils import check_random_state\n",
    "from sklearn import metrics\n",
    "from sklearn.cross_validation import train_test_split\n",
    "\n",
    "\n",
    "import pandas as pd\n",
    "import numpy as np"
   ]
  },
  {
   "cell_type": "code",
   "execution_count": 23,
   "metadata": {},
   "outputs": [
    {
     "name": "stdout",
     "output_type": "stream",
     "text": [
      "(15179, 404) (15179, 1) (5060, 404) (5060, 1)\n"
     ]
    }
   ],
   "source": [
    "# try again with log sales rank as the target variable\n",
    "data = pd.read_csv('./data/final_regression_dataset.csv')\n",
    "# remove asins\n",
    "data = data.drop('ASIN',axis=1)\n",
    "# one hot encoding for any categorical vars\n",
    "data = pd.get_dummies(data)\n",
    "y = data.loc[:, data.columns == 'salesRank']\n",
    "# y = y[\"salesRank\"].tolist() \n",
    "# # apply log to the sales rank column\n",
    "# y = y.apply(np.log)\n",
    "# keep rest of the variables as it is\n",
    "x = data.loc[:, data.columns != 'salesRank']\n",
    "# split 75% for training and 25% for testing\n",
    "X_train, X_test, y_train, y_test = train_test_split(x, y, random_state=1)\n",
    "print(X_train.shape, y_train.shape, X_test.shape, y_test.shape)\n",
    "y_train = y_train[\"salesRank\"].tolist() \n",
    "y_test = y_test[\"salesRank\"].tolist()"
   ]
  },
  {
   "cell_type": "code",
   "execution_count": 25,
   "metadata": {},
   "outputs": [
    {
     "name": "stdout",
     "output_type": "stream",
     "text": [
      "RMSE in terms of sales rank =  78442.4170835 R2 =  1.0\n"
     ]
    }
   ],
   "source": [
    "base_estimator = DecisionTreeRegressor().fit(X_train, y_train)\n",
    "\n",
    "# make predictions using DecisionTreeRegressor\n",
    "y_pred = base_estimator.predict(X_test)\n",
    "rmse = np.sqrt(metrics.mean_squared_error(y_test, y_pred))\n",
    "print(\"RMSE in terms of sales rank = \",rmse, \"R2 = \", base_estimator.score(X_train,y_train))"
   ]
  },
  {
   "cell_type": "code",
   "execution_count": 28,
   "metadata": {},
   "outputs": [
    {
     "name": "stdout",
     "output_type": "stream",
     "text": [
      "RMSE in terms of log(sales rank) =  73141.7753639 R2 =  1.0\n"
     ]
    }
   ],
   "source": [
    "# Next try ensembling\n",
    "rng = check_random_state(0)\n",
    "\n",
    "# without bootstrap, all trees are perfect on the training set\n",
    "model = BaggingRegressor(base_estimator=DecisionTreeRegressor(),\n",
    "                            max_samples=1.0,\n",
    "                            bootstrap=False,\n",
    "                            random_state=rng).fit(X_train, y_train)\n",
    "# make predictions using Bagging Regressor\n",
    "y_pred = model.predict(X_test)\n",
    "rmse = np.sqrt(metrics.mean_squared_error(y_test, y_pred))\n",
    "print(\"RMSE in terms of log(sales rank) = \",rmse, \"R2 = \", model.score(X_train,y_train))"
   ]
  },
  {
   "cell_type": "code",
   "execution_count": 31,
   "metadata": {},
   "outputs": [
    {
     "name": "stdout",
     "output_type": "stream",
     "text": [
      "RMSE in terms of log(sales rank) =  56886.0274835 R2 =  0.860026387242\n"
     ]
    }
   ],
   "source": [
    "# ensemble with bootstraping and more estimators\n",
    "model = BaggingRegressor(base_estimator=DecisionTreeRegressor(),\n",
    "                            max_samples=1.0,\n",
    "                            bootstrap=True,\n",
    "                            random_state=rng,\n",
    "                            n_estimators=250\n",
    "                        ).fit(X_train, y_train)\n",
    "# make predictions using Bagging Regressor\n",
    "y_pred = model.predict(X_test)\n",
    "rmse = np.sqrt(metrics.mean_squared_error(y_test, y_pred))\n",
    "print(\"RMSE in terms of log(sales rank) = \",rmse, \"R2 = \", model.score(X_train,y_train))"
   ]
  },
  {
   "cell_type": "code",
   "execution_count": null,
   "metadata": {
    "collapsed": true
   },
   "outputs": [],
   "source": [
    "# try random forests"
   ]
  }
 ],
 "metadata": {
  "kernelspec": {
   "display_name": "Python [default]",
   "language": "python",
   "name": "python3"
  },
  "language_info": {
   "codemirror_mode": {
    "name": "ipython",
    "version": 3
   },
   "file_extension": ".py",
   "mimetype": "text/x-python",
   "name": "python",
   "nbconvert_exporter": "python",
   "pygments_lexer": "ipython3",
   "version": "3.6.2"
  }
 },
 "nbformat": 4,
 "nbformat_minor": 2
}
