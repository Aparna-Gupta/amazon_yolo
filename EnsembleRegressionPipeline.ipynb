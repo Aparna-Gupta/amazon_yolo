{
 "cells": [
  {
   "cell_type": "code",
   "execution_count": 36,
   "metadata": {},
   "outputs": [],
   "source": [
    "from sklearn.tree import DecisionTreeRegressor\n",
    "from sklearn.ensemble import BaggingRegressor\n",
    "from sklearn.utils import check_random_state\n",
    "from sklearn import metrics\n",
    "from sklearn.cross_validation import train_test_split\n",
    "from sklearn.ensemble import RandomForestRegressor\n",
    "from sklearn import metrics\n",
    "from sklearn.linear_model import Lasso\n",
    "\n",
    "import pandas as pd\n",
    "import numpy as np"
   ]
  },
  {
   "cell_type": "code",
   "execution_count": 23,
   "metadata": {},
   "outputs": [
    {
     "name": "stdout",
     "output_type": "stream",
     "text": [
      "(15179, 404) (15179, 1) (5060, 404) (5060, 1)\n"
     ]
    }
   ],
   "source": [
    "# try again with log sales rank as the target variable\n",
    "data = pd.read_csv('./data/final_regression_dataset.csv')\n",
    "# remove asins\n",
    "data = data.drop('ASIN',axis=1)\n",
    "# one hot encoding for any categorical vars\n",
    "data = pd.get_dummies(data)\n",
    "y = data.loc[:, data.columns == 'salesRank']\n",
    "# y = y[\"salesRank\"].tolist() \n",
    "# # apply log to the sales rank column\n",
    "# y = y.apply(np.log)\n",
    "# keep rest of the variables as it is\n",
    "x = data.loc[:, data.columns != 'salesRank']\n",
    "# split 75% for training and 25% for testing\n",
    "X_train, X_test, y_train, y_test = train_test_split(x, y, random_state=1)\n",
    "print(X_train.shape, y_train.shape, X_test.shape, y_test.shape)\n",
    "y_train = y_train[\"salesRank\"].tolist() \n",
    "y_test = y_test[\"salesRank\"].tolist()"
   ]
  },
  {
   "cell_type": "code",
   "execution_count": 25,
   "metadata": {},
   "outputs": [
    {
     "name": "stdout",
     "output_type": "stream",
     "text": [
      "RMSE in terms of sales rank =  78442.4170835 R2 =  1.0\n"
     ]
    }
   ],
   "source": [
    "base_estimator = DecisionTreeRegressor().fit(X_train, y_train)\n",
    "\n",
    "# make predictions using DecisionTreeRegressor\n",
    "y_pred = base_estimator.predict(X_test)\n",
    "rmse = np.sqrt(metrics.mean_squared_error(y_test, y_pred))\n",
    "print(\"RMSE in terms of sales rank = \",rmse, \"R2 = \", base_estimator.score(X_train,y_train))"
   ]
  },
  {
   "cell_type": "code",
   "execution_count": 28,
   "metadata": {},
   "outputs": [
    {
     "name": "stdout",
     "output_type": "stream",
     "text": [
      "RMSE in terms of log(sales rank) =  73141.7753639 R2 =  1.0\n"
     ]
    }
   ],
   "source": [
    "# Next try ensembling\n",
    "rng = check_random_state(0)\n",
    "\n",
    "# without bootstrap, all trees are perfect on the training set\n",
    "model = BaggingRegressor(base_estimator=DecisionTreeRegressor(),\n",
    "                            max_samples=1.0,\n",
    "                            bootstrap=False,\n",
    "                            random_state=rng).fit(X_train, y_train)\n",
    "# make predictions using Bagging Regressor\n",
    "y_pred = model.predict(X_test)\n",
    "rmse = np.sqrt(metrics.mean_squared_error(y_test, y_pred))\n",
    "print(\"RMSE in terms of sales rank = \",rmse, \"R2 = \", model.score(X_train,y_train))"
   ]
  },
  {
   "cell_type": "code",
   "execution_count": 31,
   "metadata": {},
   "outputs": [
    {
     "name": "stdout",
     "output_type": "stream",
     "text": [
      "RMSE in terms of log(sales rank) =  56886.0274835 R2 =  0.860026387242\n"
     ]
    }
   ],
   "source": [
    "# ensemble with bootstraping and more estimators\n",
    "model = BaggingRegressor(base_estimator=DecisionTreeRegressor(),\n",
    "                            max_samples=1.0,\n",
    "                            bootstrap=True,\n",
    "                            random_state=rng,\n",
    "                            n_estimators=250\n",
    "                        ).fit(X_train, y_train)\n",
    "# make predictions using Bagging Regressor\n",
    "y_pred = model.predict(X_test)\n",
    "rmse = np.sqrt(metrics.mean_squared_error(y_test, y_pred))\n",
    "print(\"RMSE in terms of log(sales rank) = \",rmse, \"R2 = \", model.score(X_train,y_train))"
   ]
  },
  {
   "cell_type": "code",
   "execution_count": 34,
   "metadata": {},
   "outputs": [
    {
     "name": "stdout",
     "output_type": "stream",
     "text": [
      "RMSE in terms of log(sales rank) =  57016.7174201 R2 =  0.859433766997\n"
     ]
    }
   ],
   "source": [
    "# try random forests\n",
    "model = RandomForestRegressor(n_estimators=250)\n",
    "model.fit(X_train,y_train)\n",
    "y_pred = model.predict(X_test)\n",
    "rmse = np.sqrt(metrics.mean_squared_error(y_test, y_pred))\n",
    "print(\"RMSE in terms of log(sales rank) = \",rmse, \"R2 = \", model.score(X_train,y_train))"
   ]
  },
  {
   "cell_type": "code",
   "execution_count": 65,
   "metadata": {},
   "outputs": [
    {
     "name": "stdout",
     "output_type": "stream",
     "text": [
      "RMSE in terms of log(sales rank) =  1.45882400431\n",
      "in terms of normal sales rank this is =  4.30089871484\n"
     ]
    }
   ],
   "source": [
    "# try reducing the features to those selected by lasso\n",
    "# for alpha = 0.00008 we get RMSE = 1.45 while removing 266 features\n",
    "# Lets look at the features not removed by Lasso\n",
    "\n",
    "data = pd.read_csv('./data/final_regression_dataset.csv')\n",
    "# remove asins\n",
    "data = data.drop('ASIN',axis=1)\n",
    "# one hot encoding for any categorical vars\n",
    "data = pd.get_dummies(data)\n",
    "y = data.loc[:, data.columns == 'salesRank']\n",
    "# apply log to the sales rank column\n",
    "y = y.apply(np.log)\n",
    "# keep rest of the variables as it is\n",
    "x = data.loc[:, data.columns != 'salesRank']\n",
    "names = x.columns.tolist()\n",
    "lasso = Lasso(alpha=0.00008,normalize=True, max_iter=10000)\n",
    "lasso.fit(x, y)\n",
    "y_pred = lasso.predict(x)\n",
    "\n",
    "rmse = np.sqrt(metrics.mean_squared_error(y, y_pred))\n",
    "print(\"RMSE in terms of log(sales rank) = \",rmse)\n",
    "print(\"in terms of normal sales rank this is = \", np.e**(rmse))\n",
    "goodFeaturesDict = {}\n",
    "for n,c in zip(names, lasso.coef_):\n",
    "    if c != 0.0:\n",
    "        goodFeaturesDict[n] = c"
   ]
  },
  {
   "cell_type": "code",
   "execution_count": 67,
   "metadata": {},
   "outputs": [
    {
     "name": "stdout",
     "output_type": "stream",
     "text": [
      "RMSE in terms of log(sales rank) =  1.48258962266 in terms of normal sales rank this is =  4.40433649517 R2 =  0.867880618586\n"
     ]
    }
   ],
   "source": [
    "# use features selected by authority\n",
    "x = x[[*goodFeaturesDict.keys()]]\n",
    "X_train, X_test, y_train, y_test = train_test_split(x, y, random_state=1)\n",
    "y_train = y_train[\"salesRank\"].tolist() \n",
    "y_test = y_test[\"salesRank\"].tolist()\n",
    "\n",
    "# try random forests again\n",
    "model = RandomForestRegressor(n_estimators=100)\n",
    "model.fit(X_train,y_train)\n",
    "y_pred = model.predict(X_test)\n",
    "rmse = np.sqrt(metrics.mean_squared_error(y_test, y_pred))\n",
    "print(\"RMSE in terms of log(sales rank) = \",rmse, \n",
    "      \"in terms of normal sales rank this is = \", np.e**(rmse), \n",
    "      \"R2 = \", model.score(X_train,y_train))"
   ]
  },
  {
   "cell_type": "code",
   "execution_count": 69,
   "metadata": {},
   "outputs": [
    {
     "name": "stdout",
     "output_type": "stream",
     "text": [
      "(20239, 403)\n",
      "['Beauty', 'Grocery & Gourmet Food', 'Health & Personal Care', 'Sports &amp; Outdoors']\n"
     ]
    },
    {
     "name": "stderr",
     "output_type": "stream",
     "text": [
      "/Users/megh/anaconda/lib/python3.6/site-packages/ipykernel/__main__.py:11: FutureWarning: 'category' is both a column name and an index level.\n",
      "Defaulting to column but this will raise an ambiguity error in a future version\n"
     ]
    }
   ],
   "source": [
    "# read the entire dataset\n",
    "data = pd.read_csv(\"./data/final_regression_dataset.csv\")\n",
    "print(data.shape)\n",
    "# split data into dataframes for each category\n",
    "data.sort_values(by = ['category'], inplace=True)\n",
    "# set the index to be this and don't drop\n",
    "data.set_index(keys = ['category'], drop=False,inplace=True)\n",
    "# get a list of all product categories\n",
    "categories = data['category'].unique().tolist()\n",
    "print(categories)\n",
    "df = data.groupby('category').size()"
   ]
  }
 ],
 "metadata": {
  "kernelspec": {
   "display_name": "Python [default]",
   "language": "python",
   "name": "python3"
  },
  "language_info": {
   "codemirror_mode": {
    "name": "ipython",
    "version": 3
   },
   "file_extension": ".py",
   "mimetype": "text/x-python",
   "name": "python",
   "nbconvert_exporter": "python",
   "pygments_lexer": "ipython3",
   "version": "3.6.2"
  }
 },
 "nbformat": 4,
 "nbformat_minor": 2
}
