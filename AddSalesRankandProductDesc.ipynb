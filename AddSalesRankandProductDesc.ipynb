{
 "cells": [
  {
   "cell_type": "code",
   "execution_count": 1,
   "metadata": {
    "collapsed": true
   },
   "outputs": [],
   "source": [
    "import json\n",
    "\n",
    "asinReviewDict = json.load(open('./out/asinReviewDict.json'))"
   ]
  },
  {
   "cell_type": "code",
   "execution_count": null,
   "metadata": {
    "collapsed": true
   },
   "outputs": [],
   "source": [
    "# f = open('../amazon_yolo_data/metadata.json', 'r')\n",
    "# l = f.readlines()"
   ]
  },
  {
   "cell_type": "code",
   "execution_count": 6,
   "metadata": {
    "collapsed": false
   },
   "outputs": [],
   "source": [
    "from itertools import islice\n",
    "import pickle\n",
    "with open(\"../amazon_yolo_data/metadata.json\") as myfile:\n",
    "    l = list(islice(myfile, 100))\n",
    "    \n",
    "import simplejson\n",
    "f = open('output.txt', 'w')\n",
    "for l1 in l:\n",
    "    f.write(l1)\n",
    "f.close()"
   ]
  },
  {
   "cell_type": "code",
   "execution_count": 11,
   "metadata": {
    "collapsed": true
   },
   "outputs": [
    {
     "name": "stdout",
     "output_type": "stream",
     "text": [
      "lines read: 100000 products found: 0\n",
      "lines read: 200000 products found: 0\n",
      "lines read: 300000 products found: 0\n",
      "lines read: 400000 products found: 0\n",
      "lines read: 500000 products found: 2\n",
      "lines read: 600000 products found: 2\n",
      "lines read: 700000 products found: 2\n",
      "lines read: 800000 products found: 2\n",
      "lines read: 900000 products found: 3\n",
      "lines read: 1000000 products found: 3\n",
      "lines read: 1100000 products found: 3\n",
      "lines read: 1200000 products found: 3\n",
      "lines read: 1300000 products found: 3\n",
      "lines read: 1400000 products found: 4\n",
      "lines read: 1500000 products found: 4\n",
      "lines read: 1600000 products found: 4\n",
      "lines read: 1700000 products found: 5\n",
      "lines read: 1800000 products found: 9\n",
      "lines read: 1900000 products found: 11\n",
      "lines read: 2000000 products found: 302\n",
      "lines read: 2100000 products found: 1273\n",
      "lines read: 2200000 products found: 2312\n",
      "lines read: 2300000 products found: 3560\n",
      "lines read: 2400000 products found: 4271\n",
      "lines read: 2500000 products found: 5014\n",
      "lines read: 2600000 products found: 5586\n",
      "lines read: 2700000 products found: 6148\n",
      "lines read: 2800000 products found: 6929\n",
      "lines read: 2900000 products found: 7552\n",
      "lines read: 3000000 products found: 8226\n",
      "lines read: 3100000 products found: 8878\n",
      "lines read: 3200000 products found: 9468\n",
      "lines read: 3300000 products found: 9993\n",
      "lines read: 3400000 products found: 10312\n",
      "lines read: 3500000 products found: 10827\n",
      "lines read: 3600000 products found: 11478\n",
      "lines read: 3700000 products found: 12110\n",
      "lines read: 3800000 products found: 12588\n",
      "lines read: 3900000 products found: 12914\n",
      "lines read: 4000000 products found: 13402\n",
      "lines read: 4100000 products found: 13925\n",
      "lines read: 4200000 products found: 14459\n",
      "lines read: 4300000 products found: 15033\n",
      "lines read: 4400000 products found: 15603\n",
      "lines read: 4500000 products found: 16036\n",
      "lines read: 4600000 products found: 16455\n",
      "lines read: 4700000 products found: 16917\n",
      "lines read: 4800000 products found: 17360\n",
      "lines read: 4900000 products found: 17834\n",
      "lines read: 5000000 products found: 18255\n",
      "lines read: 5100000 products found: 18695\n",
      "lines read: 5200000 products found: 19056\n",
      "lines read: 5300000 products found: 19354\n",
      "lines read: 5400000 products found: 19656\n",
      "lines read: 5500000 products found: 20035\n",
      "lines read: 5600000 products found: 20313\n",
      "lines read: 5700000 products found: 20649\n",
      "lines read: 5800000 products found: 20952\n",
      "lines read: 5900000 products found: 21303\n",
      "lines read: 6000000 products found: 21606\n",
      "lines read: 6100000 products found: 21927\n",
      "lines read: 6200000 products found: 22204\n",
      "lines read: 6300000 products found: 22446\n",
      "lines read: 6400000 products found: 22696\n",
      "lines read: 6500000 products found: 22917\n",
      "lines read: 6600000 products found: 23115\n",
      "lines read: 6700000 products found: 23336\n",
      "lines read: 6800000 products found: 23539\n",
      "lines read: 6900000 products found: 23740\n",
      "lines read: 7000000 products found: 23949\n",
      "lines read: 7100000 products found: 24184\n",
      "lines read: 7200000 products found: 24390\n",
      "lines read: 7300000 products found: 24602\n",
      "lines read: 7400000 products found: 24769\n",
      "lines read: 7500000 products found: 24957\n",
      "lines read: 7600000 products found: 25118\n",
      "lines read: 7700000 products found: 25227\n",
      "lines read: 7800000 products found: 25342\n",
      "lines read: 7900000 products found: 25501\n",
      "lines read: 8000000 products found: 25631\n",
      "lines read: 8100000 products found: 25764\n",
      "lines read: 8200000 products found: 25882\n",
      "lines read: 8300000 products found: 26092\n",
      "lines read: 8400000 products found: 26238\n",
      "lines read: 8500000 products found: 26369\n",
      "lines read: 8600000 products found: 26482\n",
      "lines read: 8700000 products found: 26610\n",
      "lines read: 8800000 products found: 26729\n",
      "lines read: 8900000 products found: 26847\n",
      "lines read: 9000000 products found: 26950\n",
      "lines read: 9100000 products found: 27081\n",
      "lines read: 9200000 products found: 27177\n",
      "lines read: 9300000 products found: 27292\n",
      "lines read: 9400000 products found: 27447\n"
     ]
    }
   ],
   "source": [
    "import ast\n",
    "\n",
    "asinReviewSRPDTDict = {}\n",
    "products_found = 0\n",
    "lines_read = 0\n",
    "\n",
    "with open('../amazon_yolo_data/metadata.json') as fp: \n",
    "    line = fp.readline()\n",
    "    while line:\n",
    "        lines_read += 1\n",
    "        d = ast.literal_eval(line.strip())\n",
    "        if d['asin'] in asinReviewDict:\n",
    "            products_found += 1\n",
    "            asinReviewSRPDTDict[d['asin']] =  { \"Best review\" : asinReviewDict[d['asin']][\"Best review\"] }\n",
    "            if 'salesRank' in d:\n",
    "                asinReviewSRPDTDict[d['asin']] [\"salesRank\"] = d['salesRank']\n",
    "            if 'title' in d:\n",
    "                asinReviewSRPDTDict[d['asin']] [\"title\"] =  d['title']\n",
    "            if 'description' in d:\n",
    "                asinReviewSRPDTDict[d['asin']] [\"description\"] =  d['description']\n",
    "        if lines_read % 100000 == 0:\n",
    "            print(\"lines read:\",lines_read,\"products found:\", products_found)\n",
    "        line = fp.readline()"
   ]
  },
  {
   "cell_type": "code",
   "execution_count": null,
   "metadata": {
    "collapsed": false
   },
   "outputs": [],
   "source": [
    "import ast\n",
    "# from itertools import islice\n",
    "# with open(\"../amazon_yolo_data/metadata.json\") as myfile:\n",
    "#     l = list(islice(myfile, 100000))\n",
    "    \n",
    "asinReviewSRPDTDict = {}\n",
    "\n",
    "for line in l:\n",
    "    d = ast.literal_eval(line)\n",
    "    if d['asin'] in asinReviewDict:\n",
    "        asinReviewSRPDTDict[d['asin']] = {\n",
    "                                            \"Best review\" : asinReviewDict[d['asin']][\"Best review\"],\n",
    "                                              \"salesRank\": d['salesRank'],\n",
    "                                              \"title\":  d['title'],\n",
    "                                              \"description\" : d['description']\n",
    "                                         }"
   ]
  },
  {
   "cell_type": "code",
   "execution_count": 12,
   "metadata": {
    "collapsed": false
   },
   "outputs": [
    {
     "data": {
      "text/plain": [
       "27482"
      ]
     },
     "execution_count": 12,
     "metadata": {},
     "output_type": "execute_result"
    }
   ],
   "source": [
    "len(asinReviewSRPDTDict)"
   ]
  },
  {
   "cell_type": "code",
   "execution_count": 23,
   "metadata": {
    "collapsed": true
   },
   "outputs": [],
   "source": [
    "i = 0\n",
    "asins = []\n",
    "for key in asinReviewSRPDTDict:\n",
    "    asins.append(key)\n",
    "    i+=1\n",
    "    if i > 100:\n",
    "        break"
   ]
  },
  {
   "cell_type": "code",
   "execution_count": 25,
   "metadata": {
    "collapsed": true
   },
   "outputs": [
    {
     "name": "stdout",
     "output_type": "stream",
     "text": [
      "{'title': 'Chester The Cat/Kitten Salt &amp; Pepper Shakers', 'salesRank': {'Kitchen & Dining': 87043}, 'Best review': \"These Chester Cats are exactly as pictured & make me smile every time I look at them.  I'm not using them for salt & pepper: they're in my curio cabinet being their sweet kitty selves as collectables.  All cat lovers would love these.\", 'description': 'Adorable set of salt and pepper shakers'}\n",
      "{'title': 'George Foreman GV5 Roaster and Contact Cooker', 'salesRank': {'Kitchen & Dining': 145426}, 'Best review': \"This works pretty good when you're in a hurry to make a quick chicken dinner. Would be nice if it was a little bigger. Overall,I would buy it because I hate tying up chickens with string! With this little gadget, you just wash, season and toss the chicken in. The only down side is the clean up. If you don't clean it right away, the juice and stuck on pieces get to be very difficult to remove. (They literally have to be soaked with wet paper towels.)\", 'description': \"George Foreman&#x92;s GV5 Contact Cooker&#x92;s upper and lower heating elements provide even, thorough cooking. The automatic, temperature control monitors and controls the grill's temperature to make sure your food is cooked to perfection. Grill features a unique rib grill design that has an easy-to-clean, nonstick, aluminum coating which helps to promote healthier cooking since it uses less oil. For your convenience, grill provides an automatic, 8-minute preheat countdown and a 2-1/2-hour timer. Includes a slide-out grease tray, and a custom-fit, oval, baking pan.\"}\n",
      "{'title': 'CDN Infrared and Thermocouple Probe Thermometer', 'salesRank': {'Kitchen & Dining': 224845}, 'Best review': 'this is a wonderful product. accurate, easy to use and easy to store. love it!', 'description': \"CDN's Infrared/Thermocouple Probe Thermometer combines non-contact infrared and thermocouple technologies in a single innovative tool to ensure the best culinary results and food safety. In addition to quick scanning of surface temperatures, this versatile thermometer features Minimum, Maximum, and Lock modes for scanning multiple targets over time. Integrated HACCP check lights and icons instantly show if temperatures are within HACCP guidelines for safe food temperatures. Multi-faceted, it also offers white light target illumination, battery status indication and a flip down rapid-response thermocouple probe for measuring internal temperatures.  Infrared: -67 to +572&#xB0;F/-55 to +250&#xB0;C Thermocouple: -67 to +626&#xB0;F/-55 to +330&#xB0;C\"}\n",
      "{'title': 'Bamboo Cutting Board Set - 3-piece Small, Medium, and Large Strong Bamboo Wood Cutting Boards with Handle by Premium Bamboo', 'salesRank': {'Kitchen & Dining': 3420}, 'Best review': \"I bought this for my son in upstate NY for his first apartment. I figured he needed a new cutting board and figured for the price this would be perfect. He told me this is a great set but his only beef is that the smallest of the 3 cutting boards is extremely small. Told him that would be perfect for dicing an onion or chopping up a tomato or scallions. He told me he never thought of that. After a few more months I asked him what he thinks now..he stated they're holding up perfectly and even his new roommate wanted to know where he could get a set. This is a staple in my son's apartment.\", 'description': 'New And Improved Set With Larger Handles And Rounded Edges Guaranteed To LastTired of the low quality cutting boards that warp, split, break, or have small handles with sharp edges?Premium Bamboo set out to design and manufacture a cutting board set that will solve all the issues customers have withcheap cutting boards. You will not be disappointed with this bamboo wooden cutting board set.What Sets Premium Bamboo Cutting Board Set Apart From The Rest?- This cutting board is eco-friendly, biodegradable, and antimicrobial- Very light yet extremely durable thanks to bamboo\\'s natural benefits- Strong and thick cutting board which will not dull your knifes- Less porous, there are fewer spaces for the bacteria to get trapped unlike other cutting boards- Cleans easily, just wash by hand with soap and water, and let them air dry- Cutting board has rounded corners and edges with larger handles which looks great and makes for easy and safe carrying- Stores easily anywhere in your kitchen due to its convenient size- FSC and FDA ApprovedWhat You GetThis 3-Piece Set Premium Bamboo Cutting Board Includes 3 Sizes:- Large: 13\" x 9.5\"- Medium: 11\" x 8.5\"- Small: 8\" x 6\"What is your risk?Nothing. If you are not happy with our product we will refund 100% of your money. Our products are always backed by100% Money Back No Question Asked Guarantee!Get this beautiful set today. You will not regret investing in high quality bamboo for your kitchen. Click theAdd to Cartbutton now and get your very own Premium Bamboo Cutting Board Set TODAY!'}\n",
      "{'title': \"Sun's Tea(Tm) 20oz Ultra Clear Strong Double Wall Glass Mug With Big Handle for Beer/Iced Tea/Soda\", 'salesRank': {'Kitchen & Dining': 89953}, 'Best review': 'I have ordered two mugs and they have been delivered extremely well-packed and very fast. Indeed they are hand-made and the glass is thicker than Bodum or others. Capacity is true 20oz, with 18 being usable. Inner bottom is NOT FLAT as in the picture - it is spherical.No two cups are alike - the inner bottom of one of my cups is much closer to the outer bottom than on the other. Height is the same, but diameters are not. The narrower mug has more inner depth, so the actual capacity is, indeed, the same! Their size makes one think about using them for beer, but make sure that your buddies are light-hearted, or one of them will leave thinking that he was served a \"smaller\" cup, though he was not - again, inner capacity is exactly the same, though it does not look like it from the outside.Love them, have much more faith in their longevity than the \"nicer\" looking European brands'}\n",
      "{'title': 'Rada Cutlery R108 Carver/Boner with Aluminum Handle', 'salesRank': {'Kitchen & Dining': 50569}, 'Best review': 'Good sharp blade, which I keep sharp using the rada sharpener.  I use it mostly to break down chickens, and it works great for that, it is lightweight and flexible and strong enough to do the job.  It has not plastic parts so I know when it finally breaks in two pieces (in about a hundred years?) no bits of plastic will be lying around polluting the environment.  Not good for peeling/cutting watermelons, but good for soft shelled fruits and vegetables (cantaloupes, chilis, etc).', 'description': 'Rada Cutlery Carver/Boner Knife. Used to carve meats - particularly poultry or filleting fish. Blade flexes when carving around bones.'}\n",
      "{'title': 'All-Clad 3011 Hard Anodized Dishwasher Safe 11-Inch Sqaure Grille Cookware, Black', 'salesRank': {'Kitchen & Dining': 23631}, 'Best review': 'Been using this a few years.  When it is bad weather out, we just go ahead and grease this with oil/do not use cooking spray oil/ Crisco liquid is great.  We gently smear it on with finger tips.  Then we season our steaks/not the pan what ever you do.  Why burn it on down in the grooves almost?  Anyhow, the steaks mark beautifully and we cook just about the time you might on a grill/ not extremely hot until it smokes by no means, but it turns out great.  We let it cool and then use a nylon pad with good hot soapy water and it cleans up like nothing you can imagine.  I would definitely buy one again.', 'description': \"Distinguished among All-Clad's renowned cookware collections by  its stylish, charcoal-black, hard-anodized aluminum exterior, the LTD  line provides serious and professional cooks with all the virtues that  make All-Clad's worldwide reputation unsurpassed. Key to its high  performance is a three-ply, bonded construction. Sandwiched between the  exterior and the interior lies a thick core of pure aluminum that  spreads heat evenly across the bottoms of pots and pans and all the way  up the sides. The striking exterior resists scratching, chipping, and  peeling. Certain pieces, like this one, have two interior layers, one  of 18/10 stainless steel and the other of scratch-resistant,  professional-grade nonstick bonded to the steel.This grill pan exemplifies why All-Clad's LTD cookware appeals to  contemporary cooks. It's 11 inches square, perfect for grilling four  big burgers or two porterhouse steaks. Plus, the meat will look better  than if it had come from a flat pan because the grill marks it  appetizingly. Because the grill's cooking surface is made of durable  nonstick, you can grill halibut steaks without fat for a healthy meal,  and the grill cleans up easily. Its polished, 18/10 stainless-steel  handle is secured to the pan by stainless-steel rivets for strength,  grooved on the top and rounded on the bottom for comfort, and holed in  the end for hanging on a hook or peg. The long handle stays cool on the  stovetop but won't be harmed by an oven's heat. LTD cookware carries a  lifetime warranty against defects and should be hand washed.--Fred  Brack\"}\n",
      "{'title': 'Greenland Home Blooming Prairie Full/Queen Quilt Bonus Set', 'salesRank': {'Home &amp; Kitchen': 316836}, 'Best review': 'Love this quilt.  Had looked locally and was not happy with prices of quilts available.  The price of this quilt was right for my budget.  When it arrived, we put it on the bed and it was just what the room needed.', 'description': \"The Blooming Prairie Bonus Quilt Set spreads a riot of garden colors across your bedroom scene. Quilt and pillow shams reverse to an all-over Jacobean print on a soft yellow ground for a truly versatile bed cover. Each fabric square is carefully seamed and quilted. Bonus sets come with decorative pillow(s). Quilt is oversized for better coverage on today's deeper mattresses. Each quilt set includes 1 quilt, 2 decorative pillows and 2 pillow shams (1 sham and 1 decorative pillow per Twin set). Sizes: Twin 68-Inch by 88-Inch, Full/Queen 90-Inch by 90-Inch, King 105-Inch by 95-Inch, pillow(s) 16 by 16-Inch\"}\n",
      "{'title': \"Allure Home Creations Something's Fishy Waste Basket\", 'salesRank': {'Home &amp; Kitchen': 24500}, 'Best review': 'Crabby makes me smile every time I go for the soap. Made of wood-not some cheap plastic so I think I will have him for a long time.', 'description': \"Add an ocean of fun to your bathroom with this wastebasket. The white plastic trash can features adorable fish, crabs, turtles and whales that introduce a splash of color to the piece. Complete the look with other items from the Something's Fishy collection.\"}\n",
      "{'title': 'Curious Chef 3-Piece Nylon Knife Set', 'salesRank': {'Kitchen & Dining': 857}, 'Best review': 'Perhaps an issue with our 6-year old daughters arm/hand strength, but also surely a testament to the fact that the knives are not particularly sharp, it proved difficult to use them for much cutting.  They worked ok on very soft items, but even moderate items were hard to cut with these knives.  Good, but not great.', 'description': ''}\n",
      "{'title': 'Vic Firth French Rolling Pin', 'salesRank': {'Kitchen & Dining': 70426}, 'Best review': \"It's the perfect size, light weight, not too big around so it rolls out very well. I just used it to make homemade pasta and it was an excellent tool. Pie crust will work equally well. This is the only kind of roller to use, all others are inferior. I've been baking and using roller pins for 30 years.\", 'description': \"Rolling out proper pie crusts that are both tender and flaky is a snap with this pin. Tapered from the middle to both ends, it rolls out dough thinly by pushing it from the middle. And it rotates easily around the dough for making perfect circles--a virtue for pizzas, also. It's unfinished so that, over time, flour penetrates the wood's pores--making the pin less sticky than finished pins.--Fred Brack\"}\n",
      "{'title': 'Calphalon Contemporary Nonstick 5 Qt. Saucier', 'salesRank': {'Kitchen & Dining': 87797}, 'Best review': 'Great pot.  I use it a couple times a week and it is still working wonderfully.  Hopefully many more years of delicious meals.  I have a flat top stove and this pot always heats quickly and nice an evenly.  I use it for everything.  My only fault would be that the handles and get very hot but I expected that.  Some other models have coated handles which might solve this but I love this one.Pros: 2 years and not stickingCons: Handles get hotUpdate: 3 years and now things are sticking', 'description': 'The high-quality Contemporary Nonstick line of cookware is designed to meet the needs of busy families while offering the high-quality construction associated with the Calphalon brand. These pots and pans offer a stylish, attractive look while making cooking and cleanup for family meals or special occasions easy and low-stress. Contemporary Nonstick cookware replaces Calphalon&#x92;s original and highly popular Professional Nonstick II line--but with improvements to make it even better. The most obvious enhancement is in the versatile rounded and flared design of the pots and pans. This design makes a single pan suitable for various cooking techniques and provides better access for pouring and stirring. Also convenient is the capacity line on these pots and pans, which helps prevent cooks from overfilling them.This 5-quart saucier cooks a hefty amount of food and is an excellent example of the Contemporary Nonstick line&#x92;s versatility. With its high sides, flared rim, and two handles, this pan is equally ideal for simmering a beef and tomato ragu on the stovetop or baking a macaroni-and-cheese casserole in the oven. The pan&#x92;s exterior is made of hard-anodized aluminum for superior heat distribution. The interior is coated with a nonstick surface that is resistant to peeling, chipping, flaking, or cracking. This pan has ergonomic brushed stainless-steel handles that stay cool to the touch on the stovetop and are riveted to the pans for durability. The lid is tempered glass--for viewing food as it cooks&#x97;encircled by a stainless-steel band that complements the cookware and fits snugly into the rim. All Contemporary Nonstick cookware is oven-safe up to 450 degrees F and is covered by a lifetime warranty.--Cristina Vaamonde'}\n",
      "{'title': 'Prepara Dry Dock Hygienic Dish Mat, Gray', 'salesRank': {'Kitchen & Dining': 28717}, 'Best review': 'Not much to say except this mat works exactly as advertised.  Best thing is, so far after a month of use this mat has not accumulated any smell nor started to grow any mildew, mold, or bacteria.', 'description': \"Say goodbye to musty old dish towels. This dish mat ensures maximum hygienic drying for all large pots, pans, plates and more. It uses a proprietary honeycomb structure that delivers speedy drying results; it's up to 5 times more absorbent than cotton dishtowels. It allows maximum airflow, thanks to a triple layer construction of: non-scratch mesh, wicking foam. Machine washable, hang by attached loop to dry.\"}\n",
      "{'title': \"The Wok Shop's Own 14&quot; Flat Bottom Carbon Steel Handhammered Pow Wok w/ Metal Hollow Handle (Round Bottom in Photo)\", 'salesRank': {'Kitchen & Dining': 57321}, 'Best review': \"Without exaggeration, I looked at every single WOK on amazon and read every single review before I bought this wok.  It is just as the other positive reviewers state.  This is one of those cheap products that just do a fantastic job and worth every one of its few pennies.  The first thing I made was scrambled eggs and they were so moist and fluffy that we don't call them scrambled eggs anymore, around my house we call them WOK eggs.I could go on an on about the accolades of this fine cooking utensil, but you can already find all of those reviews elsewhere.  I will provide this VERY effective and critically important seasoning procedure that exceeded my expectations with this wok:1)  Use a scouring pad and dish degergent to scrub off the protective machine oil coating that this wok ships with.  (Yes it's yucky, yes others have complained about it, but I appreciate my wok being shipped with a protective film)2)  Did you get all the oil off?  Clean it again! :)3)  Fold a paper towel in a nice tight square, and dip it into some Canola oil (cooking oil).4)  Lightly and evenly coat the entire wok, inside and outside.  Yes, both sides.  And I will again stress LIGHTLY and EVENLY, which means there is no dripping or running oil.5)  Pop it in the oven for 20 minutes at 450F6)  Crack all the windows and doors in the house and turn on the ventilation hood if you have one.  Since you coated your WOK lightly and evenly (right?) the burning oil smoke isn't horrible and will clear out in 30 minutes.  No big deal.Your wok will come out beautifully and evenly bronzed.  I was aghast when I pulled mine out, and so excited.  The thick, shiny patina works wonderfully while cooking.  I chose to go ahead and season mine twice, repeating steps 2-6.  It gave an even darker and thicker patina.  If you scrape or puncture your seasoned coating while cooking, fret not.  Just keep on cooking, grease or oil will likely burn into that area as you cook.  You can re-season your wok as much as you like, of course.On one last note, I chose not to season the handle of my Wok, since that would make it a bit slippery and this wok requires a good strong grip as it weighs a few pounds.Happy wok-in!\", 'description': \"This wok is round bottom with a single, metal handle. Referred to as the Beijing or Peking pan since it is most frequently used in Northern China. Perfect for tossing veggies over a high flame. Must be seasoned. This 'pow' wok is available with a wooden handle. For gas/electric stoves. Not recommended for heat induction or gls/ceramic stove tops.\"}\n",
      "{'title': 'Totally Bamboo Kauai Cutting Board', 'salesRank': {'Kitchen & Dining': 50533}, 'Best review': 'I have been using the \"Totally Bamboo Kauai Cutting Board\" for about a year new, and I love it.  I have had no problems with splinters, gouging or dulling of my knives.  It has been such a great product that I am surprised to see some of the review here.  Possibly they had some problems with the first releases that have been fixed now.Bamboo is a harder wood than most cutting boards are made from, 16% harder than maple with is the standard for cutting boards, and that takes a little bit of getting used too.  The knife cut ends at the cutting board rather than cutting in like it would with a softer wood or plastic board.A benefit of the added hardness is a less-porous surface, which means the cutting board doesn\\'t absorb as much water and nasty little bacteria.  There is some debate as too whether bamboo is too hard, and will blunt knives, but that has not been my experience.The board is light, and a good size so that it can be moved around my kitchen pretty easily.  I don\\'t have a lot of space, so I appreciate the ease of storage.  Because bamboo is made from pressed woods held together by glue, there has been some concerns over their safety but Totally Bamboo uses a proprietary food-approved glue.Probably the main reason to use a bamboo cutting board over another hard wood is that it is ecologically sound. Bamboo, being a grass and not a true hard wood, is a quickly-replenishing resource that can grow up to two feet a day.  On top of that, they look beautiful.  The \"Totally Bamboo Kauai Cutting Board\" looks good enough to use as a serving board', 'description': \"From the original bamboo cutting board company, Totally Bamboo, this cutting board is a beautiful, functional, ecologically sound addition to any kitchen.  Bamboo is 16% harder than maple, making it an excellent cutting surface.  Bamboo is actually a grass that grows to a harvestable height of 60 feet in about 3 to 5 years, growing as much as 2 feet per day.  It has an extensive root system that continually sends up new shoots, naturally replenishing itself.  It does not require replanting, making it one of the most renewable resources known.  Totally Bamboo uses 'Moso' timber bamboo which is neither a food source nor a habitat for the Giant Panda.  Totally Bamboo's cutting boards are assembled with approved food-grade glue -- none of their products are made with formaldehyde-based glue. No dyes or stains are used in the manufacturing process.  The pleasing designs are created by combining originally-colored bamboo with steamed bamboo, which darkens due to caramellized sugars within the wood.  Totally Bamboo prides itself on using only premium hand-selected bamboo, innovative design, exemplary craftmanship, and fair labor policies.\"}\n",
      "{'description': 'The Picture Pockets are a brilliant way to display photos (4\" x 6\" size). These unique photoholders display pictures on each side, in transparent pouches, holding both portrait and landscape shots. Easy to use, a real help for busy adults and a great fun and safe way to create a photo collection', 'title': 'Thinking Gifts Picture Pockets Photo Hanging Display, 40 photos in 20 pockets, Large, Clear, 1 unit (PPL )', 'Best review': 'Its  a simple piece of plastic. Right for the price . You get a picture ensamble with out too much effort or cost.  Pics can be switched out easily. Hang with a tack. It comes rolled up in a cylander . so the plastic was not wrinkled.My daughter uses it in her apt at school.'}\n",
      "{'description': 'The essential plunger made better: more powerful, more versatile and more effective! Super-pliable industrial-rubber cup with tiered ridges forms ultra-tight seal on any size drain. Heavy-duty steel handle allows for maximum pressure forced down drain to source of clog. Designed to work effectively at any angle for hard-to-reach, low-clearance applications. Pays for itself many times over with just one use! Rinses clean, stores easily for next use.', 'title': '2-Pack Neiko Patented Heavy-Duty All-Angle Super-Power Plunger', 'Best review': 'I was worried that they would be cheap but they are not. Durable and effective and are HEAVY duty and do not deform.'}\n",
      "{'title': 'Coffee House Cup Mug Latte Java Mocha Metal Wall Art Home Decor', 'salesRank': {'Home &amp; Kitchen': 3189}, 'Best review': \"These cup metal sculptures are about the size of a paperback book in height and width. They aren't finished with tremendous care--they look handpainted and there are some bumps & lumps here and there, nothing to worry about but not perfect. They are versatile, however. I have a narrow alcove where I keep the coffee pot and mugs, and each inner wall is very narrow. I was able to mount these vertically to make an accent with a coffee theme.The colors are brass, copper and some black and white. I have a beige, black and white kitchen with orange accents and it works perfectly. For the price, this is a cute little decoration that works well.\", 'description': 'Coffee Cup Wall Art \\n\"Perk\" up your home\\'s decor with these metal cups to accent your favorite coffee nook. With the look of steam rising from each mug, they\\'ll give your kitchen a warm and inviting look. \\nA great gift for your favorite coffee connoisseur ! \\n\\n\\nCups read \"latte\", \"mocha\" and \"java\". \\nSet of three. \\nEach measure:6\"L x 4 1/2\"W.'}\n",
      "{'title': 'Continental Electric CP43001 Classic Dry Iron', 'salesRank': {'Home &amp; Kitchen': 96851}, 'Best review': 'Great utility iron that does not shut off.  I am a quilter and every other iron I own shuts off after 8 seconds of non use.  This stays on, which makes quilt piecing a dream.  Heats up sufficiently on Cotton setting to remove all fold wrinkles and set the stitches.  Love it.', 'description': 'The Continental Electric CP43001 Classic Dry Iron has a polished aluminum sole plate and chrome plated metal body.  This classic design iron has a cool touch handle, adjustable temperature control, heel rest, cord wrap and indicator light, 1000-watt.'}\n",
      "{'title': 'FOUR (4) Five-Star Hotel Collection Down Alternative Sleeping Pillows - Standard Size', 'salesRank': {'Home &amp; Kitchen': 129867}, 'Best review': 'Purchased these pillows because of the price.  Wanted them for pillow shams and as guest room pillows.  These pillows are plump and soft.  If you want a firm pillow than these are not for you.  I wanted a soft pillow so my head would not held in the air when sleeping on my side.  I have arthrithis in my neck and needed my head to be more in line with my body.  They have stayed plump even after sleeping on them for over a month.  Great value, well packaged and would purchase again.  I have tried many pillow at many prices and none as good as these.', 'description': \"You haven't truly slept if you haven't slept on the Five Star Hotel Collection pillow. Manufactured and sold in the United States of America, these pillows will give you your best night's sleep in years. The pillows were made with quality craftsmanship you deserve and will stay comfortable for many years!100% Money back guarantee! If you are unhappy with the pillows, we will gladly return the items for you within 14 days of delivery!\"}\n",
      "{'description': 'Crosley Misson-style Stereo Stand mixes vintage style with space for modern media. Dismayed with the price tag for a radio receiver, Powel Crosley built his own. In 1920, he founded the company that pioneered radio broadcasting and mass market manufacturing around the world. Today, the Crosley name lives on with superbly-detailed replicas that truly transcend time. Rich lines, retro designs and authentic craftsmanship blend today\\'s function with a bit of nostalgia. This delightful Crosley-style Mission Stereo Stand holds your stereo components, plus stores your CDs, DVDs, cassettes, videos and other media. What a great look for anywhere in your home! And the band played on: Handcrafted hardwood and veneer construction; Hand-rubbed finish; Wood shelf for CDs, cassettes or DVDs; Decorative glass door; Light assembly required. Put the \"fun\" in \"function\"! Order this Stereo Stand today! Crosley Mission-style Stereo Stand', 'title': 'Crosley Mission-style Stereo Stand', 'Best review': \"I purchased this piece as a stand for my new Teac LP-R400.  (Another amazing item.)  I was looking for the smallest piece that could hold the Teac and some records, plus a place to put vinyl record cleaners, etc.Quality:  The finish is even and the materials are sturdy enough for all that I want.  This is not a flimsy item.Assembly:  I was concerned with a review on one of the other Crosley cabinets that it was very difficult to assemble and definitely required two people.  I don't know how they were assembling it, but if one follows the directions one person can easily put it together in under 1/2 hour.  It DID take me a while to figure out that the nut locks were already IN the pieces as I was looking for them in a bag.Finished look:  This is sitting next to my old fashioned stereo cabinet that I can't bear to replace and also my baby grand piano.  Both of those items are beautifully finished and this piece fits in just fine (although somewhat hidden behind a floor stereo speaker.)Cons:  As described, the item comes with a shelf above the record storage.  The knob makes it appear like a pull out drawer, but it is a pull down door with a shelf behind.  I was expecting a drawer, but that was my fault for not reading the description well enough.  Unlike the other pieces that have just the open shelf, at least this one has a door and it will be fine for storing the LP vinyl record cleaning supplies and extra phonograph needles that I purchased.Bottom Line:  Love it.\"}\n",
      "{'title': 'J.A. HENCKELS INTERNATIONAL Kitchen Elements 3-pc Paring Knife Set, Multi-Color', 'salesRank': {'Kitchen & Dining': 14779}, 'Best review': \"The knives are very sharp...but the handle is too light!  Therefore the knives do not feel balanced when using them.  It's almost a bit scary as I have to be so very careful to not cut myself.  A more balanced heavier handle would have made these a five star set. Nice for the money, but not as pleasurable to work with since one has to be so careful!\", 'description': 'J.A. Henckels International Paring Knives are perfectly designed for smaller kitchen tasks such as peeling or coring vegetables and fruits.  3-pc set includes: 3.5-inch paring knife, 3-inch vegetable knife and a 2-inch peeling knife.   Lifetime limited manufacturer warranty.  Dishwasher safe.'}\n",
      "{'title': 'Set of 3 Silicone Spatulas with Stainless Steel Handles', 'salesRank': {'Kitchen & Dining': 17346}, 'Best review': 'Love this set of spatulas - very good quality and have stood up to everything so far without any signs of wear and tear (or sauce residue).', 'description': 'These quality spatulas are made of silicone with stainless steel handles, and consists of a spoonula spatula, mixing spatula, and a scraper mixing spatula.'}\n",
      "{'title': 'Sunbeam BSF9GKS-R622-13A00 Quilted Fleece Heated Blanket, King, Ivy', 'salesRank': {'Home &amp; Kitchen': 880816}, 'Best review': \"I gave this blanket to my other half for Christmas as part of a 'comfort' gift package which included a Forever Lazy. He loved it and let me try the blanket this evening while I was watching TV.  I was impressed; although I can feel the wires because the fleece itself is a bit on the thin side.  However, the blanket warmed up quickly.  Within minutes I had two cats crawling on me trying to find a place to snuggle on top of the warm blanket.  It was hilarious!  This was money well spent and a gift well received.\", 'description': 'Climb into your toasty bed and sleep soundly in quilted fleece softness. The exclusive Thermofine warming system senses and adjusts temperature to deliver.'}\n",
      "{'title': 'Better Houseware 2404/12 Bamboo Magnetic Bar', 'salesRank': {'Kitchen & Dining': 8612}, 'Best review': 'I was looking for a way to get my \"most used\" knives out of the drawer and readily accessible.  But I also wanted to protect the edges, and to have them safely secured.  I considered a block, but wasn\\'t wild about losing counter space.  I looked at other magnetic holders, but I was concerned about the chance of damage to the blade edges from striking the metal surface of most holders.  When I saw this holder, I knew I had my answer.  The bamboo not only looks attractive, it does a good job of preventing accidental damage to the blades.  I had some concern that the covering would space the blade too far from the magnet to get good holding power, but that has not been a problem.  I wish the price was a bit lower, but I still think this is a superior solution.UPDATE:It is six months later, and I just ordered a second one of these for my kitchen.  I have been very pleased with the one I have, but the recent addition of a cleaver and a second chef\\'s knife has exceeded the capacity of my existing bar, so a second one was needed.I\\'d like to respond briefly to those who are bothered by the magnetic cogging which causes knives to have a preferred location on the bar.  I have my bar mounted at an angle on the side of a cabinet.  In this configuration it works very well, And I have no problem using the full capacity of the bar.  Currently my bar is holding an 8\" chef\\'s knife, a 12\" granton slicer, a 10\" all purpose blade, a tomato knife, a boning knife, and a paring knife.  In the angled position this is the full capacity of the block, and the full width of the side of the cabinet.  I will be adding the second bar above this one, doubling the capacity of that space.  Clearly I find the cogging to be a minor nit, and remain satisfied after 6 months of daily use.  As always, your mileage may vary.', 'description': 'Sturdy bamboo&#xA0;rack with a powerful magnetic strip inset into the bamboo. The hidden&#xA0;magnet is for a flowing modern design. The rack securely holds knives, gadgets, tools... to free up counter space and keep essentials close at hand. Mounting hardware included. You can hang the rack horizontally or vertically.'}\n",
      "{'title': 'Fox Run Preferred Non-Stick 14 Inch x 5 Inch Loose Bottom Rectangular Tart/Quiche Pan', 'salesRank': {'Kitchen & Dining': 6941}, 'Best review': 'This works for making fruit tarts or quiches.  The removable bottom is essential to being able to lift the tart out of the pan.  The material does not stick and it is always easy to pop the tart out after using a sharp knife point to go around the outer edges and easing the pastry off from the edge of the pan.  Excellent and at a good price.', 'description': \"The Fox Run Kitchen's Preferred non-stick was designed specifically for Fox Run.  This collection features our exclusive premium non-stick coating, which provides quick, easy release of baked goods.  These pieces are made of heavy gauge steel to prevent warping and allow even heat distribution for exceptional baking results.  Our preferred non-stick collection is backed by our 5 year warranty.\"}\n",
      "{'title': \"Cuisinart 66-14 Chef's Classic Nonstick Hard-Anodized 14-Piece Cookware Set\", 'salesRank': {'Kitchen & Dining': 2232}, 'Best review': 'I bought this Cuisinart 66-14 Chef\\'s Classic Nonstick Hard-Anodized 14-Piece Cookware Set over two months ago, and I have been thoroughly enjoying cooking with this set on my gas stove as much as I had hoped I would.~~APPEARANCE: This set\\'s exterior is a (slightly matte-ish) dark gray color, somewhat tapered edges with shiny stainless steel handles.~~~~WEIGHT: These pots and pans have some heft to them, they are not lightweight, which I like, and I expect these to last a very long time.~~~~NON-STICK FINISH: The non-stick hard anodized finish truly is non-stick and I have had absolutely no problems with anything sticking in any of the pots or pans.~~~~COOKING: Everything cooks evenly in these pans and has made cooking more pleasurable, and I never use anything higher than the medium temperature when using these.~~ *see note below.*~~HANDLES: The handles don\\'t really stay cool on my stove top, but because I use gas flames for cooking, this may be the reason why they get quite warm, even hot at times.~~~~LIDS: I wasn\\'t sure if I would like the lids not having a vent hole in them, but I think I actually prefer these solid lids now. If I need to vent/have steam release, I just slightly tilt the lid. When placed on top of the pots and pans, the lids fit snugly and work the way lids should.~~~~CLEAN-UP: Clean-up is crazy-easy and everything washes off as simply and easily as the day I bought them, it could not be easier. I don\\'t put these in my dishwasher, I wash them by hand (with mild, non-citric dishwashing liquid) to keep them in great condition.~~*OF NOTE: The paperwork that came with this set suggested to never use temperatures higher than the \"medium\" setting. I was concerned at first, as I thought this might take everything much longer to cook. But, due to the special way the bases are made, they require less heat due to special heat distribution properties. I can bring water to a boil easily on the medium setting in as short a time with these as I could with my old, thinner pots on high.*I was worried that this set\\'s exterior finish would get scorched and ruined by my stove\\'s gas flames, so shortly after getting this set I also purchased this:Nordic Ware 8 Inch Heat Tamer and Burner Platewhich does a wonderful job of preserving the exterior\\'s finish.(I thought I\\'d add this in case this ever happens to you): About the 3rd time I used the steamer insert/pot for steaming some broccoli and cauliflower, I became distracted and the water ended up boiling completely away and I was left with a burnt mess inside the water pot. I was so upset, as I didn\\'t think I\\'d be able to save it. However, after letting it cool, washing off what I could, I added a couple of drops of dishwashing liquid and some water to the pot, and simmered it for about 20 minutes. After it had cooled enough for me to work with, was able get every bit of the burned mess (residue from bits of broccoli and cauliflower that had dropped through the steamer insert) off to get it back to brand-new looking and performing condition. I was amazed and very pleased, and I think this speaks highly of the quality of this cookware, not so much for my attention span ;-pOverall, I love this set, and recommend it all day long.', 'description': ''}\n",
      "{'title': 'MaxiMatic EPM-400 Elite Deluxe 8-Ounce Old-Fashioned Popcorn Popper Machine Trolley, Red', 'salesRank': {'Kitchen & Dining': 109881}, 'Best review': 'I am a popcorn freak and I have wanted one of these for years.  This is excellent, nice quality and the popcorn pops great.  Used at least 2-3 times per week.', 'description': 'Make this fun and entertaining Elite Deluxe 8Oz. Kettle Popcorn Trolley the centerpiece of all of your parties and gatherings.  It features an 8 oz. stainless steel kettle that can pop up to 3 gallons of popcorn per batch in just 5 minutes. With its eye-catching red and gold design the Elite Popcorn Trolley is always the life of the party!  Easy to use and fun to watch, it also comes equipped with a warming feature to keep your popcorn warm and fresh throughout the party.  The convenient 2-in-1 design allows the Popcorn trolley to be used as a tabletop machine or as a pushcart popcorn trolley.'}\n",
      "{'title': 'Mr. Coffee ISD13 12-Cup Replacement Decanter for FT and IS Series, Black', 'salesRank': {'Kitchen & Dining': 1094}, 'Best review': \"I have one of these for my Mr. Coffee (Mr. Coffee Black and Stainless Steel 12-Cup Programmable Coffeemaker) and it does a decent job.  It pours without dribbles and holds a nice 12-cup portion of coffee.  It pretty much does what it is supposed to.I do have some quibbles though.The lid comes off quite easily, and I lost it one time (in the nearby garbage bag) because of that design issue.Luckily, the coffee decants just as well without the lid.  Better even...it must just be there to retain heat.As noted by other reviewers, the bigger design flaw however is the fact that liquid can get trapped between the glass of the decanter and the top plastic ring that the handle attaches to and includes the pouring spout.  Even with thorough cleaning, I often get dribbles of liquid rolling down the outside of the decanter.  It drips on the countertop when I am filling the coffee maker.  Sometimes it is clear but other times it is murky and looks like old coffee -- not very appetizing.  I just hope none of this liquid is getting into the coffee, but I think that it doesn't.  If you are aware of the issue you can test it before pouring and if needed, hold a paper towel or sponge at the seam of plastic and glass to catch any drops.Otherwise, it works as it should.  The wide opening allows for easy interior cleaning, even with large hands like mine.  I've had mine for about a year and have not broken it during cleaning.\", 'description': \"The Mr. Coffee 12 Cup Replacement Carafe is compatible with FT and IS series coffeemakers.  Mr. Coffee has been making automatic drip coffeemakers for more than 35 years and is one of America's most trusted brands.\"}\n",
      "{'title': 'Home Basics Toilet Brush Tapered', 'salesRank': {'Home &amp; Kitchen': 2520}, 'Best review': \"This toilet brush is beautiful as well as functions well.  Looks great in my guest bathroom and is there when needed. Love the streamlined look of the stainless steel and its the only one I've seen that doesn't look cheap !\", 'description': 'Stainless steel toilet brush decoratively stores brush in a tappered fashion to prevent leaking and keep floors clean and dry, as well as an simple way to clean and store .'}\n",
      "{'title': 'Shower Caddy Connectors', 'salesRank': {'Home &amp; Kitchen': 47094}, 'Best review': \"My caddy kept falling off the shower head pipe. I went to the big box stored and almost just took one of the plastic rings off a new caddy because I couldn't find a separate one. Decided instead to try Amazon. Here it is. Exactly what I needed and now my caddy stays in place without using electrical tape around the pipe for it to sit on. Such a time saver to find here instead of searching through stores. The suction cups don't stick to my textured wall but that's okay. I got what I needed.\", 'description': 'Add a little more security to your shower organizer with these Shower Caddy Connectors. This set keeps your shower caddy from swinging laterally or sliding down the pipe that holds your shower head. Shower Caddy Connectors Features Included in the kit are two large suction cups. Each suction cup has a special notch on the top that holds the side bar of the shower caddy. Each suction cup measures 1 inch H x 1.5 inch D. Also included is a 1 inch c shaped piece that fits the pipe that holds your shower head. Your shower caddy sits on this rubber piece to prevent it from sliding.'}\n",
      "{'title': 'Smart Table Mate TV Foldable Adjustable Tray - FREE SHIPPING (except PO BOX and military address)', 'salesRank': {'Home &amp; Kitchen': 141399}, 'Best review': \"Creating the perfect PC gaming set up in front of TV is tough, but this table put me on the right track. After hooking my computer up to my TV, I realized I needed somewhere to put my keyboard and mouse. My legs being made of flesh instead of something harder like wood or plastic limited their ability as an effective desktop.This adjustable height table was exactly what I needed and took no more than 5 minutes to set up. The legs fit under any sofa and the table top itself hovers just where it should. There was more than enough room for a keyboard, mouse pad and a snack or drink alongside.The table now has a permanent home next to my sofa and is used to hold my phone, snacks or a drink when not being used for my keyboard and mouse. Avoid eating a large meal or using heavy dishes on this table. The top is a bit flimsy and wont fall on it's own, but a good knock or bump can tip the top and your painstakingly prepared meal right down into your lap.A great deal for a table that does what it's supposed to do.\", 'description': 'Ideal for people who live in small spaces, the Table Mate creates a compact, flat surface for virtually any activity.\\n\\nIt can be used for eating, as a laptop computer table, a study desk, reading, writing, drawing, board games, models, puzzles, arts and crafts, gardening, serving table, and many other uses. \\n\\nThe Table Mate is also easily assembled out of the box, with no tools or fasteners required. Made of durable plastic and steel, this table is light weight but sturdy, and folds flat for easy storage. \\n\\nIt is also extremely easy to clean when needed. Easy to adjust and use, this tablemate is a must-have in any household.'}\n",
      "{'title': 'Carpenter Memory Foam Twin Mattress Topper', 'salesRank': {'Home &amp; Kitchen': 209798}, 'Best review': \"I don't use this topper on a regular mattress in fact I cut it in half for use inside a futon mattress. It was the thickness I needed and it works very well. Although the futon mattress is fairly new it wasn't firm enough for me, this topper compressed the spring enough to give me some additional firmness.  The quality of this product is very good and I didn't notice to much odor from it but I did let it gas out for a day anyway.\", 'description': \"Our 1-Inch Memory Foam mattress topper reduces pressure points while reducing tossing and turning while you sleep. The responsive, temperature sensitive memory foam adjusts to your body's shape and position allowing the body to sleep more comfortably.\"}\n",
      "{'title': 'Signature Housewares Sorrento Collection 60-Ounce Small Mixing Bowl, Gold Antiqued Finish', 'salesRank': {'Kitchen & Dining': 94107}, 'Best review': \"I own 3 of this size of bowls, and I have to say the number one way we use them is for huge, individual salads.  They are the perfect size to hold all your salad fixings and still be able to stir your dressing in without losing half your lettuce on the table.  I own this in wheat, burgundy and oregano, and will gradually add to my set so I have enough to serve big salads when we have guests. The quality and beauty of these dishes are unsurpassed in my opinion.  I have many pieces, and after more than 5 years of daily use, only have one piece that has chipped.(A cereal bowl)  They have survived 2 teenagers, a somewhat carelessly clumsy husband, and at times even my own accidental clattering around. My only issue with this product is that Amazon is not offering it at a very good price.  The 90 ounce is being sold for about half of what this smaller, 60 oz bowl is being offered.  Watch the prices, don't overpay, and you will be very happy with your purchase!\", 'description': \"Created by tableware designer and gourmet cook Debbie Segura in 2001, Sorrento is perhaps Signature Houseware's most popular dinnerware pattern. Sorrento stoneware suits almost any kitchen d&#xE9;cor with its rustic, Italian countryside feel, showing a raised dot and olive leaf patterning on most of the solid-colored, thickly-glazed pieces. Square plates are also available, and bakeware and glassware complete the extensive collection, now available in more than half a dozen colors ranging from neutral suede to bright ruby red.The smallest of three nesting Sorrento mixing bowls, this one measures eight inches in diameter and holds up to 60 ounces, or roughly two quarts, ideal for whisking eggs for an omelet or serving a fresh fruit salad. All three mixing bowls feature a different exterior pattern. The rim band on this small bowl, which helps provides grip, is embossed with Sorrento's signature three-leaf design, while bands of lines and dots run up and down the sides. Alone or with the two larger mixing bowls, this attractive and functional bowl makes a great gift for someone who is building a Sorrento collection. Completely lead-free, the durable, chip-resistant stoneware is safe for use in the microwave, dishwasher, and conventional oven for warming.--Ann Bieri\"}\n",
      "{'title': 'Oenophilia Porto Sippers - Set of 4', 'salesRank': {'Kitchen & Dining': 12946}, 'Best review': 'Bought as a gift for the hubby and he loves them.  He and my Uncle enjoy port immensely and this has only added to their pleasure in sipping it slowly.  They are truly delicate and hand washable only.  One has broken but we expected that to happen.  Tiny as well, they will fit in the cup of your hand.  They both say that the port has a totally different taste drinking it through the straw, and then another different taste when they get to the end and sip the last bit which bubbles through the straw and aerates it.Buy these for the port lover in your life, they will not be disappointed!', 'description': 'Oenophilia Porto Sippers are guaranteed conversation pieces. These hand-blown serving accoutrements date back to 17th century Europe, where they were known as Schnapps Pfeiffen. An especially enjoyable way to savor port, dessert wine or liqueurs. Each sipper measures 3.5\" in height.'}\n",
      "{'title': 'Bormioli Rocco Quattro Stagioni Dipping Bowls, Set of 6, Gift Boxed', 'salesRank': {'Kitchen & Dining': 2763}, 'Best review': \"I owned the smallest size of Pyrex custard cups before this to use as condiment cups, which were bought back in the 1970's by my mother. They were not microwave-safe, were really quite small, had no lip for picking them up (really a pain in the neck, especially if what I was serving was very hot in temperature) & scratched rather easily. I did my research & decided these would fit the bill better than just getting a newer set of Pyrex cups- those were smaller, people had issues with them exploding (Pyrex is not as reliable a brand as it used to be apparently) & only came four to a pack. I wanted enough that I could entertain six people with a set. I did not want to buy metal condiment holders because they can alter the flavor of foods AND cannot be microwaved. I wanted something that could be safely put in the top rack of the dishwasher (and these come out just great washed that way, no soaking needed). A set of six, as opposed to just four, was a nice bonus & I think the price point is great for what I got. These were nicely boxed, and would've made a perfect gift, as they were packaged just as you'd expect something from a department store to be. Each one was safely packed separately, and there were no chips, scratches or marring in the glass at all. THANK YOU to the manufacturer, as well, for not sticking a stupid label on any of these bowls for me to remove. So many companies do this to their glassware & it's an absolute drag.I love these for serving horseradish sauce with roast beef or steak, melted butter w/ lobster tails, cocktail sauce with shrimp, ketchup with French fries, jalepenos & other toppings for nachos that people want on the side, hot cherry peppers with subs, au jus for dipping-style sandwiches, granola on the side for yogurt, a single serving of sunflower or pumpkin seeds (1/4 c.) & much more. Nuts & seeds are so easy to lose control with, portion-wise, and these help control that for snacking while still looking really cute for serving. I also utilize them for holding spices before baking, because I can carefully put each spice into these a tsp. or TBSP. at a time without worrying about accidentally dumping too much of a spice into a mixing bowl directly from the little spice jar. Because these are microwave-safe, you can also use them for heating up an individual serving of caramel, butterscotch or hot fudge sauce.\", 'description': 'The Quattro Stagioni serve and entertain collection is designed with charming old world Italian embossed d&#xFFFD;cor  - Quattro Stagioni -which means \" four seasons\" is reflective through-out the collection.'}\n",
      "{'title': 'Patton 18-inch High Velocity Fan, PUF1810B-BM', 'salesRank': {'Home &amp; Kitchen': 10884}, 'Best review': 'Literally BLOWS the competition away.  This is a mans fan not to be confused with the girly box fan.  If you want want to move some air get this bad boy, its a hurricane in a box!', 'description': 'The Patton PUF1810A-BM 18&#x201D; High Velocity Fan has larger blade diameters and metal grills that are constructed of high impact materials for use in the garage or workshop.  Great for cooling, ventilation, or drying.'}\n",
      "{'title': 'Wilton Recipe Right Square 9 by 9 Inch Covered Pan', 'salesRank': {'Kitchen & Dining': 1669}, 'Best review': 'I was expecting a heavier quality because I want to use it for Yorkshire Puddings but I think it might well be OK', 'description': 'Wilton Recipe Right square 9X9 covered pan. Recipe Right is constructed of heavy-gauge steel that provides an even-heating performance, baking experts prefer for perfectly-browned baked goods. The non-stick coating makes food release and clean-up a breeze!'}\n",
      "{'title': 'Lynk 146101 Expandable/Stackable Mesh Shoe Rack, Bronze', 'salesRank': {'Home &amp; Kitchen': 13288}, 'Best review': \"These shoe racks are stylish and they fit both my heels and flats and my husband's shoes. It didn't take long to put them together and they are easy to stack. I highly recommend them.*UPDATE*: I find that my heels often slip between the two bars, leaving them dangling. Not a big deal just annoying.\", 'description': 'This unique bronze mesh shoe rack expands in width from 22-1/2 to 43 inches, and/or stacks together to organize any closet space. The wide base keeps shoe racks stable even on thick carpets. Also holds shoe boxes. Available in platinum and bronze epoxy coated steel. Easy assembly.'}\n",
      "{'title': 'Black &amp; Decker VF20 Double Action DustBuster Filter', 'salesRank': {'Home &amp; Kitchen': 25693}, 'Best review': 'I am not giving a one star review for the actual replacement VF20 filter but because it does not fit the new model CHV9610 (Shocking Pink color) Black & Decker 9.6V DustBuster.  On the outside of the B&D box, it states:  Replacement Filter #VF110 which I have ordered and will be returning this VF20 replacement filter for the older DustBuster model.  Note:  This filter was suggested as a plus sell item for this newer model CHV9610 DustBuster and the seller should correct the website to suggest the VF110 replacement filters.', 'description': 'Replacement filter for all \"V\" series DustBusters'}\n",
      "{'title': 'Sink Stopper', 'salesRank': {'Kitchen & Dining': 2298}, 'Best review': 'I tried 3 different stoppers for my sink and none fit exactly right.  Therefore, none really could be counted on to keep the water in.  this one is perfect. It is a tiny bit wide with rubbery circumference that pushes down into the sink snugly and stays there.  I am very happy with this stopper.', 'description': 'Sink Stopper Stopper covers drain or disposal to stop water flow. Flexible outer rings  create a tight seal while handle allows for easy operation.'}\n",
      "{'title': 'Spinning Hat Blood Bath Bath Mat', 'salesRank': {'Home &amp; Kitchen': 17779}, 'Best review': \"Nice mat, it does the job. A little dissapointed I thought it was the color changing one but its not. My fault, I saw where it stated that it didn't change colors after I ordered it.\", 'description': \"Upon entering the bathroom, give your guests the shock of their lives with our Blood Bath Mat &#x2013; the ultra realistic horror movie shower scene.  Gruesome, bloody, and absolutely offensive, the Blood Bath Mat is the perfect partner for Spinning Hat's famous Blood Bath Shower Curtain.  The folks at Spinning Hat don&#x2019;t think that you can ever have enough blood and gore, as you may have guessed, and this terrifying blood stained bath mat truly pays tribute to those classic Hitchcock and Hammer horror movies of old.\"}\n",
      "{'title': 'Wolfgang Puck Indoor Electric Reversible Grill &amp; Griddle', 'salesRank': {'Kitchen & Dining': 18730}, 'Best review': \"One thing to note before using the grill is that you would need to condition it. We didn't know this, so we first prepared the meat, thinking we can just turn it on and cook. Turns out before the first use you need to do a few things. First you put some oil on the surface, then you heat it to 250 F, then you turn it off and have to let it cool off completely. Heating is fast, but cooling takes a long time. And finally you can use it. This is only done the first time around.When we cooked on the grill there was no smoke which I have noticed on another electric grill that a friend uses- the smoke might be due to old grease.. don't know. This one heats fast and has quite big surface area, so this is a big plus. Also the fact that you can remove the cooking surface to clean it is a big one. Overall, we like it a lot so far.\", 'description': 'For years, celebrity chef Wolfgang Puck has entertained the Hollywood elite at his Beverly Hills restaurant, Spago. His skill in the kitchen and passion for quality have earned him a reputation that&#x2019;s unparalleled in his field. Now, he brings that same level of excellence to his own line of professional-quality cookware. Puck&#x2019;s renowned attention to detail is evident in the smart design and durable construction of his kitchenware, making it the perfect choice for today&#x2019;s serious cook. If you share Puck&#x2019;s passion for good food and great cookware, this collection is for you.'}\n",
      "{'title': 'Tree-Free Greetings lm43907 Hilarious Aunty Acid Straight to Hell by The Backland Studio Ceramic Mug, 15-Ounce', 'salesRank': {'Kitchen & Dining': 3500}, 'Best review': 'I HAVE HAD THESE JOBS BEFORE..........SO I APPRECIATE THE CUP.  IF YOU HAVE EVER WORKED FOR ANY HOSPITAL, YOU SHOULD GET ONE.  THEY ARE CUTE BEYOND BELIEF!  LET THE MUG DO THE TALKING FOR YOU.  IT SPEAKS VOLUMES.  IT IS WORTH EVERY PENNY FOR COMIC RELIEF.', 'description': 'Tree-Free Greetings strives to use the most eco friendly materials and processes possible. Printed and assembled in the USA, The Tree-Free Greetings 15 Ounce Ceramic Mug With Full-Sized Handle is vibrantly printed with hard to find hilarious Aunty Acid art by The Backland Studio Ltd. and is great for everyday use. It is reusable therefore eliminating any disposable paper or Styrofoam cup waste. BPA free and Proposition 65 compliant, this beautiful and durable ceramic mug has a generous full sized handle, comes with a protective gift box, and holds 15 ounces of your favorite hot beverage; hand washing is recommended. The Tree-Free Greetings 15 Ounce Ceramic Mug With Full-Sized Handle makes the perfect gift or souvenir for any occasion. Save trees, spread joy, buy a Tree-Free Earth-friendly gift today.'}\n",
      "{'title': 'George Foreman GR59A Baby George Rotisserie', 'salesRank': {'Kitchen & Dining': 33892}, 'Best review': \"For all rotisserie lovers:  this machine is awesome, but read carefully when the instructions say to bake up to a five pound chicken.  It does not work when the user (that would be me) doesn't follow instructions.  We are now ordering the Jr. size and predict complete satisfaction.  The parts are fairly easy to clean (a little elbow grease is required around the vent areas).  The chicken is moist and better than the store bought.  And the standing rib roast is done perfectly.  For the price, it's a great little machine.\", 'description': 'Big enough to hold a 5-pound chicken, two Cornish hens, four  kebabs, or four beef or fish steaks, this \"baby\" version of the George  Foreman rotisserie brings the advantages of rotational cooking into the  home, yet measures just 17 inches wide, 11-1/2 inches high, and 12  inches deep. The spit is just one of three cooking methods provided by  the rotisserie. There\\'s a flat basket measuring 6-1/2 inches square and  2-1/2 inches deep that hold foods like fish, steaks, and vegetables  flat for grilling as they rotate, and four 8-inch skewers that fit into  the rotisserie for kebabs and pork ribs. Other features include a  lift-up cover with a window, a three-hour timer, and a pull-out drip  tray. The rotisserie has a metal and plastic exterior and a metal  interior for easy cleaning, and it secures firmly to a countertop with  suction-cup feet. It carries a one-year warranty against defects and  comes with a cooking-time chart and recipes.--Fred Brack'}\n",
      "{'title': 'LUCID&reg; 10&quot; Plush Memory Foam Mattress - 100% CertiPUR-US Certified Foam - 25-Year Warranty - CAL KING', 'salesRank': {'Home &amp; Kitchen': 229747}, 'Best review': 'I love this mattress, it has completely changed the quality of my sleep. I did not realize that so many physical problems result in a bad mattress. I had acid problems and a lot of body pain. It all went away after this mattress became a part of my life. I am very happy.', 'description': 'Plush Memory FoamThis 10\" mattress has a medium-plush feel due to the 2.5\" plush memory foam layer, which is softer and lighter than other memory foams. Lucid formulated this foam to quickly cradle your body while still giving the needed support to remove sleeping pains and correctly align your spine. The memory foam also helps to isolate motion transfer between sleeping partners.VentilatedThe memory foam has been ventilated to optimize air flow, helping you to sleep cooler.Safe for You and the EnvironmentThis foam is CertiPUR-US certified which means this product has been independently tested for safety of materials used, physical performance, and environmental stewardship. Careful construction guarantees no prohibited phthalates, no ozone depleters, no CFCs, no mercury, no formaldehyde, no PBDEs, and low emission (VOCs) for indoor air quality. This mattress does not contain synthetic or natural latex of any kind.Conveniently Shipped for Easy Set UpLucid mattresses are vacuum packed so your mattress is easy to transport and set up. After your mattress arrives, simply take the package into the right room, remove it from the box and protective wrap, and then watch as it expands.25-Year WarrantyA good night\\'s rest is a big investment. To give you peace of mind we offer a 25-year warranty. This warranty protects the mattress and cover against manufacturer\\'s defects. Includes one Cal King mattress (71\" x 83\") and cover. Mattress cover may vary from picture in pattern and color.Need a Frame?For warranty purposes Lucid recommends this frame and box spring in one: http://www.amazon.com/gp/product/B00ENQQTY8'}\n",
      "{'title': 'Boska Holland Toastabags, Set of 3', 'salesRank': {'Kitchen & Dining': 3767}, 'Best review': \"Picked these up after hearing about them from a friend, there are many types of these bags out there, these were the best for the price I could find on Amazon.The bags are a very thin material, treat them carefully, while it doesn't seem like the bag itself will rip, the seams seem pretty weak.The bags aren't very large, I suspect this is to keep the material from hitting the heating elements in your toaster, but don't expect to put a thick sandwich into them either, not without squishing it down first. Standard sliced bread, a few pieces of cheese and maybe one or two things like tomato slices and bacon, that's all you're going to fit into the bag.They do protect my sandwiches from being burnt and leave a nice brown on them. Can get messy on the bottom if your cheese drips. Washes out with plain soap and water, just be gentle with them. Drying can be difficult as the bags want to  close, have to prop them open on the rack.A good idea and product, I'll keep using them.\", 'description': 'Boska Holland launched the Toastabag in the Netherlands at the beginning of 2010.  These fast, no mess bags are the ideal way of preparing a grilled cheese sandwich in a toasted or on the grill.  No more remnants of melted cheese and crumbs in your toaster or on your grill plate.  Your appliances will last longer because they do not require as much cleaning.  Ideal for people who suffer from a food allergy as the ToastaBag eliminates cross-contamination with other foods.'}\n",
      "{'title': 'Cuisinart ICE-20 Automatic 1-1/2-Quart Ice Cream Maker, White', 'salesRank': {'Kitchen & Dining': 6359}, 'Best review': \"I bought this unit in hopes it would fill in a gap in our 'desert self-sufficiency', that is our ability to make rather than buy whatever we were craving and avoid having to hump into town for supplies.This gem of a unit has the frozen desert category covered.It IS bigger than it looked - but only about the size of standard Cuisinart food processer as far as footprint.  We keep the freezing bowl in the freezer and store popcicles and the like in the middle.  Note on the bowl:  its possible to make two batches before refreezing, just add some time to the second batch.It does make some noise, but for us its not too much.  Just position it properly and the noise factor can be mitigated quite a bit.Cleans up easy (mostly dishwasher) except for the tendency of water and washclothes to freeze to the bowl... use hot water and do it quick.We got the red one - what a nice looking unit.  Sweet.\", 'description': 'Automatic dessert maker makes frozen yogurt, ice cream, sherbet, sorbet, and frozen drinks in 20 to 30 minutesDouble-insulated freezer bowl holds up to 11/2 quarts of frozen dessertEasy-lock lid and large ingredient spout for adding ingredientsRecipe booklet included3-year limited warranty --'}\n",
      "{'title': 'KitchenAid Bottle Opener, Red', 'salesRank': {'Kitchen & Dining': 11740}, 'Best review': \"I couldn't believe I was going to spent $7 on a bottle opener, but I wanted a solid one that also had the punch hook on the front, and this opener fit the bill.  I have to say that it is worth the money.  It is sturdy, and I anticipate that it will not fall apart with repeated use.\", 'description': 'This kitchenAid red bottle opener features a vibrant, attractive color, a durable stainless steel head and has a comfortable handle. Use it to pop the tops off bottles or puncture holes in the tops of cans to create pouring spouts. Dishwasher safe.'}\n",
      "{'title': 'OvenStuff Non-Stick 16 Inch Pizza Pan', 'salesRank': {'Kitchen & Dining': 85227}, 'Best review': \"Large pan.  Medium weight.  I have never seen a non stick pizza pan like this one. It's a large flat circle, that raises very slightly at it's borders.  The surface is not so flat cheese or sauce will run off in the oven. It also, allows for pressing the dough to the borders of the pan and covering the entire surface with toppings. You can leave a border crust, but you don't have to, with this pan.  If desired, the  finished pizza will literally slide right off the pan. Great nonstick surface. This pan can perform well in high oven temps.Previously, I used a Pyrex baking dish for my pizzas.  I got good baking result, but the Pyrex exploded after 2 years of use.  I no longer feel comfortable cooking in glassware, so I ordered this as a replacement.  After 2 years of baking retangular pizzas, it's nice to bake a round one, again.  I'm so pleased with OvenStuff. I have a bundt cake pan, baking pan and pie pans by them, too.  I am very pleased with the finish, durability, even baking, nonstick performance, and the weight of their bakeware.  Excellent products at excellent prices.  This is so much better than QVC's Cooks Essential bakeware.  That stuff loses more of it's finish everytime you bake in it...flakes off like grey snow.  I had to trash it.  With this bakeware you don't have to become concerned about eating nonstick finish with your food.\", 'description': 'Each OvenStuff Non-Stick 16 inch  Pizza Pan is coated with a DuraGlide Plus non-stick coating inside and outside of the pan.  The non-stick finish allows pizzas to release easily from the surface of the pan while making clean up a snap. The heavy weight steel construction ensures even heating across the pan for golden brown pizza crusts.  Pans are dishwasher safe.  Proudly made in the U.S.A.'}\n",
      "{'title': 'Chicago Metallic Non-Stick 8-Inch Springform Pan', 'salesRank': {'Kitchen & Dining': 9550}, 'Best review': 'This is the first time I have ever used a spring form pan. I was a little afriaid  of how this cheesecake was going to turn out. I must say I was very happy  with the end result. No leaking! No sticking to the pan!  I picked Chicago Metallic after reading good reviews, which is so helpful to me.', 'description': 'Chicago Metallic is the preferred choice by bakers who understand quality, design and durability. Chicago metallic never disappoints: non-stick, easy release with every recipe, effortless clean-up and consistency that defines a new meaning to perfection every time. Specialty bakeware. Where design and innovative meet with Chicago Metallic. These pans offer more personality to the kitchen, fully equipping your inner-baker to get more creative. Whether its turning out bite-sized pre-sliced brownies or savory lasagnas for dinner, Chicago Metallic continues to work in your kitchen. The Chicago Metallic non-stick 8-inch spring form pan features heavy duty construction. Each Chicago Metallic pan is designed with a non-stick, easy release for ease in baking and cleaning. The spring form pan measures 8-inch diameter by 3-inch. All Chicago Metallic pans are dishwasher safe and come with a 25-year warranty.'}\n",
      "{'title': 'VillaWare V3850 Quattro Pizzelle Baker', 'salesRank': {'Kitchen & Dining': 71718}, 'Best review': \"I have had my pizzelle maker since last year and found it makes great pizzelles much faster than the old fashioned way with the iron on the stove, and clean-up is extremely easy. As the host of my own culinary website Italian Food Forever, I am always on the lookout for tools to make my time in the kitchen easier, and this little machine certainly falls into that category. I used to save pizzelle making for Christmas, but this machine makes it so easy, I now make pizzelles for any special family get-together. The cookies are crisp and golden brown all over, and friends and family can't get enough of them. Even if you have never made pizzelle before, with this machine you will have no trouble at all.\", 'description': \"Delicate, lacy designs and subtle sweetness make pizzelles excellent accompaniments to a rich coffee or cappuccino. With intricate patterns, these 3-inch cookies look difficult to make, but a child would have a great time printing them out: you just pour in the batter, close the lid, remove, and enjoy. A ready-light tells you when the baker is ready, and a steam guard protects hands. For added sophistication, pizzelles can be shaped into cones or cups when they're still warm--try filling a fluted pizzelle with liquor-flavored whipped cream for a more decadent dessert. The pizzelle baker comes with instructions and enough recipes to transform your kitchen into a sweet-smelling Italian bakery.--Laura Cuthbert\"}\n",
      "{'title': 'Cuisinart DGB-900BC Grind &amp; Brew Thermal 12-Cup Automatic Coffeemaker, Brushed Stainless/Black', 'salesRank': {'Kitchen & Dining': 1790}, 'Best review': 'This is our fourth Cusinart coffee maker. We love the grind and brew feature that can be programed to come on before you get up in the morning. We buy fresh beans from Dunkin Donuts. This machine has a built in coffee mill as opposed to the blade grinders. It is easy to clean and makes great coffee.', 'description': \"Easily brew up to 12 cups of great-tasting coffee with this 24-hour fully programmable coffeemaker. The unit comes equipped with a built-in burr grinder, which automatically grinds beans right before brewing, and its grind-control function makes it easy to program the amount of coffee to grind--from 2 to 12 cups. In addition, its strength selector allows for choosing from strong, medium, or mild coffee. The unit's bean hopper holds up to a half pound of beans and comes with a sealed lid to prevent moisture. Other highlights include automatic shut-off after brewing, a grind-off option, and an integrated 2- to 4-cup feature, as well as a Gold tone commercial-style permanent filter and charcoal water filter to remove impurities, and a brew-pause function for sneaking a cup midbrew. A 12-cup (5 ounces each) double-wall insulated thermal carafe comes included, which seals in heat and freshness so the last cup tastes as good as the first. The coffeemaker measures 10-2/3 by 8-4/9 by 16-1/4 inches and carries a three-year limited warranty.\"}\n",
      "{'title': \"Chef's Choice Multi-Edge Diamond Hone Knife Sharpener\", 'salesRank': {'Kitchen & Dining': 91967}, 'Best review': 'I\\'ve had this sharpener for at least 3 years.  I sometimes forget to use it, and when I remember, I am ONCE AGAIN surprised at the ease to get such super-sharp knives!  I\\'m \"all thumbs\" with other forms of sharpening, as some of my older knives will attest, but this great diamond sharpener is the greatest.  I got on line just now, after surprising myself once again with how sharp my knives can be, to order 3 of them for gifts for our children.  The shell may be plastic (which makes it easy to use and store)but it has no part in the sharpening mechanism, and the results are incredible.  I wouldn\\'t have anything else -- the electric models aren\\'t worth the price and risk going too far and wearing down the blade.', 'description': \"Diamond abrasives in this tool actually sharpen a knife rather than simply realign its edges, as most sharpeners and sharpening steels do. For right-handers and left-handers alike, it's simplicity itself to use. Grasp the handle and draw a straight-edge blade back and forth through the stage 1 guide 25 to 50 times to coarsely bevel it. Then move the blade to the stage 2 guide and draw back and forth 10 times through finer diamond crystals for the second, fine-edged bevel. Serrated blades go only through stage 2. By turning, rollers demonstrate that a blade is properly straight so it is being beveled at the precise angle required. Lightweight but tough, the sharpener is formed of silver and black plastic. It's 6-1/2 inches by 2-1/4 inches, small enough to take on a camping or hunting trip.--Fred Brack\"}\n",
      "{'title': 'Dylos DC1100 Laser Air Quality Monitor', 'salesRank': {'Home &amp; Kitchen': 79804}, 'Best review': \"I have several air cleaners in my house, and I recommend them highly. But, I was a bit lost as to exactly to what degree they were improving the air quality in my house...I had no way of really knowing. I also found the filter replacement times somewhat vague. You replace them based on keeping track of how many hours you have run your air cleaner at a given fan speed--the higher the fan speed, the fewer total hours of run time until you need to change each filter. This does not seem like the best way of knowing when to replace these costly items.Doesn't it make sense that if there is not so much dust in your house, but a lot of dust in someone else's house, that running an identical air cleaner for the same amount of time and fan speed as the people in the other house is going to mean that your filters are not going to be plugged up as quickly as theirs? And, in order to save energy on the electric bill, how do I know what is the lowest fan speed to use to actually keep my air clean, given the size of my room and the actual dust that it contains or that flows into the room from doors and windows?I started doing some research online and eventually came across this device.I bought one of these Dylos air quality monitors and now that I am using it, I couldn't imagine running good air cleaners without one. It gives you an immediate readout of the quantity of particles floating around in your air, and a scale to tell you what that means. It allows you to see what is going on in your room, with your air cleaner, with your dust problem at this moment as it is affected by the outside air currents, etc.. This will make it possible to determine the best fan speed, and also allows you to tell the condition of your filters by measuring the clean air output of your air cleaner. You replace your filters when they are not filtering properly anymore, not when some arbitrary timer tells you to. I can move the Dylos from room to room to check, as it is small and light.For the small cost of this device relative to electric costs and filter costs, it is a steal in the long run. I have no affiliation with Dylos. They have been well reviewed elsewhere and make the most reasonable particle counter on the market. It works for me, and I just thought I'd pass it along.\", 'description': 'A true Laser Particle Counter with 2 size ranges - small (bacteria, mold, etc) large (pollen, etc.)\\n \\nDC1100 features technology and engineering that allows monitoring of indoor air quality with an LCD screen that provides small and large particle counts with a dynamic bar graph showing actual count reading. Multiple modes including minute, hour, day and monitor to evaluate your air quality and store up to 30 days of air quality history for review.\\n \\nColor: Black \\n\\nDimensions: h 7 in x w 4.5 in x d 3 in \\n\\nTotal Weight: 2.5 lb'}\n",
      "{'title': \"Wilton Princess Cupcake Wraps' n Pix, 12 Count\", 'salesRank': {'Kitchen & Dining': 30205}, 'Best review': 'My cupcakes were a hit! People have even asked to hire me to provide the cupcakes for their events. I must credit a little of that success to these. Very handy and exactly as described.', 'description': 'Why not give her the royal treatment on her special day? Every girl will love to have a dream-like party celebration. Features crowns, hearts and more'}\n",
      "{'title': 'Medelco Cordless Glass Electric Kettle', 'salesRank': {'Kitchen & Dining': 100351}, 'Best review': \"Got the kettle earlier this week, been using it at least 6 times to day - I drink a lot of tea.  Works well with water just above the minimum mark.  And yes, it seems to boil forever before the automatic shut off (I timed it once at around 12 secs after first bubbling).  But it will shut off - make sure the lid is shut properly.  It looks very stylish too - I love the glass container and the non traditional round shape and the fact that it doesn't need to be locked into one position on the base to boil.\", 'description': \"Medelco's Glass Electric Kettle offers unprecedented value. Features include: 1.75 liter capacity; safety auto shut off; on/off indicator light/ hinged locking lid; 360 degree swivel base for right or left hand use; ETL/CETL certification; lab-quality boroscilicate glass; BPA free; and concealed elements for easy cleaning.\"}\n",
      "{'title': 'Hamilton Beach 31330 Toaster Oven', 'salesRank': {'Kitchen & Dining': 12289}, 'Best review': 'I have a large family of five children (and two adults) who are constantly making oven type foods. No longer does the oven have to be turned on. This toaster oven does a 12&#34; pizza without a problem and even roasts meat without a problem! Easy access for easy clean for the crumb tray, and things bake/roast/broil as good as the oven, if not better. The only difficulty I had was figuring out the knobs as to &#34;where they were with the settings&#34; but I was able to fix that by marking the knobs (on the off positions) with my white permanet marker pen. Now its perfect! (Be sure to mark all three knobs. A white nail pen for french manicures works well, too.) A fantastic toaster oven plus!!!!', 'description': 'With a large curved glass door, the Hamilton Beach Convection Toaster Oven is designed for easy access. The convection cooking cooks food more evenly. Other functions include: 30-minute timer with ready bell, toast, bake and broil settings, bake pan and broil rack and removable slide out crumb tray.'}\n",
      "{'title': 'Honeywell HFS641P 16-Inch Remote Control Stand Fan', 'salesRank': {'Home &amp; Kitchen': 529941}, 'Best review': \"well designed, solid, very stable. Not overly noisy, moves a lot of air. I enjoy having a remote, much more useful than I thought it would be. The very best fan we've owned, very reasonable price.\", 'description': 'Control this High Velocity, super cooling oscillating fan from the comfort of your chair via remote control. Advanced blade design moves more air to cool you faster. Remote control puts you in charge of your comfort.'}\n",
      "{'title': 'Organize It All Storage Wardrobe (13111W-1)', 'salesRank': {'Home &amp; Kitchen': 39344}, 'Best review': 'If you need extra space for your clothes, this is a good wardrobe.  It is strong and you can store a lot of clothes and other items.', 'description': \"The Organize It All Storage Wardrobe is a space saving canvas white storage wardrobe closet. It's constructed of cloth material with dark trim. It includes a full zipper for easy access and a reinforced bar to hang clothes. The featured top and bottom shelf is great for additional clothes.\"}\n",
      "{'title': 'Oatmeal stoneware Salt Pig and Spoon Salt Keeper', 'salesRank': {'Kitchen & Dining': 22289}, 'Best review': 'My husband literally thinks this thing is nuts.  Or that I\\'m nuts for having one.  He didn\\'t enjoy my \"History of the Salt Pig\" lecture.  But man, I just love this little thing.Mine arrived in perfect shape- nothing broken or chipped.The little spoon?  Hmmmm.... not a huge fan.  I\\'m using it, but I find because if its shape, it does spill more salt than is necessary.  I really love pinching my salt for cooking/sprinkling, though.  For me, the opening is wide enough to do this.I don\\'t know... It\\'s a novelty, I guess.  But now that I have this little thing, I use it several times a day (I cook a lot at home).  I\\'m not sure I could go pigless again after getting used to this.  :)', 'description': 'Description:Based on old fashioned salt keepers, the jars, known as \"salt pigs\" have a small knob for carrying, and a large hooded opening resembling the snout of a pig including ears, a curly tail and a 4\" spoon. It will hold approximately 6 ounces of your most frequently used salt. Discover the ease of keeping salt near the stove in this adorable Stoare Salt Pig.Color:Stoare OatContent:StoareItems Included & Size & Measurements:One Salt Pig 5\" tallOne Spoon 4\" longCare:Hand or dishwasher safeOrigin:China Picture below shows this Salt Pig in another color, color sold here is Oatmeal'}\n",
      "{'title': 'Cranberry Red Colored Feather Down Comforter - Queen Size', 'salesRank': {'Home &amp; Kitchen': 330807}, 'Best review': 'I bought this for my guest bedroom. I am impressed with the color and I am sure my guests will get a lot of comfort from it.  Chas', 'description': \"Hypo fresh Down Sterilization Process helps keep this comforter non allergenic. It is constructed with an all Down Proof Cover that provides a block against the down slipping out. It is truly the most comfortable way to spend your nights! This wonderful comforter boasts a 550 fill power rating, to keep you warm all year round. The down & feathers are compartmentalized in these 14 inch sewn boxes, so they stay in place & won't leave thin, cold spots.\"}\n",
      "{'title': 'Breville BEW600XL Hot Wok', 'salesRank': {'Kitchen & Dining': 28268}, 'Best review': 'With a nice large space to cook and easy to control heat, this is a must for a family.  It really DOES make a difference over cook top pans, but I have electric so maybe I would feel different with gas.  Lots of space to move in the pan, never feel cramped.  Heats up quickly and cleans easily.  Highly recommend!', 'description': 'Similar to cooking on a gas stove, the unique 1500 Watt Butterfly Element of the Hot Wok distributes heat evenly up the walls of the wok, maximizing high-heat searing potential. The heat-responsive aluminum layers maintain this high heat to sear food, sealing in moisture. 15 precision heat settings to 425 F emulate authentic Asian-style cooking.'}\n",
      "{'title': 'Reusable Grocery Tote w/ 2 Corner Bottle Holders, Oatmeal 4 Pack', 'salesRank': {'Clothing': 309186}, 'Best review': 'I have been using these totes now for about six weeks, and I really like them.  They are shorter than I expected; however, I didn\\'t bother to read the product description that accurately provides the tote\\'s dimensions.  (Not grossly shorter - just 2-3 inches.)  That said, it turns out that I actually like the shorter height much more than other taller totes I\\'ve used.  I\\'m just under 5\\'3\" tall and I can grab two of these totes by their handles, each loaded with groceries, one tote in each hand, arms down straight, and carry both without having to awkwardly lift them up to keep them from dragging on the ground.  I LOVE THIS!  I can\\'t do this with taller totes.Aside from the distinct advantage these totes have for shorter people, the bag itself is very nice.  The material is similar to other store-brand bags, but it\\'s a little stronger/more rigid, and the two corner bottle holders are incredibly useful.  I use the bottle holders for other things too.  I came home today with three clamshell containers of grape tomatoes - they fit perfectly stacked one on top of the other in a bottle holder.  The truth is, a 2-liter bottle of soda and a bottle of wine could easily fit into one bottle holder.I hook the small looped tab on one side to the back of the plastic bag dispenser at the checkout stand which helps keep the bag open for easy filling.  There\\'s a rigid insert/base that fits in the bottom to keep everything stable.  This base has to be moved to the bottom before filling, then raised to one side to fold the bag flat again after use - all very easy.  Because the fabric is more substantial and rigid than a canvas bag, the tote remains upright in the trunk or cargo area, and the contents stay put instead of rolling out and all over the place.  Gotta love it. . .'}\n",
      "{'title': 'Handy Trends Model 00770 Deluxe Hot Surface Handler 2-Pack New Ultra Thick Amazing Glove', 'salesRank': {'Kitchen & Dining': 23515}, 'Best review': \"Hot pads and oven mittens are just too bulky, so I tried these and I really like them.  However, I have had the heat come through the gloves on some occasions - mostly at the finger tips and when I am holding something really hot for an extended period of time (a minute or so).  So it's a good product just not a great product.\", 'description': \"The Amazing Glove Deluxe is 2 pack hot surface handler and can withstand extreme dry heat up to 480 degree F. Great for Kitchen, BBQ's, in the workshops and more. Can also be used to change light bulbs. The heavy duty exterior layer of the glove forms an intense thermal isolation barrier which dramatically slows the temperature increase in the ultra-soft, double-knit cotton interior of the glove. New Ultra thick quality. It dramatically extends the time you can handle a hot object in your hands. When exposed to an open flame, the outer layer of the glove does not catch fire and does not melt. Fits right or left hand. One size fits all. Lightweight. Machine washable.\"}\n",
      "{'title': 'SeaTeak 60022 Shower Mat, Oiled Finish', 'salesRank': {'Sports &amp; Outdoors': 25153}, 'Best review': 'The shower mat is really well represented by the picture. There is a bit of \"film\" on the wood slats, but the feeling has worn away over the past week. The water evaporates off the bath mat quickly. This is a generously size mat and the labeling on the mat indicates that the wood comes from sustainable teak plantations. This is also the best price I could find anywhere. I figure that I will get decades of use out of this mat... bathroom, patio, pool, backdoor... and so the cost is worth it.', 'description': 'Raised and vented construction allows for free circulation of water and debris. Each of the 14 slats are secured to each of the 3 foundation boards with stainless steel screws.'}\n",
      "{'title': 'Norpro Magnetic Lid Wand', 'salesRank': {'Kitchen & Dining': 4209}, 'Best review': 'I canned for the first time ever this last fall. I am SO glad I bought this little guy - I have no idea how you are supposed to boil/sterilize lids without one of these things - that is, unless you want to melt your fingers off in the process!', 'description': '7\"/18cm Picks up one lid at a time Safely remove canning lids from boiling water Helps to keep the lids sterilized.'}\n",
      "{'title': 'Norpro Stainless Steel Oil Mister', 'salesRank': {'Kitchen & Dining': 46261}, 'Best review': \"The norpro is poorly constructed, and won't last long...  Misto makes several that get great reviews, and they run $9.99 to $15 each.\", 'description': 'Stir-fry snow peas and bok choy without drowning them in oil thanks to Norpro&#x92;s stainless steel oil mister. The sprayer emits canola, vegetable, olive, or sesame oils gradually, to allow chefs greater control for more flavorful and healthy dishes. The sprayer also dispenses oil evenly along the entire cooking surface of a griddle, skillet, or baking sheet for less waste. The sprayer holds up to 8 ounces of oil and is made of high-quality, 18/10 stainless steel with a brushed, satin finish. Left- and right-handed users alike may grip its grooved sides with ease. For continued beauty, hand wash this item with a mild detergent. The sprayer measures 7-3/4 by 6-1/4 inches, and weighs 1 pound upon shipping.--Jessica Reuling'}\n",
      "{'title': 'Oggi Pro Stainless-Steel 10-Piece Cocktail Shaker and Bar Tool Set', 'salesRank': {'Kitchen & Dining': 2047}, 'Best review': \"I was hesitant buying this. However, i took the plunge and bought it anyways. The shaker is great. It works perfectly WITH NO DRIPS. But, I will agree the finish and the tools aren't as sturdy as you'd like. I'm very picky. It's meets my expectations on sturdiness as far as a 8/10. But, if your looking for a tool set this is definitely the best priced for how much you get at a great quality. I'd recommend it if you don't already have a shaker. But if you do, then get the OXO bar set for roughly the same price.\", 'description': 'With innovative designs and contemporary finishes, Oggi&#x2019;s kitchen, bar and bath wares are truly tomorrow&#x2019;s house wares today. Oggi&#x2019;s 10-Piece Stainless Steel Bar Set with Rectangular Stand is no exception. Black stand and cutting board. Stainless steel tools with black accents. Set includes a two-piece glass and stainless shaker set, double jigger, lemon / lime slicing knife, bottle cap lifter, cocktail strainer, stirrer, tongs, chopping board and a rectangular stand. Set is great for home bars and parties.'}\n",
      "{'title': 'CaliBowl Non-Spill 20-Ounce Original Bowl with Non-Slip Base, Set of 4, Orange', 'salesRank': {'Kitchen & Dining': 94923}, 'Best review': \"In general, I love these bowls. The colors are beautiful and the size is perfect. They do scratch easily though. Also, it's difficult to fit them in dishwasher-they are quite thick.I bought them for my kids-and they like them. The bowls don't slide and nothing gets outside. I will them again.\", 'description': 'These amazing CaliBowls are the perfect non-spill, non-slip bowls for enjoying cereal and soups or dips. The patent pending design on the CaliBowl features an innovative curved inner-lip that guides food back into the bowls and onto your utensil, eliminating over-the-edge spills and creating effortless food control. The original design is built for all-purpose use, and has higher sides than our low-profile design. This 20 ounce size is great for a variety of jobs; comes packed in a set of 4. Dishwasher safe and proudly made in USA.'}\n",
      "{'title': 'Klip It 1481 59-Ounce Meat Keeper Plus', 'salesRank': {'Kitchen & Dining': 6733}, 'Best review': \"What more needs to be said, can't find too much stuff that is made of good quality anymore.  Especially this plastic stuff.  I have several of these they wash well and last a long time.\", 'description': \"The ultimate food storage solution.  A compact stacking system to create clever space saving forms.  It is ideal for organizing today's kitchen and provides one of the the worlds most comprehensive food storage solutions.  Comes in a large variety of size\"}\n",
      "{'title': 'Emeril Nonstick 10-Piece Cookware Set', 'salesRank': {'Kitchen & Dining': 552425}, 'Best review': \"I am a big fan of All-Clad cookware, and I was shocked--shocked--at the quality and value of this All-Clad produced set! One tends to look for corner cutting in the way this set is made to explain the low price, but everything is first-rate, both in materials and workmanship. The handles are decidedly more comfortable than the standard All-Clad design (chalk one up for Emeril's design input, I guess), and the non-stick finish looks like it will last a long, long time.\", 'description': \"A world-class collection of nonstick cookware, Emeril bears the signature of celebrity chef Emeril Lagasse (Bam!) and was created in partnership with renowned cookware maker All-Clad. Durable, heavy, and beautiful, Emeril combines the contemporary style of charcoal black hard anodized-aluminum with the contemporary ease of nonstick. The exceptional thickness (5&#xA0;mm) of the hard anodized-aluminum and three layers of tough nonstick provide better heat retention and scratch-resistance. Ideal for low-fat, healthful cooking, Emeril carries a lifetime warranty against defects.This 10-piece set of Emeril will win the hearts of Emeril fans and other serious cooks. It consists of an 8-inch fry pan, a 10-inch fry pan, a 2-1/2-quart saucepan with lid, a 3-1/2-quart saucepan with lid, a 3-quart saut&#xE9; pan with lid, and a 6-quart stockpot with lid. The 18/10 stainless-steel lids display a gleaming mirror finish and fit tightly on the pot and pans' flared lips, which prevent drips when pouring. The long handles have indented thumb rests and are rounded for comfort. Cast of stainless steel, the polished handles are riveted for strength, stay cool on the stovetop, and are oven-safe. Emeril should be hand washed.--Fred BrackWhat's in the Box8-inch fry pan, 10-inch fry pan, 2-1/2-quart saucepan with lid, 3-1/2-quart saucepan with lid, 3-quart saut&#xE9; pan with lid, 6-quart stockpot with lid\"}\n",
      "{'title': 'Farberware Soft Touch Nonstick Bakeware 10-Inch-by-15-Inch Cookie Pan', 'salesRank': {'Kitchen & Dining': 116534}, 'Best review': 'This non-stick pan is sturdy, solid, and truly &#34;non-stick.&#34;  I still put cooking spray on, but it requires little to no scraping to remove your favorite dishes.  It is the perfect size for my small oven.  Best of all, because of the non-stick cooking surface, clean up is a breeze as food, oils, etc simply drip right off.  Another nice feature is the plastic grips on either side of the pan.', 'description': \"Our 10-inch by 15-inch cookie pan is designed to fit into all ovens, including smaller wall ovens. The pan is made of heavy weight carbon steel to aid in even browning. The nonstick surface makes cleanup easy and allows you to bake cookies without greasing the pan. The color of a baking pan influences the browning of your baked goods - the darker the color, the more browning occurs. Our nonstick cookie pan is a light gray color to prevent overbrowning. Budget permitting, consider buying two cookie pans of the same type. As different pans yield different results, matching pans helps produce a uniform batch of cookies and allows you to keep one pan in the oven while you're cooling the other, thus speeding the baking process. Our cookie pan has a shallow lip around the edge of the pan, making it suitable for jobs beyond baking, such as roasting vegetables. Note: Total Item length (including rim and grips): 18 in.  Total Item width (including rim): 11.25 in. Baking Surface length: 15 in. Baking Surface width: 10 in. Item height: 1 in.\"}\n",
      "{'title': 'ZingAnything Salad Zinger - White', 'salesRank': {'Home &amp; Kitchen': 55850}, 'Best review': \"Great idea. Bought one for my husband as he likes to make his own dressing.  He liked the idea and way it worked but seldom uses it.  Faster to use oil and vinegar I guess.  But I'm going to take it on as I really did enjoy the healthy results.\", 'description': \"The Zing Anything Salad Zinger allows you to create your own fresh salad dressings, infused oils, vinegars and more. Simply unscrew the bottom cup, add your fresh ingredients and reattach it to the bottle. Add your liquid to the bottle and shake to begin infusing. It's that simple! The twisting motion that takes place when you reattach the cup grinds your ingredients to release their flavors into your liquids.  The salad zinger is a reusable 12 oz. bottle made of BPA/EA-free Tritan Plastics and an 18/8 stainless steel screen.\"}\n",
      "{'title': 'Set of 3 u-Go Bags Reusable Shopping Bags 3 Blue Insulated', 'salesRank': {'Kitchen & Dining': 78746}, 'Best review': \"There is another version of these that are around $50 for 2 and with this one you get 3! I have to explain them to the grocery store bag boy a lot but everyone loves them and wants them too.  They work great for cutting down trips to the house and all the extra bags that you either have to keep up with to recycle or the resusable ones you have to remember to get back to your car.  I've used them at several places and have had no issue with getting them to stay on the cart.  We only live 4 minutes from the grocery store so I'm not sure how well they insulate. The material isn't the nicest but I expect to get a couple to few years out of them.  Still a way better option to the more expensive ones.\", 'description': \"U-Go Bags is the only grocery bag that clips to the side of your cart and expands wide. It's the bag with a hook and it's like a box. Any item big or small U-Go Bags holds it all. When it comes time to pay you won't need to be ask paper or plastic ever again. U-Go Bags holds the contents of multiple plastic bags. You save time loading your car and all the way home they don't rock and roll like plastic bags. U-Go Bags stay upright. It's the bag that thinks it's a box. The U-Go Bags insulated are designed for food transport only. U-Go Bags Insulated will keep groceries hot, cold, or frozen for up to two (2) hours (contingent upon outside temperature conditions. U-Go Bags fold away to fit anywhere and there is even a pocket on the front for you to store your shopping list, coupons, wallet, pen or pencil, money, or your cell phone. Each u-Go Bag has comfortable handles and is strong enough to holds UP TO 20 POUNDS.  They close up to keep your groceries secure. Use the  U-GO Bags for your  a picnic in the park, to pack your child's snacks  for a trip to grandma's house, or even at the beach. So say no to paper and plastic bags and use you U-Go Bags.\"}\n",
      "{'title': '8x30 Bolster Sham Insert Pillow Form', 'salesRank': {'Home &amp; Kitchen': 61812}, 'Best review': \"The bolster kinked in 2 places so it doesn't look like one whole piece, you can tell there are three pieces not one solid one, which is what I wanted.  Next time I'll order elsewhere.\", 'description': 'Revive your old shams or fill your new one with this new 8\" x 30\" Bolster Insert Filled with High Quality Long Lasting Soft Polyester Filling. This insert is plump and full from corner to corner, you will not find a fuller insert. The insert is covered with a non-woven polyester cover.These bolsters are filled full but are soft and should be used in decorative shams.They are not intended to provide back support or to be used in yoga.'}\n",
      "{'title': '4.5&quot; N/S PETITE TORTILLA BOWL MAKERS, 4 PCS', 'salesRank': {'Kitchen & Dining': 57013}, 'Best review': \"These Small Tortilla Bowls Makers are a Great Alternative to frying Tortillas by Baking them in the Oven. I use regular size corn tortillas and they look Terrific. I found many other uses from all kinds of small Tostadas, and many other Mexican Food Variations to Salads and even Desserts. My Favorite is making Individual Apple Pies with Pastry Dough, you don't even have to oil or spray the Tortilla Bowls, the butter in the Pie Dough takes care of that, I Bake Eight at a time, the two sets I ordered it, a little bit of work but is worth it!First I Blind Bake the Dough lightly to create a Crisper Crust until they turn a little Golden, Chill, and spoon the Apple Filling that I already made, I sprinkle with Streusel Crumb Topping and back in the oven to take care of the Topping. I also make my version of the Eclair Dessert with Vanilla or Chocolate Sugar-Free Fat-Free Instant Pudding, also with Pastry Pie Dough instead of Graham Crackers, I Blind Bake them, Chill, carefully spoon the Pudding inside after the Pudding sets I topped them with a chocolate Glaze, and the second time I made them I used Whipped Cream on Top. I keep finding more uses for The Tortilla Bowl Makers. Everyone loves getting their own Individual Little Pie! ...Thank You D.D.\", 'description': 'Impress your guests with a salad served in a tortilla cup. Just line the pan with a flour tortilla/wrap or an eggroll wrapper and bake. Voila! A fluted cup to hold a sald or appetizer. Perfect for tuiles too. Fits a 6\" tortilla.'}\n",
      "{'title': 'CUTEZCUTE 10-Piece Bento Decoration Box, Animals Food Picks and Forks', 'salesRank': {'Kitchen & Dining': 756}, 'Best review': 'They are good to have if you plan on not packing chop stixs  my partner loved it and thought it was a cute way tomake lunch', 'description': 'This animal food pick set is a great accessory to a complete lunch or bento box. It contains 10 food picks for bento, designed as rabbit, lion, elephant, frog and panda. They are very cute for bento decoration, great for party meal or any meal. Every meal can be special and appetizing.'}\n",
      "{'title': 'Duraflame Stove Heater, Black, DFS-550-0', 'salesRank': {'Home &amp; Kitchen': 438689}, 'Best review': \"Comparing this to my Dimplex - the Dimplex is nearly silent. This one is quite noisy.The Dimplex came as one solid stove. This one I had to put the feet on.The thermostat on this one is nice. The Dimplex is just on constantly. The pets prefer the Dimplex over the Duraflame.I use it in my bedroom so I don't have to waste energy heating the entire house while I'm sleeping. Saves me money. It's a great little gizmo.\", 'description': 'Black electric stove.'}\n",
      "{'title': 'Stainless Steel Rotary Cheese Grater', 'salesRank': {'Kitchen & Dining': 108086}, 'Best review': \"Absolutely fantastic.  It grates quickly, with little effort, and it is easy to direct the cheese on to the dish you are making straight from the grater.  It is sturdy (not like others that I've had that wobbled or bent) and is super easy to disassemble and clean and put back together.  I have used up all the hard ends of cheeses forgotten in the deli drawer of my fridge!\", 'description': \"Have fresh grated cheese quickly and easily with this rotary style cheese grater. This rotary style grater is easy to use; simply add cheese to hopper and turn handle. It's also safe to use because your fingers are kept far away from sharp blades. Made of durable and long lasting stainless steel. Dishwasher safe.\"}\n",
      "{'title': 'Closet Complete Ultra Thin No Slip Velvet Hangers for Shirts and Dresses, Black, Set of 50', 'salesRank': {'Home &amp; Kitchen': 2498}, 'Best review': \"I have a lot of spaghetti strap tops and silky tops, so these work great for gripping them and not sliding off like the plastic hangars do.  They are also a little thinner than the plastic ones, so you can fit more in your closet!  I have the expandable hangar hooks that drop down, and the metal hooks are easy to maneuver through the holes, unlike the plastic hangars.  I don't know how well they would hold up to heavy coats though.  I haven't used them for that yet.\", 'description': \"Closet Complete&#xAE; America's Favorite Brand brings quality, luxury and value to the care of all your shirts and dresses with our 50 - piece Black Ultra Thin No Slip Velvet Hangers. Contoured notched shoulders protect your clothes' shape and fabric and hold thin straps, the no-slip velvet feel holds clothes securely and prevents slipping. Durable construction, thin space saving design maximizes closet space.\"}\n",
      "{'title': 'Con-Tact Brand PVC Bath Mat, Bright Orchid Pebbles, 29.5&quot; x  14&quot;', 'salesRank': {'Home &amp; Kitchen': 258633}, 'Best review': 'Our tub was the worst slipperiest tub I have ever encountered in my life, it is like it has Teflon on the sides and the bottom. We tried those little suction things at Wal-Mart for the bathtub and they did not do anything so I finally resorted to Amazon where I read the reviews on this bathmat & wanted to give it a try to see if this would help my family from falling in the bath-tub.When I got this, I was shocked at the Amazing silicone like feel and quality of it. I put it in the bathtub and it just stuck like glue and has not moved an inch. When removing it to clean the tub, you really have to put a little muscle to get it to remove because it suctions that good to the tub. My family is really totally appreciating this and no more worries about falling anymore. Would order this again in a heartbeat.', 'description': 'This cushioned bath mat provides a soft standing surface with maximum comfort and anti-slip protection while complementing your bathroom d&#xE9;cor with the look and feel of wet pebbles.  Bath mat is gentle to the skin, drains easily and is machine washable.  Simply moisten bath tub floor and firmly press all suction cups in place.  Step carefully onto mat to make sure it is secure to the tub.  After use, pull up, rinse, hand and air dry.  With our latest innovative and fashion-forward products in sophisticated colors and patterns, Con-Tact Brand bath and shower mats continue to lead the industry. Item #BMAT-C02496-04.  29.5\" x 14\".'}\n",
      "{'title': 'OXO Good Grips Citrus Juicer', 'salesRank': {'Kitchen & Dining': 11765}, 'Best review': 'I use this almost every day for adding lemon juice to cooking recipes, but I\\'ve also used it to make grapefruit juice and orange juice.  This clever little gadget is a joy to use--it\\'s so SATISFYING to really REAM a citrus half.  I don\\'t think I really understood the true meaning of the word \"ream\" until I used this juicer!  It scours out the insides of your citrus, leaving just a dry husk behind.  You can really be confident that you got everything the first time around!It\\'s easy to use--not much force needed.  With our old juicer we had to both push down on the fruit, and also press the sides into the reamer... no more!I haven\\'t had any problems cleaning it--I just rinse it out promptly after using it and swab at it haphazardly with a soapy sponge, and it\\'s like new again.Because so much pulp is scraped off the rind, you do end up with a lot of pulp on top of the filter, so when making a large quantity of juice, this needs to be cleaned off occasionally or the juice won\\'t flow through to the reservoir efficiently... or you can do like me, and scrape it all into your juice jug for ultra-pulpy juice!It just makes me feel sad to think that anyone is still using an old-fashioned juice squeezer.  I\\'ve also tried theAmco Enameled Aluminum Squeezer, Orange, but that was messier, harder to use, and less versatile as far as the size of the fruit that worked.', 'description': 'Fresh squeegee citrus juice is delicious by the glass and perks up your favorite recipes. Now juicing is easy with the OXO GOOD GRIPS Citrus Juicer. Two different sized reamers are perfect for lemons, limes, oranges and small grapefruits, and our clever reamer design makes juicing easy and efficient. For recipes, use the measurement markings for the perfect amount of juice every time. And the soft, non-slip grip makes pouring comfortable. The Juicer comes apart for easy cleaning and is dishwasher safe'}\n",
      "{'title': 'Keystone Energy Star 70 Pt. Dehumidifier, KSTAD70B', 'salesRank': {'Home &amp; Kitchen': 668}, 'Best review': \"We were running a 20 year old dehumidifier in our basement and it finally died.  After getting this new one did I realize how inefficient the old one was.  It's very easy to use, but I do agree with others that the water bin is a bit difficult to get back in; I end up having to &#34;smack&#34; each side gently to get it back in place.  I would not want to have to carry the full bucket up stairs to empty it; I only carry it a few feet and it seems that's what it was meant for.  I think I should have gotten a bigger model due to the fact that I'm emptying this twice  a  day running it on Normal and Auto.  I am very, very happy with my purchase.\", 'description': 'The Keystone KSTAD70B Energy Star 70-pint Dehumidifier removes up to 70 pints of moisture from the air per day. It has electronic controls with LED display, a transparent water level indicator and a full bucket indicator. Continuous draining option is available with a hose. It also has a 24-hour timer and a removable, easy-cleaning dust filter with a clean-filter alert. The auto-restart saves your settings during a power outage and the rolling castors make the unit easy to move to another location. Plus, it has a full one-year parts and labor warranty and a limited 5-year sealed system warranty as well.'}\n",
      "{'title': 'Ozeri Pro Electric Wine Bottle Opener in Silver, with Wine Pourer, Stopper, Foil Cutter and Elegant Recharging Stand', 'salesRank': {'Kitchen & Dining': 11433}, 'Best review': \"July of last year I was dancing at a local Eagle's club, and an elderly gentleman lost his balance, fell backwards, knocked me down, and fell on top of me.  My right wrist was broken, and my hand was angled to the side.  So I now have a titanium plate, steel rod, and 7 screws in my right wrist.  I can't open cans, twist lids off, or open bottles of wine.This is where my Ozeri Pro Electric Wine Bottle Opener with Wine Pourer, Stopper, Foil Cutter and Elegant Recharging Stand, in Rubberized Black, comes to the rescue.When I first received the product I had to plug the unit into the electricity supply, and charge it for 8 hours.  This was very simple to do.  Once it was fully charged it states that it will open up to 40 bottles.I drink the odd glass of wine at home, and couldn't wait to see if this gadget would make my life easier for me.  I looked at the leaflet that came with the Wine Bottle Opener, and it looked so simple.  First I took the foil cutter out of the back of the stand, that holds the bottle opener, and placed it around the top of the wine bottle.  I twisted it, and the foil came off easily.  No broken nails, or pain in my wrist.  I then slotted it back into housing unit, so I wouldn't loose it.I held the bottle in my left hand, keeping it upright, and then placed the Ozeri Electric Wine Bottle Opener on top of the wine bottle.  With it in place, I then pressed the bottom button, with the arrow pointing downwards.  It then went into the cork, and took it up into the opener.  Once it had stopped, I had my wine bottle open.  I put the bottle down, and then pressed the upper button, with the arrow pointing up, and the cork came out of the opener.That is so neat, and done in no time at all.  No chance of me cutting my fingers on the foil, ruining my nails, or hurting my wrist.  I didn't have a broken cork, or bits of cork in the wine either.  As I don't drink a whole bottle of wine in one sitting, I am also enjoying the silver, and black stopper, that I use instead of the cork.The bottle opener then goes back into the recharging unit, and stays there until the next bottle of wine, needs opening.So today was my birthday, and the wine came out.  Normally Len would open the wine for me, but with my new 'toy', I couldn't wait to do it myself.  I have opened 3 bottles of wine with it, and it has worked perfectly every time.It does state on the leaflet that: It may experience problems with a small percentage of plastic/synthetic and undersized corks. If so the cork should be removed manually.I am having fun with my elegant rubberized black Ozeri Electric Wine Opener.  It stands in my kitchen, and looks great.  The base and top are black, with silver buttons, and top.  This is a talking point when I am entertaining, and I can't wait to show it off to more friends.  They will most likely want me to bring it to their parties, or may buy one themselves.I was sent the Electric Wine Opener by Ozeri for my personal use. I was under no contract, or obligation to write a review, or to write a favorable one if I chose to write one.\", 'description': 'The Ozeri Pro Electric Wine Opener makes opening wine bottles easy while entertaining your guests at the same time. Designed for home and restaurant use, its latest generation battery now opens up to 40 wine bottles with the gentle push of a button, all on a single charge. The Ozeri Pro Electric Wine Opener is completely cordless. It includes an elegant recharging base with an LED charging indicator and an always needed foil cutter to remove wine seals. This new edition of the Ozeri Pro Electric Wine Opener includes a bonus wine pourer and stopper. The Ozeri Pro Electric Wine Opener opens both natural and synthetic corks. It also features an improved and new ultra light-weight design, a faster motor and an ergonomic grip for effortless handling. Use it at home or take it with you to impress your hosts and guests before the first sip.'}\n",
      "{'title': 'Blazing Needles Twill 18-Inch by 18-Inch by 5-1/2-Inch Throw Pillow, Forest Green, Set of 2', 'salesRank': {'Home &amp; Kitchen': 701133}, 'Best review': 'These pillows are a nice addition to my sofa.  I had special ordered my furniture and regretted not ordering more pillows.  I needed something plain in order to match and I found this pair on-line.  They were inexpensive and look great.', 'description': 'Blazing Needles Twill 18-Inch Width by 18-Inch Length by 5-1/2-Inch Height S/2 Throw Pillow,Forest Green'}\n",
      "{'title': 'Furi Rachael Ray Coppertail 3-Piece East/West Bamboo Knife Set', 'salesRank': {'Kitchen & Dining': 132274}, 'Best review': 'I love these knives.  They are exceptionally sharp and will even slice freshly baked bread without mashing it down.  Veggies are like butter.  I would urge you to put these in your knife collection.  But, then again, you may not use the old ones at all!!', 'description': 'The unique \"East/West\" blade design of F&#xFC;ri Pro Coppertail knives combines the sharpness and scalloping of a Santoku with the thinness and curved edge of a chef\\'s knife. The result is cutlery that is superb for straight slicing without sticking but that still works into a great rocking motion for speedy mincing or chopping. Not to mention that Coppertail knives are the cutlery of choice for cookbook author and Food Network host Rachael Ray, who has a great deal of clout with home chefs.This box set packs two Coppertail cook\\'s knife/vegetable chopper knives. The first has a 5-inch blade for handling smaller fare, such as halving cherry tomatoes or slicing mushrooms. The longer 7-inch blade is ideal for bigger jobs, such as chiffonading spinach or slicing large tomatoes. Knives are made of a single piece of high-carbon Japanese stainless-steel alloy so there are no gaps where food particles can get caught and no plastic pieces or rivets that can potentially fall off over time. The strength of this steel allows for an extremely sharp cutting edge that requires minimal maintenance to keep its sharpness.The ergonomically shaped handles on this cutlery feel lightweight yet properly balanced and provide a comfortable grip through hours of cooking. Handles are curved but have wedge-shaped angles on the top and bottom to reduce the amount of squeezing and hand strain and to prevent slipping when hands are wet or oily. Additionally, these knives have a notch just beyond the bolster that comfortably cradles the index finger and are the only brand with a counterbalancing copper insert at the ends to maintain the ideal weight between handle and blade. After years of sharpenings, the blade can lose a great deal of metal, which throws off the balance of the blade. The copper insert can be honed down to reduce handle weight and restore the proper balance.These two knives come in a gorgeous bamboo wood gift/storage box with sturdy metal hinges and a magnetic closure on the front. Engineered in Australia and manufactured in China, F&#xFC;ri Pro cutlery is covered by a limited lifetime warranty.--Cristina Vaamonde'}\n",
      "{'title': 'Household Essentials Under Cabinet Sliding Trash Can Caddy, Holds One 5-Gallon Waste Can', 'salesRank': {'Home &amp; Kitchen': 342364}, 'Best review': \"Pro: Great quality! Made with heavy gauge metal. Slider is very sturdy and secure. Slides easily.Con: No door mount. The metal brackets holding the trash basket in place don't fit that well. Had to made own adjustment.OTHERS WHO HAVE PROBLEM WITH THE INSTALLATION SCREWS BLOCKING THE SLIDER - remove the 4 screws holding the slider plate (next to the metal brackets holding the trash can). Put them back with the heads on the underside. The heads are thinner than the nuts so you have better clearance. DO THIS BEFORE INSTALLATION WILL SAVE SOME HEADACHE.\", 'description': 'Keep waste cans out of the way but completely within reach with this Glidez trash can caddy. These commercial grade, heavy-duty, chrome wire organizers with Quikfit ensure your waste can stays securely in place (no tipping) inside the cabinet and out. With full extension gliders, emptying the waste can is nearly effortless. Treat yourself to a more refined way to dispense with the trash glide about your business. Includes one five-gallon trash can. Item #C29517'}\n",
      "{'title': 'Magefesa Practika Plus Stainless Steel 8 Quart Super Fast Pressure Cooker', 'salesRank': {'Kitchen & Dining': 30247}, 'Best review': \"Learning how to cook with a pressure cooker.  Great product.  Glad I got the large one as you can only fill 2/3 of the way.  Bought Miss Vickie's P.C. cookbook and have had great success with the pair.\", 'description': 'Preserves vitamins and minerals which are usually lost with conventional cooking methods. (Pressure cooking retains important water-soluble vitamins and minerals lost in conventional cooking so meals are healthy and delicious). Reduces cooking time up to 70% so you will be using less energy and saving money. Pressure control system with 2 cooking levels: fast cooking -8 psi-, super fast cooking -15 psi. Made of 18/10 stainless steel. 5 additional safety systems: working pressure valve, pressure indicator valve, security valve, safety edge lid window and \"easy lock\" system (prevents opening before pressure is completely released). Bakelite and ergonomic handles. Easy fit lid. Induxal tri-ply base: 18/10 stainless steel, aluminum, and 18/10 stainless steel for even heat distribution. Trivet and steamer optional. Suitable for all type of surfaces: gas, electric, ceramic and induction stoves. Dishwasher safe pot. Ten-year warranty. Designed in Spain. Family of 6-8 people. Can be used as a pressure canner.'}\n",
      "{'title': 'Elite Home Percale 3-Piece Cotton Twin Sheet Set, Berry', 'salesRank': {'Home &amp; Kitchen': 632848}, 'Best review': \"Quite frankly, they are a bit rough. But they cover the bed. Need I say more? They are not your soft, silky sheets that cost more money. They do the job, and that's about all I can say for them. Except that the color is true to the color advertised. It really is sage green.\", 'description': 'Elite Home Collection Oversized 250 Classic Percale Cotton Rich 4-Piece Twin Size Sheet Set-Bring an affordable little luxury into your bedroom with the cheerful colors of our Oversized 250 Classic Percale Sheet Set. The Percale Classic 4-Piece Sheet Set starts with 250 thread-count 55-percent cotton/45-percent polyester cotton rich percale. Because of the method percale is woven, it produces a much stronger and tighter weave that will last considerably longer than inferior types of fabrics and weaves. The benefits to you are sheets and pillowcases that have medium weight, stay firm, smooth and wash very well, all at an affordable price. This twin size 4-piece sheet set includes an 80-by-102-inch oversized flat sheet; two 20-by-30-inch standard size pillowcases and a 39-by-75-inch fitted sheet with a 15-inch pocket and elastic all around to fit standard and thicker mattress sizes up to 17-inch. For added convenience, Machine wash cold; tumble dry low.'}\n",
      "{'title': 'Ball&reg; Collapsible Funnel  (by Jarden Home Brands)', 'salesRank': {'Kitchen & Dining': 6604}, 'Best review': \"It makes sense that the canning funnel sold by the company that makes the jars would work very well and this does. The white part is a rigid plastic that's easy to handle. The green silicone part is thick enough not feel flimsy, and it folds and unfolds easily.Pros:The lip is exactly one half inch, which is the headroom called for in a lot of recipes.The funnel is stepped to fit in all sizes of jars.Folded it fits perfectly into a drawer or easily fits in with my canning supplies.It's easy to use and easy to clean.The silicone is smooth enough that it's easy to get everything through the funnel without excessive sticking.The stepped design means it will work in all the types of jars they make.The top opening is nice and big for ladling thick salsas and jams. Nothing went outside the funnel.Cons- None for me. I'm really happy with this funnel!\", 'description': 'Accommodates all jar sizes and fits in your drawer! The Ball&#xAE; Brand Collapsible funnel combines rigidity and strength in the frame and handles, with a soft collapsible mouth for perfect jar fit and convenience. Design features include notch-rungs to securely fit both regular and wide mouth jars, making it nearly spill-proof to fill canning jars.'}\n",
      "{'title': 'Calphalon Contemporary Stainless 10-Piece Cookware Set', 'salesRank': {'Kitchen & Dining': 208020}, 'Best review': 'I just bought this set.  I was actually going to the store to buy All Clad, but there was such a good deal and so many extras on Calphalon, I decided to try them out.  Both my husband and I cooked in them.  My husband had stuff sticking all over, but he used too high of heat.  Mine did not stick.  Even with his food sticking, they cleaned so easily (I did have to use Bar Keepers Friend on the pan that he made potato in to get the rainbow coloring off of it, but it did not take any longer that washing it with dish soap).  My husband was not to sure about them after his experience.  I cooked bacon and sausage in them as well, no sticking.  I decided to put them to a real test, an egg.  I scrambled an egg (only way I like them lately), and let it set out for several minutes, and did the butter test that was in the directions.  After adjusting the temp. to get it right, I poured the egg into the pan (half expecting it to stick after reading some reviews).  Not one piece stuck!!  I have an electric glass cook top, so if it was going to stick, it would probably be on my stove.  So far, they seem like they will work out good.  They were definitely a great value for the quality.  I will update if I find anything wrong with them, or any other problems.', 'description': 'Set includes an 8-inch omelet pan, a 10-inch omelet pan, a 1-1/2-quart saucepan with cover, a 3-1/2-quart saucepan with cover, a 3-quart saut&#xE9; pan with cover, and an 8-quart stockpot with cover. The sleek curves of the unique design complement your kitchen, as does the brushed stainless exterior. The tri-ply construction with full aluminum core means superb conductivity and even heating. The stay-cool handles remain comfortable for hours on the stovetop, and the tempered-glass covers provide see-through convenience and make for a beautiful presentation. The cookware is dishwasher-safe and  cleans up quickly and easily. Lifetime warranty.'}\n",
      "{'title': 'Hoover Windtunnel Secondary/Final Vacuum 2pk Filter - Generic', 'salesRank': {'Home &amp; Kitchen': 60789}, 'Best review': \"Received as promised. No need to contact company. Filter was a perfect fit. I would purchase this product again. I don't understand why I need to keep writing about this filter.\", 'description': 'Hoover Windtunnel Secondary/Final Vacuum Filter - Generic Corresponds to Hoover Filter 38765019. It fits underneath the bag in the dust compartment..'}\n",
      "{'title': \"Chef'n FreshForce Self Sharpening Pizza Wheel\", 'salesRank': {'Kitchen & Dining': 114551}, 'Best review': \"I've had this cutter for about 3 weeks and find it probably the best one I've ever had.  At first I was cutting my pizza on it's metal baking pan, which was a mistake with this cutter.  It has a very fine, sharp edge which can dent easily so I switched to putting the pizza back on it's cardboard packing shape and then cutting it.  Perfect.  No dented cutter, excellent, clean cuts with no toppings squishing out all over the place.  It's sharpener came in very handy for my mistake on the metal and easily resharpened and shaped the blade and it was sharp and straight again.When in the drawer, the sharpener/cover works well to keep it from getting banged up by other utensils.  It's heavy weight and firm blade all make it a quality product.\", 'description': \"Two-in-one is always better than just one. So Chef'n designed a two-in-one pizza wheel and sharpener. The FreshForce Pizza Wheel features a stainless steel blade and a safety guard that doubles as a blade sharpener. To sharpen, just attach the guard and roll the wheel across your countertop. Attach the guard for safe storage. Top-rack dishwasher safe. Hand wash recommended for the safety guard. Since being founded in 1982, Chef'n has become a housewares leader by creating fun and innovative products. The Chef'n product line includes international favorites such as the PepperBall, the PalmPeeler and the SleekStor Collection.\"}\n",
      "{'title': 'Amco Swing-A-Way Easy Release Grease Separator', 'salesRank': {'Kitchen & Dining': 56764}, 'Best review': \"I really liked this gravy separator more than any other I've had...the actual gravy pours out quickly (watch carefully so you don't get the added fat!) and made my gravy making a breeze.  Love it.\", 'description': 'Cook healthy gravies and sauces with the Amco Swing-A-Way grease separator, which enables you to easily view and measure liquids from the clear container with a 4-cup (32-ounce) capacity. The bottom opening allows grease-free liquids to release for gravy or sauces with just a squeeze from the comfortable silicone handle. The lid is perforated so that you can pour sauces right from the pan and filter out larger pieces of food. It also features measurements in 1/4- and 1/3-cup increments as well as 2-ounce increments. Dishwasher safe on the top rack.'}\n",
      "{'title': 'BeanSafe &quot;The Coffee Storage Solution&quot;, Polypropylene -BLACK', 'salesRank': {'Kitchen & Dining': 12396}, 'Best review': \"I really like the storage container. My previous one was ceramic and quite heavy. Had to replace because it slipped out of my hand and broke part of the rim. I like the weight of this one and the snaps that secure the lid. The only reason I didn't give it a 5 star rating was because I'd ordered the Mocha colored canister and the one that was shipped was black. The sku number on the box matched the one on the order so believe the error was the packaging from the manufacturer.September 17, 2013: Additional comment about coffee bean storage container. It holds a full pound of coffee - yea\", 'description': \"BeanSafe has a patented one-way Pressure Release Valve that keeps out air and moisture while permitting carbon dioxide to escape. That's essential, because CO2 buildup degrades coffee flavor. This valve never needs replacing.\"}\n",
      "{'title': 'Freshware 15-Cavity Mini Brioche and Pudding Silicone Mold and Baking Pan', 'salesRank': {'Kitchen & Dining': 34319}, 'Best review': \"After I used the molds from my first order, I purchased a few more of these molds.  It's just as described and I'm really happy with it.\", 'description': \"Make tantalizing brioche for your next afternoon tea or brunch with the Freshware SM-104RD silicone brioche pan! This mold makes 15 Mini brioche at once and features fluted and flared sides that beautifully shape and color the brioche. The brioche mold is also part of Freshware's new Chef's Specialties line of premium bakeware, and has a non-stick coating for easy release and effortless cleanup. Pan Size: 11.7-Inch by 6.8-Inch by 1-Inch, Cup Size: 1.7-Inch diameter by 1-Inch, Volume: 15 by 20-Ml, Total 300-Ml\"}\n",
      "{'title': 'Rubbermaid Servin Saver Cake Keeper', 'salesRank': {'Kitchen & Dining': 8528}, 'Best review': \"You've got to love Rubbermaid.  Products last nearly forever.  This product can be used as a cake saver or turn it over and you have a large container for cookies, etc.\", 'description': 'Store your cake, cookies, and pastries in this to keep that fresh baked taste.'}\n",
      "{'title': 'Norpro Nonstick Linking Popover Pan', 'salesRank': {'Kitchen & Dining': 22548}, 'Best review': 'This is a good pan, but it is not really non-stick.  Be sure you grease the entire inside of the cups before adding your batter, or the popovers will stick.', 'description': 'Bake delightful popovers with crusty outsides and fluffy insides. Deep molds allow the batter to rise and puff to Popover perfection.'}\n",
      "{'title': 'Braun KF510-BK AromaDeluxe 10-Cup Coffeemaker, Black', 'salesRank': {'Kitchen & Dining': 206834}, 'Best review': \"The best thing about this is that the coffee filter thing lifts easily out with zero hassle.  The coffee pot itself has a nice rubberized handle for easy grip.  Someone says the pot drips but that has never happened once with me.  I'm not totally sold on the use of a water filter that has to be replaced every month.  Still too soon to tell if that's just a waste of dollars to buy the filters.\", 'description': \"Braun's AromaDeluxe is a no-nonsense, easy-to-use coffeemaker for those who still prefer a basic cup of coffee. The coffeemaker brews up to 10 cups using a fast brewing method that thoroughly extracts the rich flavor and aroma from your ground coffee. The integrated Brita water filter also contributes to better-tasting coffee by screening out chlorine and other harsh minerals, plus it prevents calcification within the water tank. A marker on the top of the water tank helps you keep track of when the water filter needs to be changed. Other handy extras on the AromaDeluxe include a filter release button, which swings the detachable filter basket open for filling or easy cleaning, and a pause-and-serve feature, which stops the brewing while you pour a cup of coffee midway through a cycle. For safety, the glass carafe has a comfortable, nonslip handle with an open design to accommodate larger hands. Further safety measures include a large, red power button that is easy to see but difficult to switch on by accident. This coffeemaker is covered by a one-year limited warranty.--Cristina Vaamonde\"}\n",
      "{'title': 'Emergency Meal Transport', 'salesRank': {'Patio, Lawn & Garden': 667}, 'Best review': 'these are a big hit with my kids. Well built with a net pocket inside back. Great buy i got 3 and may need a couple more.AAA+++ Seller Fast service', 'description': 'Emergency Meal Transport'}\n"
     ]
    }
   ],
   "source": [
    "for asin in asins:\n",
    "    print(asinReviewSRPDTDict[asin])"
   ]
  },
  {
   "cell_type": "code",
   "execution_count": 13,
   "metadata": {
    "collapsed": true
   },
   "outputs": [],
   "source": [
    "with open('./out/asinReviewSRPDTDict.json', 'w') as outfile:\n",
    "    json.dump(asinReviewSRPDTDict, outfile)"
   ]
  },
  {
   "cell_type": "code",
   "execution_count": 26,
   "metadata": {
    "collapsed": true
   },
   "outputs": [],
   "source": [
    "cleanCompleteSmallData = {}\n",
    "for asin in asinReviewSRPDTDict:\n",
    "    d = asinReviewSRPDTDict[asin]\n",
    "    if ('salesRank' in d) and ('title' in d) and ('description' in d):\n",
    "        cleanCompleteSmallData [asin] = d"
   ]
  },
  {
   "cell_type": "code",
   "execution_count": 27,
   "metadata": {
    "collapsed": false
   },
   "outputs": [
    {
     "data": {
      "text/plain": [
       "26087"
      ]
     },
     "execution_count": 27,
     "metadata": {},
     "output_type": "execute_result"
    }
   ],
   "source": [
    "len(cleanCompleteSmallData)"
   ]
  },
  {
   "cell_type": "code",
   "execution_count": 43,
   "metadata": {
    "collapsed": false
   },
   "outputs": [],
   "source": [
    "departments = []\n",
    "noSalesRank = []\n",
    "for asin in cleanCompleteSmallData:\n",
    "    if len([*cleanCompleteSmallData[asin]['salesRank'].keys()]) > 0:\n",
    "        departments.append([*cleanCompleteSmallData[asin]['salesRank'].keys()][0])\n",
    "    else:\n",
    "        noSalesRank.append(asin)\n",
    "len(noSalesRank)"
   ]
  },
  {
   "cell_type": "code",
   "execution_count": 47,
   "metadata": {
    "collapsed": false
   },
   "outputs": [],
   "source": [
    "# remove entries for which salesrank is empty\n",
    "for asin in noSalesRank:\n",
    "    del cleanCompleteSmallData[asin]"
   ]
  },
  {
   "cell_type": "code",
   "execution_count": 49,
   "metadata": {
    "collapsed": false
   },
   "outputs": [
    {
     "data": {
      "text/plain": [
       "26065"
      ]
     },
     "execution_count": 49,
     "metadata": {},
     "output_type": "execute_result"
    }
   ],
   "source": [
    "len(cleanCompleteSmallData)"
   ]
  },
  {
   "cell_type": "code",
   "execution_count": 50,
   "metadata": {
    "collapsed": true
   },
   "outputs": [],
   "source": [
    "with open('./out/cleanCompleteSmallDataDict.json', 'w') as outfile:\n",
    "    json.dump(cleanCompleteSmallData, outfile)"
   ]
  },
  {
   "cell_type": "code",
   "execution_count": 54,
   "metadata": {
    "collapsed": false
   },
   "outputs": [
    {
     "data": {
      "text/plain": [
       "{'Appliances': 9,\n",
       " 'Arts, Crafts & Sewing': 46,\n",
       " 'Automotive': 4,\n",
       " 'Baby': 7,\n",
       " 'Beauty': 29,\n",
       " 'Camera &amp; Photo': 2,\n",
       " 'Cell Phones & Accessories': 1,\n",
       " 'Computers & Accessories': 1,\n",
       " 'Electronics': 36,\n",
       " 'Grocery & Gourmet Food': 6,\n",
       " 'Health & Personal Care': 279,\n",
       " 'Home &amp; Kitchen': 8650,\n",
       " 'Home Improvement': 61,\n",
       " 'Industrial & Scientific': 147,\n",
       " 'Kitchen & Dining': 16427,\n",
       " 'Office Products': 9,\n",
       " 'Patio, Lawn & Garden': 141,\n",
       " 'Pet Supplies': 23,\n",
       " 'Sports &amp; Outdoors': 129,\n",
       " 'Toys & Games': 58}"
      ]
     },
     "execution_count": 54,
     "metadata": {},
     "output_type": "execute_result"
    }
   ],
   "source": [
    "deptFreqDict = {}\n",
    "for dept in departments:\n",
    "    if dept in deptFreqDict:\n",
    "        deptFreqDict[dept] = deptFreqDict[dept] + 1\n",
    "    else:\n",
    "        deptFreqDict[dept] = 1\n",
    "deptFreqDict"
   ]
  },
  {
   "cell_type": "code",
   "execution_count": 61,
   "metadata": {
    "collapsed": false
   },
   "outputs": [
    {
     "data": {
      "text/plain": [
       "25077"
      ]
     },
     "execution_count": 61,
     "metadata": {},
     "output_type": "execute_result"
    }
   ],
   "source": [
    "deptFreqDict['Home &amp; Kitchen'] + deptFreqDict['Kitchen & Dining']"
   ]
  },
  {
   "cell_type": "code",
   "execution_count": 60,
   "metadata": {
    "collapsed": false
   },
   "outputs": [
    {
     "data": {
      "image/png": "[encoded data removed]",
      "text/plain": [
       "<matplotlib.figure.Figure at 0x1ea89a20>"
      ]
     },
     "metadata": {},
     "output_type": "display_data"
    }
   ],
   "source": [
    "% matplotlib inline\n",
    "import matplotlib.pyplot as plt\n",
    "\n",
    "plt.bar(range(len(deptFreqDict)), list(deptFreqDict.values()))\n",
    "plt.xticks(range(len(deptFreqDict)), list(deptFreqDict.keys()))\n",
    "\n",
    "plt.show()"
   ]
  },
  {
   "cell_type": "code",
   "execution_count": 63,
   "metadata": {
    "collapsed": false
   },
   "outputs": [
    {
     "name": "stdout",
     "output_type": "stream",
     "text": [
      "8650 16427\n"
     ]
    }
   ],
   "source": [
    "HomeKitchenCleanData = {}\n",
    "KitchenDiningCleanData = {}\n",
    "\n",
    "for asin in cleanCompleteSmallData:\n",
    "    if [*cleanCompleteSmallData[asin]['salesRank'].keys()][0] == 'Home &amp; Kitchen':\n",
    "        HomeKitchenCleanData[asin] = cleanCompleteSmallData[asin]\n",
    "    elif [*cleanCompleteSmallData[asin]['salesRank'].keys()][0] == 'Kitchen & Dining':\n",
    "        KitchenDiningCleanData[asin] = cleanCompleteSmallData[asin]\n",
    "        \n",
    "print(len(HomeKitchenCleanData), len(KitchenDiningCleanData))\n",
    "\n",
    "with open('./out/HomeKitchenCleanDataDict.json', 'w') as outfile:\n",
    "    json.dump(HomeKitchenCleanData, outfile)\n",
    "\n",
    "with open('./out/KitchenDiningCleanDataDict.json', 'w') as outfile:\n",
    "    json.dump(KitchenDiningCleanData, outfile)"
   ]
  },
  {
   "cell_type": "code",
   "execution_count": 5,
   "metadata": {
    "collapsed": false
   },
   "outputs": [],
   "source": [
    "json_data=open('./out/HomeKitchenCleanDataDict.json').read()\n",
    "HomeKitchenCleanData = json.loads(json_data)"
   ]
  },
  {
   "cell_type": "code",
   "execution_count": 6,
   "metadata": {
    "collapsed": false
   },
   "outputs": [
    {
     "name": "stdout",
     "output_type": "stream",
     "text": [
      "1582 1796\n"
     ]
    }
   ],
   "source": [
    "# Further analysis on HomeKitchenCleanData for now\n",
    "# lets get the lengths of all description and reviews in this data\n",
    "allReviewLengthFrequenciesDict = {}\n",
    "allDescriptionLengthFrequenciesDict = {}\n",
    "\n",
    "for asin in HomeKitchenCleanData:\n",
    "    reviewLength = len(HomeKitchenCleanData[asin][\"Best review\"])\n",
    "    descriptionLength = len(HomeKitchenCleanData[asin][\"description\"])\n",
    "    \n",
    "    if reviewLength in allReviewLengthFrequenciesDict:\n",
    "        allReviewLengthFrequenciesDict[reviewLength] = allReviewLengthFrequenciesDict[reviewLength] + 1\n",
    "    else:\n",
    "        allReviewLengthFrequenciesDict[reviewLength] = 1\n",
    "        \n",
    "    if descriptionLength in allDescriptionLengthFrequenciesDict:\n",
    "        allDescriptionLengthFrequenciesDict[descriptionLength] = allDescriptionLengthFrequenciesDict[descriptionLength] + 1\n",
    "    else:\n",
    "        allDescriptionLengthFrequenciesDict[descriptionLength] = 1\n",
    "\n",
    "print(len(allDescriptionLengthFrequenciesDict),len(allReviewLengthFrequenciesDict))"
   ]
  },
  {
   "cell_type": "code",
   "execution_count": 68,
   "metadata": {
    "collapsed": false
   },
   "outputs": [
    {
     "name": "stdout",
     "output_type": "stream",
     "text": [
      "0 756 18079 1\n",
      "0 4 13177 1\n"
     ]
    }
   ],
   "source": [
    "minDescLength = min([*allDescriptionLengthFrequenciesDict.keys()])\n",
    "maxDescLength = max([*allDescriptionLengthFrequenciesDict.keys()])\n",
    "\n",
    "minRevLength = min([*allReviewLengthFrequenciesDict.keys()])\n",
    "maxRevLength = max([*allReviewLengthFrequenciesDict.keys()])\n",
    "\n",
    "print(minDescLength,allDescriptionLengthFrequenciesDict[minDescLength],maxDescLength,allDescriptionLengthFrequenciesDict[maxDescLength])\n",
    "print(minRevLength,allReviewLengthFrequenciesDict[minRevLength],maxRevLength,allReviewLengthFrequenciesDict[maxRevLength])"
   ]
  },
  {
   "cell_type": "code",
   "execution_count": 11,
   "metadata": {
    "collapsed": false
   },
   "outputs": [],
   "source": [
    "sampleAsins = [*HomeKitchenCleanData.keys()][:100]"
   ]
  },
  {
   "cell_type": "code",
   "execution_count": 13,
   "metadata": {
    "collapsed": false
   },
   "outputs": [
    {
     "name": "stdout",
     "output_type": "stream",
     "text": [
      "{'Home &amp; Kitchen': 1010665}\n",
      "{'Home &amp; Kitchen': 9854}\n",
      "{'Home &amp; Kitchen': 5967}\n",
      "{'Home &amp; Kitchen': 222763}\n",
      "{'Home &amp; Kitchen': 116929}\n",
      "{'Home &amp; Kitchen': 163927}\n",
      "{'Home &amp; Kitchen': 45478}\n",
      "{'Home &amp; Kitchen': 30747}\n",
      "{'Home &amp; Kitchen': 15122}\n",
      "{'Home &amp; Kitchen': 347078}\n",
      "{'Home &amp; Kitchen': 45440}\n",
      "{'Home &amp; Kitchen': 35652}\n",
      "{'Home &amp; Kitchen': 81822}\n",
      "{'Home &amp; Kitchen': 2148}\n",
      "{'Home &amp; Kitchen': 23637}\n",
      "{'Home &amp; Kitchen': 183587}\n",
      "{'Home &amp; Kitchen': 12472}\n",
      "{'Home &amp; Kitchen': 1322}\n",
      "{'Home &amp; Kitchen': 45504}\n",
      "{'Home &amp; Kitchen': 24894}\n",
      "{'Home &amp; Kitchen': 404206}\n",
      "{'Home &amp; Kitchen': 124887}\n",
      "{'Home &amp; Kitchen': 56536}\n",
      "{'Home &amp; Kitchen': 375415}\n",
      "{'Home &amp; Kitchen': 156614}\n",
      "{'Home &amp; Kitchen': 3313}\n",
      "{'Home &amp; Kitchen': 104117}\n",
      "{'Home &amp; Kitchen': 293558}\n",
      "{'Home &amp; Kitchen': 467577}\n",
      "{'Home &amp; Kitchen': 427347}\n",
      "{'Home &amp; Kitchen': 400656}\n",
      "{'Home &amp; Kitchen': 132370}\n",
      "{'Home &amp; Kitchen': 227724}\n",
      "{'Home &amp; Kitchen': 10717}\n",
      "{'Home &amp; Kitchen': 911675}\n",
      "{'Home &amp; Kitchen': 510316}\n",
      "{'Home &amp; Kitchen': 158386}\n",
      "{'Home &amp; Kitchen': 4902}\n",
      "{'Home &amp; Kitchen': 417196}\n",
      "{'Home &amp; Kitchen': 18549}\n",
      "{'Home &amp; Kitchen': 9702}\n",
      "{'Home &amp; Kitchen': 52037}\n",
      "{'Home &amp; Kitchen': 4300}\n",
      "{'Home &amp; Kitchen': 519861}\n",
      "{'Home &amp; Kitchen': 5342}\n",
      "{'Home &amp; Kitchen': 412421}\n",
      "{'Home &amp; Kitchen': 100167}\n",
      "{'Home &amp; Kitchen': 13960}\n",
      "{'Home &amp; Kitchen': 333798}\n",
      "{'Home &amp; Kitchen': 429657}\n",
      "{'Home &amp; Kitchen': 168596}\n",
      "{'Home &amp; Kitchen': 148201}\n",
      "{'Home &amp; Kitchen': 1824}\n",
      "{'Home &amp; Kitchen': 10399}\n",
      "{'Home &amp; Kitchen': 423826}\n",
      "{'Home &amp; Kitchen': 154}\n",
      "{'Home &amp; Kitchen': 32671}\n",
      "{'Home &amp; Kitchen': 491538}\n",
      "{'Home &amp; Kitchen': 58701}\n",
      "{'Home &amp; Kitchen': 207459}\n",
      "{'Home &amp; Kitchen': 7021}\n",
      "{'Home &amp; Kitchen': 7973}\n",
      "{'Home &amp; Kitchen': 61549}\n",
      "{'Home &amp; Kitchen': 19695}\n",
      "{'Home &amp; Kitchen': 276609}\n",
      "{'Home &amp; Kitchen': 9057}\n",
      "{'Home &amp; Kitchen': 289617}\n",
      "{'Home &amp; Kitchen': 104073}\n",
      "{'Home &amp; Kitchen': 12996}\n",
      "{'Home &amp; Kitchen': 12958}\n",
      "{'Home &amp; Kitchen': 861122}\n",
      "{'Home &amp; Kitchen': 188867}\n",
      "{'Home &amp; Kitchen': 3851}\n",
      "{'Home &amp; Kitchen': 562521}\n",
      "{'Home &amp; Kitchen': 40792}\n",
      "{'Home &amp; Kitchen': 1445}\n",
      "{'Home &amp; Kitchen': 6516}\n",
      "{'Home &amp; Kitchen': 9414}\n",
      "{'Home &amp; Kitchen': 13049}\n",
      "{'Home &amp; Kitchen': 371598}\n",
      "{'Home &amp; Kitchen': 117228}\n",
      "{'Home &amp; Kitchen': 2456541}\n",
      "{'Home &amp; Kitchen': 160024}\n",
      "{'Home &amp; Kitchen': 3349}\n",
      "{'Home &amp; Kitchen': 581263}\n",
      "{'Home &amp; Kitchen': 27998}\n",
      "{'Home &amp; Kitchen': 67094}\n",
      "{'Home &amp; Kitchen': 88219}\n",
      "{'Home &amp; Kitchen': 3117}\n",
      "{'Home &amp; Kitchen': 29701}\n",
      "{'Home &amp; Kitchen': 1686}\n",
      "{'Home &amp; Kitchen': 516230}\n",
      "{'Home &amp; Kitchen': 48285}\n",
      "{'Home &amp; Kitchen': 84537}\n",
      "{'Home &amp; Kitchen': 100333}\n",
      "{'Home &amp; Kitchen': 218215}\n",
      "{'Home &amp; Kitchen': 22550}\n",
      "{'Home &amp; Kitchen': 26787}\n",
      "{'Home &amp; Kitchen': 20402}\n",
      "{'Home &amp; Kitchen': 51992}\n"
     ]
    }
   ],
   "source": [
    "for asin in sampleAsins:\n",
    "    print(HomeKitchenCleanData[asin][\"salesRank\"])"
   ]
  }
 ],
 "metadata": {
  "kernelspec": {
   "display_name": "Python 3",
   "language": "python",
   "name": "python3"
  },
  "language_info": {
   "codemirror_mode": {
    "name": "ipython",
    "version": 3
   },
   "file_extension": ".py",
   "mimetype": "text/x-python",
   "name": "python",
   "nbconvert_exporter": "python",
   "pygments_lexer": "ipython3",
   "version": "3.5.3"
  }
 },
 "nbformat": 4,
 "nbformat_minor": 2
}
