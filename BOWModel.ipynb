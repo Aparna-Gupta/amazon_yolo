{
 "cells": [
  {
   "cell_type": "code",
   "execution_count": 153,
   "metadata": {
    "collapsed": true
   },
   "outputs": [],
   "source": [
    "import json\n",
    "from sklearn.feature_extraction.text import TfidfVectorizer\n",
    "import pandas as pd\n",
    "import re\n",
    "#from sklearn.feature_selection import mutual_info_classif\n",
    "#from sklearn.decomposition import LatentDirichletAllocation\n",
    "from sklearn import metrics"
   ]
  },
  {
   "cell_type": "code",
   "execution_count": 154,
   "metadata": {
    "collapsed": true
   },
   "outputs": [],
   "source": [
    "# Read Health dataset to fetch Reviews and Description.\n",
    "dataset_health = json.load(open('reviews_Health_and_Personal_Care_5_Health & Personal Care_clean.json'))\n",
    "\n",
    "# Read Food dataset to fetch Reviews and Description.\n",
    "dataset_food = json.load(open('reviews_Grocery_and_Gourmet_Food_5_Grocery & Gourmet Food_clean.json'))\n",
    "\n",
    "# Read Beauty dataset to fetch Reviews and Description.\n",
    "dataset_beauty = json.load(open('reviews_Beauty_5_Beauty_clean.json'))"
   ]
  },
  {
   "cell_type": "code",
   "execution_count": 155,
   "metadata": {},
   "outputs": [],
   "source": [
    "# Read processed classification dataset to fetch the target variable.\n",
    "classification_df = pd.read_csv('final_classification_dataset.csv')\n",
    "classification_dict = {}\n",
    "for i,r in classification_df.iterrows():\n",
    "    classification_dict[r[\"ASIN\"]] = r[\"class\"]"
   ]
  },
  {
   "cell_type": "code",
   "execution_count": 156,
   "metadata": {},
   "outputs": [],
   "source": [
    "# Merge Reviews and Description with class (target) for category Health.\n",
    "dataset_health = json.load(open('./data/reviews_Health_and_Personal_Care_5.ujson'))\n",
    "final_dict = {}\n",
    "for asin in dataset_health:\n",
    "    if asin in classification_dict:\n",
    "        final_dict[asin] = {\n",
    "            \"review\" : dataset_health[asin][\"Best review\"],\n",
    "            \"description\" : dataset_health[asin][\"description\"],\n",
    "            \"class\" : classification_dict[asin]\n",
    "        }"
   ]
  },
  {
   "cell_type": "code",
   "execution_count": 157,
   "metadata": {},
   "outputs": [],
   "source": [
    "# Merge Reviews and Description with class (target) for category Food.\n",
    "dataset_food = json.load(open('./data/reviews_Grocery_and_Gourmet_Food_5.ujson'))\n",
    "#final_dict = {}\n",
    "for asin in dataset_food:\n",
    "    if asin in classification_dict:\n",
    "        final_dict[asin] = {\n",
    "            \"review\" : dataset_food[asin][\"Best review\"],\n",
    "            \"description\" : dataset_food[asin][\"description\"],\n",
    "            \"class\" : classification_dict[asin]\n",
    "        }"
   ]
  },
  {
   "cell_type": "code",
   "execution_count": 158,
   "metadata": {},
   "outputs": [],
   "source": [
    "# Merge Reviews and Description with class (target) for category Beauty.\n",
    "dataset_beauty = json.load(open('./data/reviews_Beauty_5.ujson'))\n",
    "#final_dict = {}\n",
    "for asin in dataset_beauty:\n",
    "    if asin in classification_dict:\n",
    "        final_dict[asin] = {\n",
    "            \"review\" : dataset_beauty[asin][\"Best review\"],\n",
    "            \"description\" : dataset_beauty[asin][\"description\"],\n",
    "            \"class\" : classification_dict[asin]\n",
    "        }"
   ]
  },
  {
   "cell_type": "code",
   "execution_count": 159,
   "metadata": {
    "collapsed": true
   },
   "outputs": [],
   "source": [
    "# Clean and merge Reviews/Descriptions/Class for all categories.\n",
    "regex = re.compile('[^a-zA-Z\\s]')\n",
    "review_corpus = []\n",
    "description_corpus = []\n",
    "corpus = []\n",
    "sales_data = []\n",
    "target = []\n",
    "for asin in final_dict:\n",
    "    best_review = regex.sub('', final_dict[asin][\"review\"])\n",
    "    #best_review = all_json[asin][\"Best review\"]\n",
    "    review_corpus.append(best_review)\n",
    "    #corpus.append(best_review)\n",
    "    description = regex.sub('', final_dict[asin][\"description\"])\n",
    "    description_corpus.append(description)\n",
    "    corpus.append(best_review + description)\n",
    "    target.append(final_dict[asin][\"class\"])"
   ]
  },
  {
   "cell_type": "code",
   "execution_count": 160,
   "metadata": {},
   "outputs": [],
   "source": [
    "# Split the entire corpus into test and train datasets.\n",
    "from sklearn.model_selection import train_test_split\n",
    "# Change 'corpus' with individual product category datasets to run the code at category level.\n",
    "X_train, X_test, y_train, y_test = train_test_split(corpus, target, test_size=0.25,random_state=1)"
   ]
  },
  {
   "cell_type": "code",
   "execution_count": 161,
   "metadata": {
    "collapsed": true
   },
   "outputs": [],
   "source": [
    "# Initialize count vectorizer to convert text into vector.\n",
    "# Since 1-gram was not giving good results we've used ngram_range as (2,3) for bi-grams and tri-grams.\n",
    "from sklearn.feature_extraction.text import CountVectorizer\n",
    "\n",
    "vect = CountVectorizer(stop_words='english',analyzer='word',ngram_range=(2,3),token_pattern=r'\\w{1,}')#,max_features=20, token_pattern=r'\\w{1,}'\n",
    "count_vect = vect.fit_transform(X_train)\n",
    "\n",
    "#print(vect.get_feature_names())\n",
    "#print()\n",
    "#print(vect.vocabulary_)\n",
    "#print(review_count_vect.shape)\n",
    "#print(type(review_count_vect))\n",
    "#print(review_count_vect.toarray())"
   ]
  },
  {
   "cell_type": "code",
   "execution_count": 162,
   "metadata": {
    "collapsed": true
   },
   "outputs": [],
   "source": [
    "# Convert the count vector into frequency matrix.\n",
    "from sklearn.feature_extraction.text import TfidfTransformer\n",
    "\n",
    "transformer = TfidfTransformer(use_idf=True,norm='l2',smooth_idf=True)\n",
    "tfidf = transformer.fit_transform(count_vect)\n",
    "#print(transformer.fit_transform(review_count_vect).toarray())\n",
    "#print(tfidf.shape)\n",
    "#print(tfidf.toarray())"
   ]
  },
  {
   "cell_type": "code",
   "execution_count": 163,
   "metadata": {},
   "outputs": [],
   "source": [
    "#Store feature names. This is required to map Logistic Registic Regression coefficients with feature names.\n",
    "features = vect.get_feature_names()\n",
    "#print(features)"
   ]
  },
  {
   "cell_type": "code",
   "execution_count": 164,
   "metadata": {},
   "outputs": [
    {
     "data": {
      "text/plain": [
       "LogisticRegressionCV(Cs=10, class_weight=None, cv=10, dual=False,\n",
       "           fit_intercept=True, intercept_scaling=1.0, max_iter=100,\n",
       "           multi_class='ovr', n_jobs=1, penalty='l2', random_state=None,\n",
       "           refit=True, scoring=None, solver='lbfgs', tol=0.0001, verbose=0)"
      ]
     },
     "execution_count": 164,
     "metadata": {},
     "output_type": "execute_result"
    }
   ],
   "source": [
    "# Run Logistic Regression on the entire feature set.\n",
    "from sklearn.linear_model import LogisticRegressionCV\n",
    "\n",
    "regr = LogisticRegressionCV(cv=10)\n",
    "regr.fit(tfidf,y_train)"
   ]
  },
  {
   "cell_type": "code",
   "execution_count": 165,
   "metadata": {},
   "outputs": [
    {
     "name": "stdout",
     "output_type": "stream",
     "text": [
      "bone density 0.500654172235\n",
      "helps remove 0.50074404105\n",
      "personal lubricant 0.502740273777\n",
      "free products 0.502786253912\n",
      "philips sonicare 0.502895951851\n",
      "digital bathroom 0.505136725854\n",
      "does leave 0.506544488876\n",
      "treat cure 0.506761904841\n",
      "use twice 0.50857701726\n",
      "fine lines wrinkles 0.510002736727\n",
      "youll love 0.510197204478\n",
      "immune function 0.513538452804\n",
      "face body 0.513866855301\n",
      "animals usa 0.514528305569\n",
      "pike place 0.516984400023\n",
      "external use 0.519678188687\n",
      "low carb 0.520233672786\n",
      "dirt oil 0.520332470725\n",
      "extra virgin 0.520369993063\n",
      "natural product 0.522637402088\n",
      "times daily 0.52397655601\n",
      "test strip 0.524178410116\n",
      "red bull 0.527304233381\n",
      "contains sugar 0.529207285095\n",
      "naturally occurring 0.530011363539\n",
      "dry hair 0.53184838424\n",
      "cherry juice 0.533197458674\n",
      "cardiovascular health 0.533226218757\n",
      "muscle mass 0.535766301938\n",
      "help reduce 0.535933294828\n",
      "mg daily 0.536074909223\n",
      "dietary supplement 0.538111220589\n",
      "salt products 0.538186173094\n",
      "like hair 0.538303692684\n",
      "gently cleanses 0.538717181816\n",
      "kirkland signature 0.542194107041\n",
      "old daughter 0.542370383483\n",
      "organic coconut 0.543447634118\n",
      "cup tea 0.543532526836\n",
      "work great 0.54374704476\n",
      "sovereign silver 0.544452601359\n",
      "daily moisture 0.546439873018\n",
      "high potency 0.5481798916\n",
      "uvb rays 0.548783148053\n",
      "finest quality 0.549303745669\n",
      "tea tree oil 0.555678786723\n",
      "really works 0.556537972141\n",
      "wavy hair 0.55677301189\n",
      "product helps 0.557315921758\n",
      "using weeks 0.557666577472\n",
      "different types 0.557829777418\n",
      "youngerlooking skin 0.559926374589\n",
      "celtic sea salt 0.559955767356\n",
      "testosterone levels 0.561602454691\n",
      "looking hair 0.561893770523\n",
      "pregnant women 0.562113831463\n",
      "help maintain 0.56289262714\n",
      "hair treatment 0.564599922768\n",
      "burtxs beesxae 0.564627818313\n",
      "maintain healthy 0.568590454769\n",
      "dry brittle 0.570666322555\n",
      "intended diagnose treat 0.572962024075\n",
      "goji berries 0.575443345552\n",
      "celtic sea 0.576157791472\n",
      "vegetarian capsules 0.577303264903\n",
      "twice daily 0.577504989827\n",
      "skin feeling 0.578111523764\n",
      "thinning hair 0.579024110993\n",
      "brothersallnatural fruit 0.580538726136\n",
      "brothersallnatural fruit crisps 0.580538726136\n",
      "heart health 0.581040982044\n",
      "provide maximum 0.586838044588\n",
      "good value 0.587776169158\n",
      "dry shampoo 0.587843778678\n",
      "natrol melatonin 0.589406619347\n",
      "raw organic 0.590144159452\n",
      "light brown 0.59487655166\n",
      "essential oil 0.595886476268\n",
      "immune support 0.595932621371\n",
      "vitamin c 0.598971178865\n",
      "red raspberry 0.599866511825\n",
      "reduces appearance 0.60337287984\n",
      "hearing aids 0.604633317228\n",
      "b complex 0.605265560159\n",
      "blood glucose 0.605559666382\n",
      "scientific studies 0.607310947384\n",
      "fruit crisps 0.607338124702\n",
      "keeps hair 0.610462175354\n",
      "coconut flour 0.611180497751\n",
      "power crunch 0.612340042702\n",
      "price amazon 0.614888353739\n",
      "libbys organic 0.617569766088\n",
      "highly effective 0.618835077605\n",
      "best results 0.620381612523\n",
      "douwe egberts 0.622627816128\n",
      "broad spectrum 0.623619210829\n",
      "green mountain 0.624466873162\n",
      "essential vitamins minerals 0.62778298161\n",
      "vita coco 0.627996612628\n",
      "clinically studied 0.632771208798\n",
      "years old 0.635121500326\n",
      "vitamin code 0.636631404099\n",
      "plant protein 0.638831903867\n",
      "progesterone cream 0.639205653955\n",
      "lb bag 0.643895489262\n",
      "energy production 0.650921106273\n",
      "satisfaction guarantee 0.654535829401\n",
      "tree oil 0.656295691641\n",
      "using days 0.657772937053\n",
      "black soap 0.658632799234\n",
      "b vitamins 0.658703598443\n",
      "dark circles 0.662987847218\n",
      "vitamins minerals 0.663985664323\n",
      "good health 0.669888861858\n",
      "wash hair 0.670015760071\n",
      "recommended use 0.674319944271\n",
      "unique combination 0.67720085721\n",
      "natural blend 0.680280236525\n",
      "viva labs 0.681024470618\n",
      "benzoyl peroxide 0.68636187606\n",
      "night cream 0.688364317599\n",
      "nail art 0.689910020775\n",
      "cleansing conditioner 0.694761177129\n",
      "hair loss 0.699962853549\n",
      "body fat 0.700870465064\n",
      "coconut oil 0.704625643711\n",
      "milk thistle 0.705928626121\n",
      "vitamin d 0.706672931364\n",
      "variety pack 0.707254915856\n",
      "fresh clean 0.707772402197\n",
      "paris hilton 0.713913004833\n",
      "launched design 0.71683688076\n",
      "launched design house 0.71683688076\n",
      "lines wrinkles 0.71822586021\n",
      "uva uvb 0.721940451966\n",
      "overall health 0.7231198085\n",
      "essential vitamins 0.724590208615\n",
      "excess oil 0.72461613485\n",
      "use hair 0.727279466247\n",
      "rosehip oil 0.728695831671\n",
      "bar soap 0.73646800686\n",
      "coconut milk 0.740710396478\n",
      "coconut water 0.741163207443\n",
      "pea protein 0.741526587786\n",
      "vitamin e 0.752371353908\n",
      "coffee tea 0.75268028166\n",
      "clinically proven 0.763389973597\n",
      "help support 0.765217797845\n",
      "royal jelly 0.769034659716\n",
      "bed head 0.772282342824\n",
      "yerba mate 0.773861230433\n",
      "skin looks 0.775740018512\n",
      "dark spots 0.776813632961\n",
      "support healthy 0.780484415265\n",
      "skins natural 0.780847234249\n",
      "just use 0.780849556009\n",
      "curly hair 0.790563837161\n",
      "instant coffee 0.791022295536\n",
      "years ago 0.801712870285\n",
      "shampoo conditioner 0.808362899769\n",
      "folic acid 0.828145341896\n",
      "using product 0.831287127679\n",
      "vitamin k 0.848568440553\n",
      "moroccan oil 0.851028840801\n",
      "fine hair 0.854382557035\n",
      "doctor recommended 0.878216007041\n",
      "natures way 0.882494508897\n",
      "stretch marks 0.890328060155\n",
      "salicylic acid 0.926501294992\n",
      "really helps 0.933676374881\n",
      "gluten free 0.933693646125\n",
      "glycolic acid 0.964328839163\n",
      "easy use 0.966777160546\n",
      "rose water 0.972705404247\n",
      "use day 0.974233515555\n",
      "burtxs bees 0.976758326473\n",
      "hyaluronic acid 0.988553893119\n",
      "test strips 0.995113431\n",
      "hair types 1.04907030447\n",
      "tea tree 1.05019412796\n",
      "emu oil 1.06992247038\n",
      "clinical studies 1.1075551497\n",
      "essential oils 1.11757732825\n",
      "hair spray 1.18152018952\n"
     ]
    },
    {
     "data": {
      "text/plain": [
       "184"
      ]
     },
     "execution_count": 165,
     "metadata": {},
     "output_type": "execute_result"
    }
   ],
   "source": [
    "# Top 10 feature selection.\n",
    "feature_cols = []\n",
    "for col in features:\n",
    "    if col != 'class':\n",
    "        feature_cols.append(col)\n",
    "\n",
    "# pair the feature names with the coefficients\n",
    "nameCoefDict = {}\n",
    "for f,c in zip(feature_cols,list(regr.coef_[0])):\n",
    "    #print(f,\" : \",c)\n",
    "    nameCoefDict[f] = c\n",
    "\n",
    "from collections import OrderedDict\n",
    "d_sorted_by_value = OrderedDict(sorted(nameCoefDict.items(), key=lambda x: x[1]))\n",
    "good_features = []\n",
    "for k, v in d_sorted_by_value.items():\n",
    "    if v > 0.5:\n",
    "        good_features.append(k)\n",
    "\n",
    "for f in good_features:\n",
    "    print(f,d_sorted_by_value[f])\n",
    "len(good_features)"
   ]
  },
  {
   "cell_type": "code",
   "execution_count": 166,
   "metadata": {},
   "outputs": [],
   "source": [
    "from sklearn.naive_bayes import MultinomialNB\n",
    "clf = MultinomialNB().fit(tfidf, y_train)"
   ]
  },
  {
   "cell_type": "code",
   "execution_count": 167,
   "metadata": {},
   "outputs": [],
   "source": [
    "from sklearn.pipeline import Pipeline\n",
    "text_clf = Pipeline([('vect', CountVectorizer()),\n",
    "                      ('tfidf', TfidfTransformer()),\n",
    "                      ('clf', MultinomialNB())])\n",
    "text_clf = text_clf.fit(X_train, y_train)"
   ]
  },
  {
   "cell_type": "code",
   "execution_count": 170,
   "metadata": {},
   "outputs": [
    {
     "name": "stdout",
     "output_type": "stream",
     "text": [
      "Accuracy:  0.606965174129\n",
      "Confusion Matrix:  [[924 586]\n",
      " [599 906]]\n"
     ]
    }
   ],
   "source": [
    "import numpy as np\n",
    "predicted = text_clf.predict(X_test)\n",
    "print(\"Accuracy: \",np.mean(predicted == y_test))\n",
    "print(\"Confusion Matrix: \",metrics.confusion_matrix(y_test,predicted))"
   ]
  },
  {
   "cell_type": "code",
   "execution_count": 171,
   "metadata": {},
   "outputs": [
    {
     "name": "stderr",
     "output_type": "stream",
     "text": [
      "C:\\Users\\Aparna\\Anaconda3\\lib\\site-packages\\sklearn\\linear_model\\stochastic_gradient.py:117: DeprecationWarning: n_iter parameter is deprecated in 0.19 and will be removed in 0.21. Use max_iter and tol instead.\n",
      "  DeprecationWarning)\n"
     ]
    },
    {
     "name": "stdout",
     "output_type": "stream",
     "text": [
      "Accuracy:  0.593698175788\n",
      "Confusion Matrix:  [[849 661]\n",
      " [564 941]]\n"
     ]
    }
   ],
   "source": [
    "from sklearn.linear_model import SGDClassifier\n",
    "text_clf_svm = Pipeline([('vect', CountVectorizer()),\n",
    "                      ('tfidf', TfidfTransformer()),\n",
    "                      ('clf-svm', SGDClassifier(loss='hinge', penalty='l2',\n",
    "                                            alpha=1e-3, n_iter=5, random_state=42))\n",
    "])\n",
    "_ = text_clf_svm.fit(X_train, y_train)\n",
    "predicted_svm = text_clf_svm.predict(X_test)\n",
    "print(\"Accuracy: \",np.mean(predicted_svm == y_test))\n",
    "print(\"Confusion Matrix: \",metrics.confusion_matrix(y_test,predicted_svm))"
   ]
  },
  {
   "cell_type": "code",
   "execution_count": 173,
   "metadata": {},
   "outputs": [
    {
     "data": {
      "text/plain": [
       "<matplotlib.figure.Figure at 0x27cd2236048>"
      ]
     },
     "metadata": {},
     "output_type": "display_data"
    },
    {
     "data": {
      "image/png": "[encoded data removed]",
      "text/plain": [
       "<matplotlib.figure.Figure at 0x27c5f46a518>"
      ]
     },
     "metadata": {},
     "output_type": "display_data"
    }
   ],
   "source": [
    "#Merge ROC Curve for each Classifier.\n",
    "from sklearn.metrics import roc_curve, auc\n",
    "import matplotlib.pyplot as plt\n",
    "\n",
    "n_classes = 2 #y.shape[1]\n",
    "fpr, tpr, _ = roc_curve(y_test, predicted)\n",
    "fpr_2, tpr_2, _ = roc_curve(y_test, predicted_svm)\n",
    "roc_auc = auc(fpr, tpr)\n",
    "\n",
    "# Compute micro-average ROC curve and ROC area\n",
    "plt.figure()\n",
    "lw = 2\n",
    "plt.plot(fpr, tpr, color='darkorange',\n",
    "             lw=lw, label='Naive Bayes' % roc_auc)#ROC curve (area = %0.2f) - \n",
    "\n",
    "plt.plot([0, 1], [0, 1], color='navy', lw=lw, linestyle='--')\n",
    "plt.xlim([0.0, 1.0])\n",
    "plt.ylim([0.0, 1.05])\n",
    "plt.xlabel('False Positive Rate')\n",
    "plt.ylabel('True Positive Rate')\n",
    "plt.title('ROC- Curve')\n",
    "plt.legend(loc=\"lower right\")\n",
    "plt.show()"
   ]
  }
 ],
 "metadata": {
  "kernelspec": {
   "display_name": "Python 3",
   "language": "python",
   "name": "python3"
  },
  "language_info": {
   "codemirror_mode": {
    "name": "ipython",
    "version": 3
   },
   "file_extension": ".py",
   "mimetype": "text/x-python",
   "name": "python",
   "nbconvert_exporter": "python",
   "pygments_lexer": "ipython3",
   "version": "3.6.3"
  }
 },
 "nbformat": 4,
 "nbformat_minor": 2
}
