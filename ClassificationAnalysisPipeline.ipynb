{
 "cells": [
  {
   "cell_type": "code",
   "execution_count": 287,
   "metadata": {},
   "outputs": [],
   "source": [
    "import pandas as pd\n",
    "import numpy as np\n",
    "from sklearn.model_selection import train_test_split\n",
    "from sklearn.feature_selection import mutual_info_classif\n",
    "from sklearn.linear_model import LogisticRegression\n",
    "from sklearn.linear_model import LogisticRegressionCV\n",
    "\n",
    "from sklearn.metrics import accuracy_score\n",
    "from sklearn.metrics import confusion_matrix\n",
    "from sklearn.metrics import mean_squared_error\n",
    "\n",
    "import statsmodels.api as sm\n",
    "import seaborn as sns\n",
    "\n",
    "import re\n",
    "%matplotlib inline"
   ]
  },
  {
   "cell_type": "code",
   "execution_count": 288,
   "metadata": {},
   "outputs": [],
   "source": [
    "dataset = pd.read_csv('final_classification_dataset.csv')\n",
    "#dataset.select(lambda x: not re.search('empath_', x), axis=1)"
   ]
  },
  {
   "cell_type": "code",
   "execution_count": 289,
   "metadata": {},
   "outputs": [],
   "source": [
    "#dataset = dataset.drop('category',axis=1)\n",
    "dataset = dataset.drop('ASIN',axis=1)\n",
    "dataset = dataset.drop('salesRank',axis=1)\n",
    "dataset = dataset.drop('reviewSentimentCom',axis=1)\n",
    "dataset = dataset.drop('descriptionSentimentCom',axis=1)\n",
    "# One Hot Encoding.\n",
    "dataset = pd.get_dummies(dataset)"
   ]
  },
  {
   "cell_type": "code",
   "execution_count": 290,
   "metadata": {},
   "outputs": [],
   "source": [
    "data_vars = dataset.columns.values.tolist()\n",
    "# Target Variable\n",
    "y = 'class'\n",
    "# Independent Variables - Feature List\n",
    "X = [i for i in data_vars if i not in y]\n",
    "\n",
    "# Data transformation for Analysis\n",
    "X = np.array(dataset[X])\n",
    "y = np.array(dataset[y])\n",
    "y = y.ravel()\n",
    "\n",
    "#print(X.shape)\n",
    "#print(y.shape)\n",
    "\n",
    "#print(dataset['class'].value_counts())"
   ]
  },
  {
   "cell_type": "code",
   "execution_count": 291,
   "metadata": {},
   "outputs": [],
   "source": [
    "# Mututal Information - For feature Selection.\n",
    "clf = mutual_info_classif(X,y)\n",
    "#print(clf)"
   ]
  },
  {
   "cell_type": "code",
   "execution_count": 293,
   "metadata": {},
   "outputs": [],
   "source": [
    "feature_cols = []\n",
    "for col in dataset.columns:\n",
    "    if col != 'class':\n",
    "        feature_cols.append(col)\n",
    "\n",
    "# pair the feature names with the coefficients\n",
    "nameCoefDict = {}\n",
    "for f,c in zip(feature_cols,list(clf)):\n",
    "    #print(f,\" : \",c)\n",
    "    nameCoefDict[f] = c\n",
    "\n",
    "#from collections import OrderedDict\n",
    "d_sorted_by_value = OrderedDict(sorted(nameCoefDict.items(), key=lambda x: x[1]))\n",
    "good_features = []\n",
    "for k, v in d_sorted_by_value.items():\n",
    "    if v != 0.0:\n",
    "        good_features.append(k)\n",
    "\n",
    "#for f in good_features:\n",
    "#    print(f,d_sorted_by_value[f])\n",
    "#len(good_features)  \n",
    "\n",
    "# Extract features from Mutual Information and apply those features in Logistic Regression and Random Forest.\n",
    "X_new = dataset[good_features]\n",
    "X_train, X_test, y_train, y_test = train_test_split(X_new, y, test_size=0.25)"
   ]
  },
  {
   "cell_type": "code",
   "execution_count": 294,
   "metadata": {},
   "outputs": [
    {
     "name": "stdout",
     "output_type": "stream",
     "text": [
      "0.565403624382\n",
      "0.659239240047\n",
      "[[786 745]\n",
      " [574 930]]\n",
      "True Negative 786\n",
      "False Positive 745\n",
      "False Negative 574\n",
      "True Positive 930\n"
     ]
    }
   ],
   "source": [
    "#Logistic Regression with 10 fold cross-validation\n",
    "logistic = LogisticRegressionCV(cv=10)\n",
    "logistic = logistic.fit(X_train,y_train)\n",
    "#print(logistic.coef_)\n",
    "y_pred = logistic.predict(X_test)\n",
    "print(accuracy_score(y_test,y_pred))\n",
    "print(np.sqrt(mean_squared_error(y_test, y_pred)))\n",
    "print(confusion_matrix(y_test,y_pred))\n",
    "tn, fp, fn, tp = confusion_matrix(y_test,y_pred).ravel()\n",
    "print(\"True Negative\", tn)\n",
    "print(\"False Positive\", fp)\n",
    "print(\"False Negative\", fn)\n",
    "print(\"True Positive\", tp)"
   ]
  },
  {
   "cell_type": "code",
   "execution_count": 295,
   "metadata": {},
   "outputs": [
    {
     "name": "stdout",
     "output_type": "stream",
     "text": [
      "empath_description_warmth 1.50712667822\n",
      "empath_description_negative_emotion 1.51153388824\n",
      "empath_description_horror 1.51186768634\n",
      "empath_description_divine 1.51632432092\n",
      "empath_description_party 1.54766072472\n",
      "empath_description_ugliness 1.55623374593\n",
      "empath_description_achievement 1.59306845047\n",
      "empath_description_art 1.60015500828\n",
      "empath_description_kill 1.6109185783\n",
      "empath_description_giving 1.61591212959\n",
      "empath_description_exercise 1.6264944501\n",
      "empath_description_domestic_work 1.63287137585\n",
      "empath_description_pride 1.69873221995\n",
      "empath_review_hate 1.72095814404\n",
      "empath_description_neglect 1.72139476464\n",
      "empath_description_ocean 1.75910102948\n",
      "empath_description_monster 1.76600289145\n",
      "empath_description_crime 1.77217950974\n",
      "empath_description_technology 1.77949064058\n",
      "empath_description_reading 1.85752670139\n",
      "empath_description_gain 1.8698174191\n",
      "empath_description_noise 1.87033402242\n",
      "empath_review_money 1.93036136831\n",
      "empath_description_beauty 2.01584786484\n",
      "empath_description_valuable 2.01910147307\n",
      "empath_description_white_collar_job 2.14726276229\n",
      "empath_description_magic 2.35521977827\n",
      "empath_description_tourism 2.39463449213\n",
      "empath_description_independence 2.48388970622\n",
      "empath_description_restaurant 2.49036718479\n",
      "empath_description_alcohol 2.50687760524\n",
      "empath_description_economics 2.51720993752\n",
      "empath_description_negotiate 2.60673515618\n",
      "empath_review_domestic_work 2.6298211321\n",
      "empath_description_rage 2.72662868024\n",
      "empath_review_anticipation 2.85078472176\n",
      "empath_description_politeness 3.01803473126\n",
      "empath_description_work 3.13949920451\n",
      "empath_description_fabric 3.55426690149\n",
      "empath_description_speaking 3.59033425482\n",
      "empath_description_sound 4.14691744002\n",
      "empath_description_shame 4.15755172125\n",
      "empath_review_cheerfulness 4.64291312892\n",
      "empath_description_driving 4.86185100959\n",
      "empath_description_terrorism 4.9032080963\n",
      "empath_description_leader 4.97225016807\n",
      "empath_description_car 5.21904427444\n",
      "empath_description_toy 5.22107635704\n",
      "empath_description_hearing 5.76168195539\n",
      "empath_review_aggression 5.98198137188\n",
      "empath_description_death 6.23263270584\n",
      "empath_description_liquid 7.8388803138\n",
      "empath_description_cold 8.02933441269\n",
      "empath_description_pet 9.21743879602\n",
      "empath_description_morning 9.93066863209\n",
      "empath_description_musical 11.7604221484\n",
      "empath_description_farming 12.7683777547\n",
      "empath_description_appearance 14.9906665715\n",
      "empath_description_body 16.2760870093\n",
      "empath_description_school 16.8504749152\n",
      "empath_description_deception 17.4368712358\n",
      "empath_description_money 20.2668854209\n",
      "empath_description_hipster 51.6622192815\n",
      "empath_review_medical_emergency 57.2869315524\n",
      "empath_description_cleaning 74.8616001615\n"
     ]
    },
    {
     "data": {
      "text/plain": [
       "65"
      ]
     },
     "execution_count": 295,
     "metadata": {},
     "output_type": "execute_result"
    }
   ],
   "source": [
    "# Apply Odds Ratio to Logistic Regression Coefficients.\n",
    "nameCoefDict = {}\n",
    "for f,c in zip(feature_cols,list(np.exp(logistic.coef_)[0])):\n",
    "    #print(f,\" : \",c)\n",
    "    nameCoefDict[f] = c\n",
    "    \n",
    "from collections import OrderedDict\n",
    "d_sorted_by_value = OrderedDict(sorted(nameCoefDict.items(), key=lambda x: x[1]))\n",
    "good_features = []\n",
    "for k, v in d_sorted_by_value.items():\n",
    "    if v > 1.5:\n",
    "        good_features.append(k)\n",
    "# Print scores after Odds Ratio\n",
    "for f in good_features:\n",
    "    print(f,d_sorted_by_value[f])\n",
    "len(good_features)       "
   ]
  },
  {
   "cell_type": "code",
   "execution_count": 298,
   "metadata": {},
   "outputs": [
    {
     "name": "stdout",
     "output_type": "stream",
     "text": [
      "0.605271828666\n",
      "0.628273962006\n",
      "[[855 676]\n",
      " [522 982]]\n",
      "True Negative 855\n",
      "False Positive 676\n",
      "False Negative 522\n",
      "True Positive 982\n"
     ]
    }
   ],
   "source": [
    "# data_vars = dataset.columns.values.tolist()\n",
    "# # Target Variable\n",
    "# y = 'class'\n",
    "# # Independent Variables - Feature List\n",
    "# X = [i for i in data_vars if i not in y]\n",
    "\n",
    "# # Data transformation for Analysis\n",
    "# X = np.array(dataset[X])\n",
    "# y = np.array(dataset[y])\n",
    "# y = y.ravel()\n",
    "# X_train, X_test, y_train, y_test = train_test_split(X, y, test_size=0.25)\n",
    "\n",
    "# Random Forest Classifier.\n",
    "from sklearn.ensemble import RandomForestClassifier\n",
    "\n",
    "forest = RandomForestClassifier(n_estimators=250,max_features=150)\n",
    "forest.fit(X_train,y_train)\n",
    "#print(forest.feature_importances_)\n",
    "predict = forest.predict(X_test)\n",
    "print(accuracy_score(y_test,predict))\n",
    "print(np.sqrt(mean_squared_error(y_test, predict)))\n",
    "print(confusion_matrix(y_test,predict))\n",
    "tn, fp, fn, tp = confusion_matrix(y_test,predict).ravel()\n",
    "print(\"True Negative\", tn)\n",
    "print(\"False Positive\", fp)\n",
    "print(\"False Negative\", fn)\n",
    "print(\"True Positive\", tp)"
   ]
  }
 ],
 "metadata": {
  "kernelspec": {
   "display_name": "Python 3",
   "language": "python",
   "name": "python3"
  },
  "language_info": {
   "codemirror_mode": {
    "name": "ipython",
    "version": 3
   },
   "file_extension": ".py",
   "mimetype": "text/x-python",
   "name": "python",
   "nbconvert_exporter": "python",
   "pygments_lexer": "ipython3",
   "version": "3.6.3"
  }
 },
 "nbformat": 4,
 "nbformat_minor": 2
}
