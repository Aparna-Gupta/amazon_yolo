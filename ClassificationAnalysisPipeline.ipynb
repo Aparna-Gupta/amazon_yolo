{
 "cells": [
  {
   "cell_type": "code",
   "execution_count": 98,
   "metadata": {
    "collapsed": true
   },
   "outputs": [],
   "source": [
    "# Imports.\n",
    "import pandas as pd\n",
    "import numpy as np\n",
    "from collections import OrderedDict\n",
    "\n",
    "from sklearn.model_selection import train_test_split\n",
    "from sklearn.linear_model import LogisticRegression, LogisticRegressionCV\n",
    "from sklearn.metrics import accuracy_score\n",
    "from sklearn.metrics import mean_squared_error\n",
    "from sklearn.metrics import confusion_matrix\n",
    "from sklearn.metrics import f1_score\n",
    "from sklearn.ensemble import RandomForestClassifier\n",
    "from sklearn.feature_selection import mutual_info_classif\n",
    "from sklearn.ensemble import AdaBoostClassifier\n",
    "from sklearn.tree import DecisionTreeClassifier"
   ]
  },
  {
   "cell_type": "code",
   "execution_count": 83,
   "metadata": {},
   "outputs": [],
   "source": [
    "# Read the processed classification dataset - contains top 30% and bottom 30% rows for each category. \n",
    "df_full = pd.read_csv('final_classification_dataset.csv')\n",
    "#df_full[\"category\"].unique()"
   ]
  },
  {
   "cell_type": "code",
   "execution_count": 84,
   "metadata": {},
   "outputs": [
    {
     "data": {
      "text/plain": [
       "(12058, 404)"
      ]
     },
     "execution_count": 84,
     "metadata": {},
     "output_type": "execute_result"
    }
   ],
   "source": [
    "# create a new dataframe with all Categories except - Sports & Outdoors.\n",
    "# df_beauty = df_full[df_full.category=='Beauty']\n",
    "# df_beauty = df_full[df_full.category=='Health & Personal Care']\n",
    "# df_beauty = df_full[df_full.category=='Grocery & Gourmet Food']\n",
    "# df_beauty = df_full[df_full.category=='Sports &amp; Outdoors']\n",
    "df_beauty = df_full[df_full.category!='Sports &amp; Outdoors']\n",
    "df_beauty.shape"
   ]
  },
  {
   "cell_type": "code",
   "execution_count": 85,
   "metadata": {
    "collapsed": true
   },
   "outputs": [],
   "source": [
    "# Drop columns - Category, salesRank and ASIN.\n",
    "df_beauty = df_beauty.drop('category',axis=1)\n",
    "df_beauty = df_beauty.drop('salesRank',axis=1)\n",
    "df_beauty = df_beauty.drop('ASIN',axis=1)"
   ]
  },
  {
   "cell_type": "code",
   "execution_count": 68,
   "metadata": {},
   "outputs": [
    {
     "data": {
      "text/html": [
       "<div>\n",
       "<style scoped>\n",
       "    .dataframe tbody tr th:only-of-type {\n",
       "        vertical-align: middle;\n",
       "    }\n",
       "\n",
       "    .dataframe tbody tr th {\n",
       "        vertical-align: top;\n",
       "    }\n",
       "\n",
       "    .dataframe thead th {\n",
       "        text-align: right;\n",
       "    }\n",
       "</style>\n",
       "<table border=\"1\" class=\"dataframe\">\n",
       "  <thead>\n",
       "    <tr style=\"text-align: right;\">\n",
       "      <th></th>\n",
       "      <th>readabilityIndexDescription</th>\n",
       "      <th>readabilityIndexReview</th>\n",
       "      <th>reviewSentimentNeg</th>\n",
       "      <th>reviewSentimentNeu</th>\n",
       "      <th>reviewSentimentPos</th>\n",
       "      <th>reviewSentimentCom</th>\n",
       "      <th>descriptionSentimentNeg</th>\n",
       "      <th>descriptionSentimentNeu</th>\n",
       "      <th>descriptionSentimentPos</th>\n",
       "      <th>descriptionSentimentCom</th>\n",
       "      <th>...</th>\n",
       "      <th>empath_review_ocean</th>\n",
       "      <th>empath_review_giving</th>\n",
       "      <th>empath_review_contentment</th>\n",
       "      <th>empath_review_writing</th>\n",
       "      <th>empath_review_rural</th>\n",
       "      <th>empath_review_positive_emotion</th>\n",
       "      <th>empath_review_order</th>\n",
       "      <th>price</th>\n",
       "      <th>Rating</th>\n",
       "      <th>class</th>\n",
       "    </tr>\n",
       "  </thead>\n",
       "  <tbody>\n",
       "    <tr>\n",
       "      <th>0</th>\n",
       "      <td>58.82</td>\n",
       "      <td>93.68</td>\n",
       "      <td>0.066</td>\n",
       "      <td>0.817</td>\n",
       "      <td>0.118</td>\n",
       "      <td>0.6941</td>\n",
       "      <td>0.022</td>\n",
       "      <td>0.745</td>\n",
       "      <td>0.233</td>\n",
       "      <td>0.9753</td>\n",
       "      <td>...</td>\n",
       "      <td>0.0</td>\n",
       "      <td>0.010101</td>\n",
       "      <td>0.0</td>\n",
       "      <td>0.0</td>\n",
       "      <td>0.0</td>\n",
       "      <td>0.000000</td>\n",
       "      <td>0.010101</td>\n",
       "      <td>53.59</td>\n",
       "      <td>5.0</td>\n",
       "      <td>1</td>\n",
       "    </tr>\n",
       "    <tr>\n",
       "      <th>1</th>\n",
       "      <td>50.33</td>\n",
       "      <td>91.82</td>\n",
       "      <td>0.000</td>\n",
       "      <td>0.777</td>\n",
       "      <td>0.223</td>\n",
       "      <td>0.8685</td>\n",
       "      <td>0.017</td>\n",
       "      <td>0.786</td>\n",
       "      <td>0.197</td>\n",
       "      <td>0.9669</td>\n",
       "      <td>...</td>\n",
       "      <td>0.0</td>\n",
       "      <td>0.000000</td>\n",
       "      <td>0.0</td>\n",
       "      <td>0.0</td>\n",
       "      <td>0.0</td>\n",
       "      <td>0.025000</td>\n",
       "      <td>0.000000</td>\n",
       "      <td>27.95</td>\n",
       "      <td>4.0</td>\n",
       "      <td>1</td>\n",
       "    </tr>\n",
       "    <tr>\n",
       "      <th>2</th>\n",
       "      <td>43.73</td>\n",
       "      <td>100.58</td>\n",
       "      <td>0.033</td>\n",
       "      <td>0.618</td>\n",
       "      <td>0.349</td>\n",
       "      <td>0.9720</td>\n",
       "      <td>0.000</td>\n",
       "      <td>0.923</td>\n",
       "      <td>0.077</td>\n",
       "      <td>0.7184</td>\n",
       "      <td>...</td>\n",
       "      <td>0.0</td>\n",
       "      <td>0.000000</td>\n",
       "      <td>0.0</td>\n",
       "      <td>0.0</td>\n",
       "      <td>0.0</td>\n",
       "      <td>0.019231</td>\n",
       "      <td>0.000000</td>\n",
       "      <td>23.92</td>\n",
       "      <td>4.0</td>\n",
       "      <td>1</td>\n",
       "    </tr>\n",
       "    <tr>\n",
       "      <th>3</th>\n",
       "      <td>-215.78</td>\n",
       "      <td>79.40</td>\n",
       "      <td>0.026</td>\n",
       "      <td>0.743</td>\n",
       "      <td>0.231</td>\n",
       "      <td>0.9664</td>\n",
       "      <td>0.079</td>\n",
       "      <td>0.802</td>\n",
       "      <td>0.120</td>\n",
       "      <td>0.9169</td>\n",
       "      <td>...</td>\n",
       "      <td>0.0</td>\n",
       "      <td>0.011628</td>\n",
       "      <td>0.0</td>\n",
       "      <td>0.0</td>\n",
       "      <td>0.0</td>\n",
       "      <td>0.023256</td>\n",
       "      <td>0.000000</td>\n",
       "      <td>10.48</td>\n",
       "      <td>5.0</td>\n",
       "      <td>1</td>\n",
       "    </tr>\n",
       "    <tr>\n",
       "      <th>4</th>\n",
       "      <td>59.23</td>\n",
       "      <td>63.15</td>\n",
       "      <td>0.089</td>\n",
       "      <td>0.588</td>\n",
       "      <td>0.323</td>\n",
       "      <td>0.9339</td>\n",
       "      <td>0.045</td>\n",
       "      <td>0.809</td>\n",
       "      <td>0.146</td>\n",
       "      <td>0.8905</td>\n",
       "      <td>...</td>\n",
       "      <td>0.0</td>\n",
       "      <td>0.000000</td>\n",
       "      <td>0.0</td>\n",
       "      <td>0.0</td>\n",
       "      <td>0.0</td>\n",
       "      <td>0.048780</td>\n",
       "      <td>0.000000</td>\n",
       "      <td>22.67</td>\n",
       "      <td>2.0</td>\n",
       "      <td>1</td>\n",
       "    </tr>\n",
       "  </tbody>\n",
       "</table>\n",
       "<p>5 rows × 401 columns</p>\n",
       "</div>"
      ],
      "text/plain": [
       "   readabilityIndexDescription  readabilityIndexReview  reviewSentimentNeg  \\\n",
       "0                        58.82                   93.68               0.066   \n",
       "1                        50.33                   91.82               0.000   \n",
       "2                        43.73                  100.58               0.033   \n",
       "3                      -215.78                   79.40               0.026   \n",
       "4                        59.23                   63.15               0.089   \n",
       "\n",
       "   reviewSentimentNeu  reviewSentimentPos  reviewSentimentCom  \\\n",
       "0               0.817               0.118              0.6941   \n",
       "1               0.777               0.223              0.8685   \n",
       "2               0.618               0.349              0.9720   \n",
       "3               0.743               0.231              0.9664   \n",
       "4               0.588               0.323              0.9339   \n",
       "\n",
       "   descriptionSentimentNeg  descriptionSentimentNeu  descriptionSentimentPos  \\\n",
       "0                    0.022                    0.745                    0.233   \n",
       "1                    0.017                    0.786                    0.197   \n",
       "2                    0.000                    0.923                    0.077   \n",
       "3                    0.079                    0.802                    0.120   \n",
       "4                    0.045                    0.809                    0.146   \n",
       "\n",
       "   descriptionSentimentCom  ...    empath_review_ocean  empath_review_giving  \\\n",
       "0                   0.9753  ...                    0.0              0.010101   \n",
       "1                   0.9669  ...                    0.0              0.000000   \n",
       "2                   0.7184  ...                    0.0              0.000000   \n",
       "3                   0.9169  ...                    0.0              0.011628   \n",
       "4                   0.8905  ...                    0.0              0.000000   \n",
       "\n",
       "   empath_review_contentment  empath_review_writing  empath_review_rural  \\\n",
       "0                        0.0                    0.0                  0.0   \n",
       "1                        0.0                    0.0                  0.0   \n",
       "2                        0.0                    0.0                  0.0   \n",
       "3                        0.0                    0.0                  0.0   \n",
       "4                        0.0                    0.0                  0.0   \n",
       "\n",
       "   empath_review_positive_emotion  empath_review_order  price  Rating  class  \n",
       "0                        0.000000             0.010101  53.59     5.0      1  \n",
       "1                        0.025000             0.000000  27.95     4.0      1  \n",
       "2                        0.019231             0.000000  23.92     4.0      1  \n",
       "3                        0.023256             0.000000  10.48     5.0      1  \n",
       "4                        0.048780             0.000000  22.67     2.0      1  \n",
       "\n",
       "[5 rows x 401 columns]"
      ]
     },
     "execution_count": 68,
     "metadata": {},
     "output_type": "execute_result"
    }
   ],
   "source": [
    "#df_beauty.head()"
   ]
  },
  {
   "cell_type": "code",
   "execution_count": 86,
   "metadata": {
    "collapsed": true
   },
   "outputs": [
    {
     "name": "stdout",
     "output_type": "stream",
     "text": [
      "(12058, 400)\n"
     ]
    }
   ],
   "source": [
    "# Create X and y for Classification.\n",
    "data_vars = df_beauty.columns.values.tolist()\n",
    "# Target Variable\n",
    "y = 'class'\n",
    "# Independent Variables - Feature List\n",
    "X = [i for i in data_vars if i not in y]\n",
    "\n",
    "# Data transformation for Analysis\n",
    "X = np.array(df_beauty[X])\n",
    "y = np.array(df_beauty[y])\n",
    "y = y.ravel()\n",
    "\n",
    "print(X.shape)"
   ]
  },
  {
   "cell_type": "code",
   "execution_count": 88,
   "metadata": {
    "collapsed": true
   },
   "outputs": [],
   "source": [
    "# Mutual Information - Feature Selection\n",
    "clf = mutual_info_classif(X,y)"
   ]
  },
  {
   "cell_type": "code",
   "execution_count": 89,
   "metadata": {
    "collapsed": true
   },
   "outputs": [
    {
     "name": "stdout",
     "output_type": "stream",
     "text": [
      "228\n"
     ]
    }
   ],
   "source": [
    "# Extract top features with coeff_ > 0.\n",
    "feature_cols = []\n",
    "for col in df_beauty.columns:\n",
    "    if col != 'class':\n",
    "        feature_cols.append(col)\n",
    "\n",
    "# pair the feature names with the coefficients\n",
    "nameCoefDict = {}\n",
    "for f,c in zip(feature_cols,list(clf)):\n",
    "    #print(f,\" : \",c)\n",
    "    nameCoefDict[f] = c\n",
    "\n",
    "from collections import OrderedDict\n",
    "d_sorted_by_value = OrderedDict(sorted(nameCoefDict.items(), key=lambda x: x[1]))\n",
    "good_features = []\n",
    "for k, v in d_sorted_by_value.items():\n",
    "    if v != 0.0:\n",
    "        good_features.append(k)\n",
    "\n",
    "#for f in good_features:\n",
    "#     print(f,d_sorted_by_value[f])\n",
    "#    if d_sorted_by_value[f] <= 1 :\n",
    "#        print(f,d_sorted_by_value[f])\n",
    "        \n",
    "print(len(good_features))  \n",
    "\n",
    "# Extract features from Mutual Information and apply those features in Logistic Regression and Random Forest.\n",
    "X_new = df_beauty[good_features]\n",
    "X_train, X_test, y_train, y_test = train_test_split(X_new, y, test_size=0.25)"
   ]
  },
  {
   "cell_type": "code",
   "execution_count": 9,
   "metadata": {
    "collapsed": true
   },
   "outputs": [],
   "source": [
    "# def compute_and_show_ROC(y_test, y_pred) :\n",
    "#     # Compute ROC curve and ROC area for each class\n",
    "#     from sklearn.metrics import roc_curve, auc\n",
    "#     import matplotlib.pyplot as plt\n",
    "#     n_classes = 2 #y.shape[1]\n",
    "#     fpr, tpr, _ = roc_curve(y_test, y_pred)\n",
    "#     roc_auc = auc(fpr, tpr)\n",
    "\n",
    "#     # Compute micro-average ROC curve and ROC area\n",
    "#     plt.figure()\n",
    "#     lw = 2\n",
    "#     plt.plot(fpr, tpr, color='darkorange',\n",
    "#              lw=lw, label='ROC curve (area = %0.2f)' % roc_auc)\n",
    "#     plt.plot([0, 1], [0, 1], color='navy', lw=lw, linestyle='--')\n",
    "#     plt.xlim([0.0, 1.0])\n",
    "#     plt.ylim([0.0, 1.05])\n",
    "#     plt.xlabel('False Positive Rate')\n",
    "#     plt.ylabel('True Positive Rate')\n",
    "#     plt.title('ROC- Curve')\n",
    "#     plt.legend(loc=\"lower right\")\n",
    "#     plt.show()"
   ]
  },
  {
   "cell_type": "code",
   "execution_count": 100,
   "metadata": {},
   "outputs": [
    {
     "name": "stdout",
     "output_type": "stream",
     "text": [
      "0.593698175788\n",
      "[[845 644]\n",
      " [581 945]]\n",
      "F1 Measure:  0.606741573034\n",
      "True Negative 845\n",
      "False Positive 644\n",
      "False Negative 581\n",
      "True Positive 945\n",
      "3015\n"
     ]
    }
   ],
   "source": [
    "#Logistic Regression with 10 fold cross-validation\n",
    "logistic = LogisticRegressionCV( cv=10 )\n",
    "logistic = logistic.fit(X_train,y_train)\n",
    "#print(logistic.coef_)\n",
    "y_pred = logistic.predict(X_test)\n",
    "print(accuracy_score(y_test,y_pred))\n",
    "print(confusion_matrix(y_test,y_pred))\n",
    "tn, fp, fn, tp = confusion_matrix(y_test,y_pred).ravel()\n",
    "print(\"F1 Measure: \" ,f1_score(y_test,y_pred))\n",
    "print(\"True Negative\", tn)\n",
    "print(\"False Positive\", fp)\n",
    "print(\"False Negative\", fn)\n",
    "print(\"True Positive\", tp)\n",
    "print(len(X_test))\n",
    "#compute_and_show_ROC( y_test, y_pred )"
   ]
  },
  {
   "cell_type": "code",
   "execution_count": 102,
   "metadata": {
    "collapsed": true
   },
   "outputs": [
    {
     "name": "stdout",
     "output_type": "stream",
     "text": [
      "0.60464344942\n",
      "[[883 606]\n",
      " [586 940]]\n",
      "F1 Measure:  0.611979166667\n",
      "True Negative 883\n",
      "False Positive 606\n",
      "False Negative 586\n",
      "True Positive 940\n"
     ]
    }
   ],
   "source": [
    "# Random forest Ensemble with # of estimators = 250 and max_features = 150.\n",
    "forest = RandomForestClassifier(n_estimators=250,max_features=150)\n",
    "forest.fit(X_train,y_train)\n",
    "#print(forest.feature_importances_)\n",
    "predict = forest.predict(X_test)\n",
    "print(accuracy_score(y_test,predict))\n",
    "print(confusion_matrix(y_test,predict))\n",
    "tn, fp, fn, tp = confusion_matrix(y_test,predict).ravel()\n",
    "print(\"F1 Measure: \" ,f1_score(y_test,predict))\n",
    "print(\"True Negative\", tn)\n",
    "print(\"False Positive\", fp)\n",
    "print(\"False Negative\", fn)\n",
    "print(\"True Positive\", tp)\n",
    "#compute_and_show_ROC( y_test, y_pred )"
   ]
  },
  {
   "cell_type": "code",
   "execution_count": null,
   "metadata": {
    "collapsed": true
   },
   "outputs": [],
   "source": [
    "#AdaBoost Classifier.\n",
    "bdt_real = AdaBoostClassifier(\n",
    "    DecisionTreeClassifier(),\n",
    "    n_estimators=250,\n",
    "    learning_rate=1)\n",
    "\n",
    "bdt_real.fit(X_train, y_train)\n",
    "\n",
    "y_adaBoost =  bdt_real.predict(X_test)\n",
    "print(accuracy_score(y_test, y_adaBoost))\n",
    "print(\"F1 Measure: \" ,f1_score(y_test,y_adaBoost))\n",
    "print(confusion_matrix(y_test,y_adaBoost))\n",
    "#compute_and_show_ROC( y_test, y_adaBoost )"
   ]
  },
  {
   "cell_type": "code",
   "execution_count": 96,
   "metadata": {
    "collapsed": true
   },
   "outputs": [
    {
     "name": "stdout",
     "output_type": "stream",
     "text": [
      "0.570149253731\n",
      "[[794 695]\n",
      " [601 925]]\n"
     ]
    }
   ],
   "source": [
    "# Naive Bayes.\n",
    "from sklearn.naive_bayes import GaussianNB\n",
    "clf = GaussianNB()\n",
    "clf.fit( X_train, y_train )\n",
    "y_pred_naive = clf.predict(X_test)\n",
    "print(accuracy_score(y_test, y_pred_naive))\n",
    "print(\"F1 Measure: \" ,f1_score(y_test,y_pred_naive))\n",
    "print(confusion_matrix(y_test,y_pred_naive))\n",
    "#compute_and_show_ROC(y_test, y_pred_naive)"
   ]
  },
  {
   "cell_type": "code",
   "execution_count": 97,
   "metadata": {
    "collapsed": true
   },
   "outputs": [
    {
     "data": {
      "image/png": "[encoded data removed]",
      "text/plain": [
       "<matplotlib.figure.Figure at 0x232b0e0c710>"
      ]
     },
     "metadata": {},
     "output_type": "display_data"
    }
   ],
   "source": [
    "#Merge ROC Curve for each Classifier.\n",
    "from sklearn.metrics import roc_curve, auc\n",
    "import matplotlib.pyplot as plt\n",
    "\n",
    "n_classes = 2 #y.shape[1]\n",
    "fpr, tpr, _ = roc_curve(y_test, y_pred)\n",
    "fpr_2, tpr_2, _ = roc_curve(y_test, predict)\n",
    "fpr_3, tpr_3, _ = roc_curve(y_test,y_adaBoost)\n",
    "fpr_4, tpr_4 ,_ = roc_curve(y_test,y_pred_naive)\n",
    "#roc_auc = auc(fpr, tpr)\n",
    "\n",
    "# Compute micro-average ROC curve and ROC area\n",
    "plt.figure()\n",
    "lw = 2\n",
    "plt.plot(fpr, tpr, color='darkorange',\n",
    "             lw=lw, label='Logistic Regression' % roc_auc)#ROC curve (area = %0.2f) - \n",
    "plt.plot(fpr_2, tpr_2, color='green',\n",
    "             lw=lw, label ='Random Forest Classifier')#, label='ROC curve (area = %0.2f)' % roc_auc\n",
    "plt.plot(fpr_3, tpr_3, color='red',\n",
    "             lw=lw, label ='Ada Boost')#, label='ROC curve (area = %0.2f)' % roc_auc\n",
    "plt.plot(fpr_4, tpr_4, color='purple',\n",
    "           lw=lw, label ='Naive Bayes- Gaussian NB')#, label='ROC curve (area = %0.2f)' % roc_auc\n",
    "\n",
    "plt.plot([0, 1], [0, 1], color='navy', lw=lw, linestyle='--')\n",
    "plt.xlim([0.0, 1.0])\n",
    "plt.ylim([0.0, 1.05])\n",
    "plt.xlabel('False Positive Rate')\n",
    "plt.ylabel('True Positive Rate')\n",
    "plt.title('ROC- Curve')\n",
    "plt.legend(loc=\"lower right\")\n",
    "plt.show()"
   ]
  }
 ],
 "metadata": {
  "kernelspec": {
   "display_name": "Python 3",
   "language": "python",
   "name": "python3"
  },
  "language_info": {
   "codemirror_mode": {
    "name": "ipython",
    "version": 3
   },
   "file_extension": ".py",
   "mimetype": "text/x-python",
   "name": "python",
   "nbconvert_exporter": "python",
   "pygments_lexer": "ipython3",
   "version": "3.6.3"
  }
 },
 "nbformat": 4,
 "nbformat_minor": 2
}
