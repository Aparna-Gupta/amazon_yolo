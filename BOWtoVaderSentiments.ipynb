{
 "cells": [
  {
   "cell_type": "code",
   "execution_count": 18,
   "metadata": {},
   "outputs": [],
   "source": [
    "import nltk\n",
    "from nltk.sentiment.vader import SentimentIntensityAnalyzer\n",
    "\n",
    "def getSentimentForText(text):\n",
    "    sia = SentimentIntensityAnalyzer()\n",
    "    sentiments = sia.polarity_scores(text)\n",
    "    return sentiments\n"
   ]
  },
  {
   "cell_type": "code",
   "execution_count": 3,
   "metadata": {
    "collapsed": true
   },
   "outputs": [],
   "source": [
    "import json\n",
    "\n",
    "json_data=open('./out/HomeKitchenCleanBOWDict.json').read()\n",
    "HomeKitchenCleanBOWDict = json.loads(json_data)"
   ]
  },
  {
   "cell_type": "code",
   "execution_count": 5,
   "metadata": {
    "scrolled": true
   },
   "outputs": [
    {
     "name": "stdout",
     "output_type": "stream",
     "text": [
      "{'neg': 0.045, 'neu': 0.683, 'pos': 0.272, 'compound': 0.9635}\n"
     ]
    }
   ],
   "source": [
    "getSentimentForText(HomeKitchenCleanBOWDict['B008UXJ21C']['Best review'])"
   ]
  },
  {
   "cell_type": "code",
   "execution_count": 15,
   "metadata": {
    "collapsed": true
   },
   "outputs": [
    {
     "data": {
      "text/plain": [
       "'use bag inside use unfortunately bag fell inside old ones ruined party city sells summer party coming fall amazon came rescue party flatten put rubber band around store party goods highly recommend'"
      ]
     },
     "execution_count": 15,
     "metadata": {},
     "output_type": "execute_result"
    }
   ],
   "source": [
    "' '.join(HomeKitchenCleanBOWDict['B008UXJ21C']['reviewBow'])"
   ]
  },
  {
   "cell_type": "code",
   "execution_count": 22,
   "metadata": {
    "scrolled": true
   },
   "outputs": [
    {
     "data": {
      "text/plain": [
       "{'compound': 0.902, 'neg': 0.117, 'neu': 0.488, 'pos': 0.395}"
      ]
     },
     "execution_count": 22,
     "metadata": {},
     "output_type": "execute_result"
    }
   ],
   "source": [
    "getSentimentForText(' '.join(HomeKitchenCleanBOWDict['B008UXJ21C']['reviewBow']))"
   ]
  },
  {
   "cell_type": "code",
   "execution_count": 19,
   "metadata": {},
   "outputs": [],
   "source": [
    "HomeKitchenCleanBOWSentimentDict = {}\n",
    "for asin in HomeKitchenCleanBOWDict:\n",
    "    HomeKitchenCleanBOWSentimentDict[asin] = HomeKitchenCleanBOWDict[asin]\n",
    "    HomeKitchenCleanBOWSentimentDict[asin]['descriptionSentiment'] = \\\n",
    "                        getSentimentForText(' '.join(HomeKitchenCleanBOWDict[asin]['descriptionBow']))\n",
    "    HomeKitchenCleanBOWSentimentDict[asin]['reviewSentiment'] = \\\n",
    "                        getSentimentForText(' '.join(HomeKitchenCleanBOWDict[asin]['reviewBow']))\n"
   ]
  },
  {
   "cell_type": "code",
   "execution_count": 20,
   "metadata": {},
   "outputs": [
    {
     "data": {
      "text/plain": [
       "{'Best review': 'We use a bag inside these and use them over and over. Unfortunately, a bag fell inside and our old ones were ruined.  Party City only sells these during the summer but we had a party coming up in the fall.  Amazon came to the rescue again.  After the party, we just flatten them, put a rubber band around them, and store them with the other party goods.  Highly recommend',\n",
       " 'description': 'Comes with a recyclable lid for bins.',\n",
       " 'descriptionBow': ['comes', 'recyclable', 'lid', 'bins'],\n",
       " 'descriptionSentiment': {'compound': 0.0, 'neg': 0.0, 'neu': 1.0, 'pos': 0.0},\n",
       " 'reviewBow': ['use',\n",
       "  'bag',\n",
       "  'inside',\n",
       "  'use',\n",
       "  'unfortunately',\n",
       "  'bag',\n",
       "  'fell',\n",
       "  'inside',\n",
       "  'old',\n",
       "  'ones',\n",
       "  'ruined',\n",
       "  'party',\n",
       "  'city',\n",
       "  'sells',\n",
       "  'summer',\n",
       "  'party',\n",
       "  'coming',\n",
       "  'fall',\n",
       "  'amazon',\n",
       "  'came',\n",
       "  'rescue',\n",
       "  'party',\n",
       "  'flatten',\n",
       "  'put',\n",
       "  'rubber',\n",
       "  'band',\n",
       "  'around',\n",
       "  'store',\n",
       "  'party',\n",
       "  'goods',\n",
       "  'highly',\n",
       "  'recommend'],\n",
       " 'reviewSentiment': {'compound': 0.902,\n",
       "  'neg': 0.117,\n",
       "  'neu': 0.488,\n",
       "  'pos': 0.395},\n",
       " 'salesRank': {'Home &amp; Kitchen': 134588},\n",
       " 'title': 'Flings Bins EVERYDAY Home POP UP Recycle - 3 Pack'}"
      ]
     },
     "execution_count": 20,
     "metadata": {},
     "output_type": "execute_result"
    }
   ],
   "source": [
    "HomeKitchenCleanBOWSentimentDict['B008UXJ21C']"
   ]
  },
  {
   "cell_type": "code",
   "execution_count": 23,
   "metadata": {
    "collapsed": true
   },
   "outputs": [],
   "source": [
    "with open('./out/HomeKitchenCleanBOWSentimentDict.json', 'w') as outfile:\n",
    "    json.dump(HomeKitchenCleanBOWSentimentDict, outfile)"
   ]
  }
 ],
 "metadata": {
  "kernelspec": {
   "display_name": "Python [conda root]",
   "language": "python",
   "name": "conda-root-py"
  },
  "language_info": {
   "codemirror_mode": {
    "name": "ipython",
    "version": 3
   },
   "file_extension": ".py",
   "mimetype": "text/x-python",
   "name": "python",
   "nbconvert_exporter": "python",
   "pygments_lexer": "ipython3",
   "version": "3.6.2"
  }
 },
 "nbformat": 4,
 "nbformat_minor": 2
}
