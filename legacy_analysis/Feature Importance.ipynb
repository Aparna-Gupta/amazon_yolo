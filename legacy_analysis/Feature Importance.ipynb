{
 "cells": [
  {
   "cell_type": "code",
   "execution_count": 2,
   "metadata": {
    "collapsed": true
   },
   "outputs": [],
   "source": [
    "import pandas as pd\n",
    "import matplotlib.pyplot as plt\n",
    "import numpy as np"
   ]
  },
  {
   "cell_type": "code",
   "execution_count": 4,
   "metadata": {
    "collapsed": true
   },
   "outputs": [],
   "source": [
    "from sklearn.ensemble import RandomForestClassifier\n",
    "from xgboost import XGBClassifier"
   ]
  },
  {
   "cell_type": "code",
   "execution_count": 6,
   "metadata": {
    "collapsed": true
   },
   "outputs": [],
   "source": [
    "from sklearn.metrics import precision_score,recall_score,log_loss,accuracy_score,f1_score\n",
    "%matplotlib inline"
   ]
  },
  {
   "cell_type": "code",
   "execution_count": 55,
   "metadata": {
    "collapsed": true
   },
   "outputs": [],
   "source": [
    "dataset = pd.read_csv(r'D:\\NDSSL\\sd.csv')\n",
    "dataset.drop('geometry',axis=1,inplace=True)\n",
    "dataset.drop('x_coord',axis=1,inplace=True)\n",
    "dataset.drop('y_coord',axis=1,inplace=True)\n",
    "#dataset.drop('Unnamed',inplace=True)"
   ]
  },
  {
   "cell_type": "code",
   "execution_count": 40,
   "metadata": {
    "collapsed": true
   },
   "outputs": [],
   "source": [
    "#print(dataset)"
   ]
  },
  {
   "cell_type": "code",
   "execution_count": 56,
   "metadata": {},
   "outputs": [
    {
     "name": "stdout",
     "output_type": "stream",
     "text": [
      "(12925, 18)\n"
     ]
    }
   ],
   "source": [
    "print(np.shape(dataset))"
   ]
  },
  {
   "cell_type": "code",
   "execution_count": 57,
   "metadata": {
    "collapsed": true
   },
   "outputs": [],
   "source": [
    "from sklearn.model_selection import train_test_split "
   ]
  },
  {
   "cell_type": "code",
   "execution_count": 59,
   "metadata": {
    "collapsed": true
   },
   "outputs": [],
   "source": [
    "#features\n",
    "#X = dataset.columns\n",
    "features = ['ownerocc', 'pool', 'totalLvg','parView', 'acreage', 'totalVal', 'bedrooms', 'baths', 'numCarStor','asrYear', \n",
    "     'csirating', 'zip', 'ownAdopt', 'leaseAdopt','monAdopt', 'aveKwh']\n",
    "#target variable\n",
    "target = 'adopt'\n",
    "X = dataset[features]\n",
    "y = dataset[target]"
   ]
  },
  {
   "cell_type": "code",
   "execution_count": 88,
   "metadata": {},
   "outputs": [
    {
     "name": "stdout",
     "output_type": "stream",
     "text": [
      "(10340, 16) (10340,)\n",
      "(2585, 16) (2585,)\n"
     ]
    }
   ],
   "source": [
    "# create training and testing vars\n",
    "X_train, X_test, y_train, y_test = train_test_split(X, y, test_size=0.2, random_state=42)\n",
    "print(X_train.shape, y_train.shape)\n",
    "print(X_test.shape, y_test.shape)"
   ]
  },
  {
   "cell_type": "code",
   "execution_count": 89,
   "metadata": {},
   "outputs": [
    {
     "data": {
      "text/plain": [
       "RandomForestClassifier(bootstrap=True, class_weight=None, criterion='gini',\n",
       "            max_depth=None, max_features='auto', max_leaf_nodes=None,\n",
       "            min_impurity_decrease=0.0, min_impurity_split=None,\n",
       "            min_samples_leaf=1, min_samples_split=2,\n",
       "            min_weight_fraction_leaf=0.0, n_estimators=50, n_jobs=8,\n",
       "            oob_score=False, random_state=None, verbose=0,\n",
       "            warm_start=False)"
      ]
     },
     "execution_count": 89,
     "metadata": {},
     "output_type": "execute_result"
    }
   ],
   "source": [
    "model = RandomForestClassifier(50,n_jobs=8)\n",
    "model.fit(X_train,y_train)"
   ]
  },
  {
   "cell_type": "code",
   "execution_count": 107,
   "metadata": {},
   "outputs": [
    {
     "name": "stdout",
     "output_type": "stream",
     "text": [
      "Acc: 1.00000\n",
      "F1: 1.00000\n"
     ]
    }
   ],
   "source": [
    "predictions_prob = model.predict_proba(X_test)\n",
    "predictions = model.predict(X_test)\n",
    "#print(predictions)\n",
    "log_loss_score = log_loss(y_test,predictions_prob)\n",
    "acc = accuracy_score(y_test,predictions)\n",
    "f1 = f1_score(y_test,predictions)\n",
    "\n",
    "#print('Log loss: %.5f' % log_loss_score)\n",
    "print('Acc: %.5f' % acc)\n",
    "print('F1: %.5f' % f1)\n",
    "\n",
    "#cross-validate to avoid overfitting."
   ]
  },
  {
   "cell_type": "code",
   "execution_count": 91,
   "metadata": {
    "collapsed": true
   },
   "outputs": [],
   "source": [
    "# Feature Importance\n",
    "from matplotlib import rcParams\n",
    "rcParams.update({'figure.autolayout': True})\n",
    "rcParams.update({'font.size': 44})"
   ]
  },
  {
   "cell_type": "code",
   "execution_count": 92,
   "metadata": {},
   "outputs": [
    {
     "data": {
      "text/plain": [
       "XGBClassifier(base_score=0.5, colsample_bylevel=1, colsample_bytree=1,\n",
       "       gamma=0, learning_rate=0.1, max_delta_step=0, max_depth=3,\n",
       "       min_child_weight=1, missing=None, n_estimators=500, nthread=-1,\n",
       "       objective='binary:logistic', reg_alpha=0, reg_lambda=1,\n",
       "       scale_pos_weight=1, seed=0, silent=True, subsample=1)"
      ]
     },
     "execution_count": 92,
     "metadata": {},
     "output_type": "execute_result"
    }
   ],
   "source": [
    "model = XGBClassifier(n_estimators=500)\n",
    "model.fit(X, y)"
   ]
  },
  {
   "cell_type": "code",
   "execution_count": 110,
   "metadata": {
    "collapsed": true
   },
   "outputs": [],
   "source": [
    "#from xgboost import plot_importance\n",
    "feature_importance = model.feature_importances_\n",
    "\n",
    "#plt.figure(figsize=(19.2 * 2, 10.8 / 1.3 * 3))\n",
    "#plt.yscale('log', nonposy='clip')\n",
    "\n",
    "#plt.tight_layout()\n",
    "#plt.bar(range(len(feature_importance)), feature_importance, align='center')\n",
    "#plt.xticks(range(len(feature_importance)), features, rotation='vertical')\n",
    "#plt.title('Feature importance')\n",
    "#plt.ylabel('Importance score')\n",
    "#plt.xlabel('Features')\n",
    "#plt.savefig('feature_importance.jpg')\n",
    "#plt.show()"
   ]
  },
  {
   "cell_type": "code",
   "execution_count": 104,
   "metadata": {},
   "outputs": [
    {
     "data": {
      "text/html": [
       "<div>\n",
       "<style scoped>\n",
       "    .dataframe tbody tr th:only-of-type {\n",
       "        vertical-align: middle;\n",
       "    }\n",
       "\n",
       "    .dataframe tbody tr th {\n",
       "        vertical-align: top;\n",
       "    }\n",
       "\n",
       "    .dataframe thead th {\n",
       "        text-align: right;\n",
       "    }\n",
       "</style>\n",
       "<table border=\"1\" class=\"dataframe\">\n",
       "  <thead>\n",
       "    <tr style=\"text-align: right;\">\n",
       "      <th></th>\n",
       "      <th>weights</th>\n",
       "    </tr>\n",
       "  </thead>\n",
       "  <tbody>\n",
       "    <tr>\n",
       "      <th>totalVal</th>\n",
       "      <td>0.510783</td>\n",
       "    </tr>\n",
       "    <tr>\n",
       "      <th>totalLvg</th>\n",
       "      <td>0.282633</td>\n",
       "    </tr>\n",
       "    <tr>\n",
       "      <th>monAdopt</th>\n",
       "      <td>0.068104</td>\n",
       "    </tr>\n",
       "    <tr>\n",
       "      <th>asrYear</th>\n",
       "      <td>0.060159</td>\n",
       "    </tr>\n",
       "    <tr>\n",
       "      <th>ownAdopt</th>\n",
       "      <td>0.026107</td>\n",
       "    </tr>\n",
       "    <tr>\n",
       "      <th>leaseAdopt</th>\n",
       "      <td>0.023837</td>\n",
       "    </tr>\n",
       "    <tr>\n",
       "      <th>bedrooms</th>\n",
       "      <td>0.020431</td>\n",
       "    </tr>\n",
       "    <tr>\n",
       "      <th>ownerocc</th>\n",
       "      <td>0.006810</td>\n",
       "    </tr>\n",
       "    <tr>\n",
       "      <th>baths</th>\n",
       "      <td>0.001135</td>\n",
       "    </tr>\n",
       "    <tr>\n",
       "      <th>pool</th>\n",
       "      <td>0.000000</td>\n",
       "    </tr>\n",
       "    <tr>\n",
       "      <th>parView</th>\n",
       "      <td>0.000000</td>\n",
       "    </tr>\n",
       "    <tr>\n",
       "      <th>acreage</th>\n",
       "      <td>0.000000</td>\n",
       "    </tr>\n",
       "    <tr>\n",
       "      <th>numCarStor</th>\n",
       "      <td>0.000000</td>\n",
       "    </tr>\n",
       "    <tr>\n",
       "      <th>csirating</th>\n",
       "      <td>0.000000</td>\n",
       "    </tr>\n",
       "    <tr>\n",
       "      <th>zip</th>\n",
       "      <td>0.000000</td>\n",
       "    </tr>\n",
       "    <tr>\n",
       "      <th>aveKwh</th>\n",
       "      <td>0.000000</td>\n",
       "    </tr>\n",
       "  </tbody>\n",
       "</table>\n",
       "</div>"
      ],
      "text/plain": [
       "             weights\n",
       "totalVal    0.510783\n",
       "totalLvg    0.282633\n",
       "monAdopt    0.068104\n",
       "asrYear     0.060159\n",
       "ownAdopt    0.026107\n",
       "leaseAdopt  0.023837\n",
       "bedrooms    0.020431\n",
       "ownerocc    0.006810\n",
       "baths       0.001135\n",
       "pool        0.000000\n",
       "parView     0.000000\n",
       "acreage     0.000000\n",
       "numCarStor  0.000000\n",
       "csirating   0.000000\n",
       "zip         0.000000\n",
       "aveKwh      0.000000"
      ]
     },
     "execution_count": 104,
     "metadata": {},
     "output_type": "execute_result"
    }
   ],
   "source": [
    "feature_importances = pd.DataFrame(model.feature_importances_, columns=['weights'], index=features)\n",
    "feature_importances.sort_values('weights',ascending=False)\n"
   ]
  }
 ],
 "metadata": {
  "kernelspec": {
   "display_name": "Python [default]",
   "language": "python",
   "name": "python3"
  },
  "language_info": {
   "codemirror_mode": {
    "name": "ipython",
    "version": 3
   },
   "file_extension": ".py",
   "mimetype": "text/x-python",
   "name": "python",
   "nbconvert_exporter": "python",
   "pygments_lexer": "ipython3",
   "version": "3.6.2"
  }
 },
 "nbformat": 4,
 "nbformat_minor": 2
}
